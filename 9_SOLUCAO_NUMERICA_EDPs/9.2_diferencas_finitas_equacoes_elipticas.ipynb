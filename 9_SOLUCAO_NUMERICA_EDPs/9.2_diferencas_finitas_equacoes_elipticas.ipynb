{
 "cells": [
  {
   "cell_type": "markdown",
   "metadata": {},
   "source": [
    "# 9.2 Diferenças Finitas: Equações Elípticas\n",
    "\n",
    "Equações elípticas são usadas tipicamente para caracterizar problemas de contorno estacionário. Para introduzir o assunto, vamos analisar um caso simples, a equação de Laplace, deduzido a partir de um contexto físico. "
   ]
  },
  {
   "cell_type": "markdown",
   "metadata": {},
   "source": [
    "## A Equação de Laplace\n",
    "\n",
    "A equação de Laplace pode ser usada para modelar diversos problemas envolvendo o potencial de uma variável desconhecida. Por simplicidade, vamos usar uma placa aquecida como contexto básico para a dedução e resolução dessa EDP elíptica.\n",
    "\n",
    "A figura a seguir mostra um elemento na face de uma placa retangular fina de espessura $\\Delta z$. A placa é isolada em toda parte, exceto nas bordas, em que a temperatura é constante. Assim, a transferência de calor é limitada às direções $x$ e $y$. \n",
    "\n",
    "\n",
    "\n",
    "No estado estacionário, o fluxo de calor para dentro do elemento em um período unitário $\\Delta t$ deve ser igual ao fluxo para fora, como em\n"
   ]
  },
  {
   "cell_type": "markdown",
   "metadata": {},
   "source": [
    "Desejamos agora resolver numericamente um problema de condução de calor, usando a equação de Laplace\n",
    "\n",
    "$$ \\frac{\\partial^2 T}{\\partial x^2} + \\frac{\\partial^2 T}{\\partial x^2} = 0$$\n",
    "\n",
    "A eq. de Laplace é uma EDP elíptica usada para modelar diversos problemas de engenharia envolvendo o potencial de uma variável desconhecida.\n",
    "\n",
    "Em razão de sua simplicidade e aplicabilidade, será utilizado como contexto fundamental para o desenvolvimento desse trabalho, uma placa aquecida.\n",
    "\n",
    "Para a solução numérica por diferenças finitas, trata-se a placa como uma grade de pontos onde as derivadas parciais da equação de Laplace são substituidas por aproximações. As aproximações usadas são dadas pelas fórmulas de diferença dividida centrada, baseadas na expanção em série de Taylor (Chapra, p.578). Assim, a EDP é transformada em uma equação de diferença algébrica , como descrito a seguir.\n",
    "\n",
    "$$ \\frac{\\partial^2 T}{\\partial x^2} = \\frac{T_{i+1,j}-2T_{i,j}+T_{i-1,j}}{\\Delta x^2}$$\n",
    "e\n",
    "$$ \\frac{\\partial^2 T}{\\partial x^2} = \\frac{T_{i,j+1}-2T_{i,j}+T_{i,j-1}}{\\Delta y^2}$$\n",
    "\n",
    "Substituindo essas expressõesn na equação de Laplace, obtem-se\n",
    "\n",
    "$$\\frac{T_{i+1,j}-2T_{i,j}+T_{i-1,j}}{\\Delta x^2} + \\frac{T_{i,j+1}-2T_{i,j}+T_{i,j-1}}{\\Delta y^2} = 0 $$\n",
    "\n",
    "Para uma grade quadrada, ou seja, em que $\\Delta x = \\Delta y$, a equação pode ser reescrita como \n",
    "\n",
    "$$ T_{i+1,j}+T_{i-1,j}+T_{i,j+1}+T_{i,j-1}- 4T_{i,j}=0$$\n",
    "\n",
    "ou \n",
    "\n",
    "$$ T_{i,j}=\\cfrac{T_{i+1,j}+T_{i-1,j}+T_{i,j+1}+T_{i,j-1}}{4} $$\n",
    "\n",
    "a qual é válida para todos pontos no interior da placa. Essa relação é conhecida como *equação de diferenças de Laplace*.\n"
   ]
  },
  {
   "cell_type": "code",
   "execution_count": 4,
   "metadata": {},
   "outputs": [
    {
     "data": {
      "image/png": "[encoded data removed]",
      "text/plain": [
       "<matplotlib.figure.Figure at 0x1b4e8ed1ba8>"
      ]
     },
     "metadata": {},
     "output_type": "display_data"
    }
   ],
   "source": [
    "% matplotlib inline\n",
    "from matplotlib.pyplot import *\n",
    "import matplotlib\n",
    "import numpy as np\n",
    "\n",
    "\n",
    "T = np.zeros([30,30])\n",
    "T[-1, :] = 50\n",
    "T[:, -1] = 100\n",
    "T[0,  :] = 75 \n",
    "\n",
    "lamb = 1.5\n",
    "\n",
    "#print(T)\n",
    "for n in range(50):\n",
    "    #print (\"iteração:\", n+1)\n",
    "    for i in range(1,len(T)-1):\n",
    "        for j in range(1,len(T)-1):\n",
    "            Tnovo = (T[i-1,j]+T[i+1,j]+T[i,j-1]+T[i,j+1])/4\n",
    "            T[i,j]=lamb*Tnovo+(1-lamb)*T[i,j]\n",
    "            #print (\"T[\",i,\",\",j,\"]=\", T[i,j])\n",
    "        \n",
    "# tabela de cores para o plot\n",
    "dic = {'red': ((0., 1, 1), (0.00000000001, 0, 0), (0.66, 1, 1), (0.89,1, 1), (1, 0.5, 0.5)), \n",
    "       'green': ((0., 1, 1), (0.00000000001, 0, 0), (0.375,1, 1), (0.64,1, 1), (0.91,0,0), (1, 0, 0)), \n",
    "       'blue': ((0., 1, 1), (0.00000000001, 1, 1), (0.34, 1, 1), (0.65,0, 0), (1, 0, 0))}\n",
    "my_cmap = matplotlib.colors.LinearSegmentedColormap('my_colormap',dic,256)\n",
    "\n",
    "# plot\n",
    "pcolor(T,cmap=my_cmap)\n",
    "colorbar()\n",
    "show()"
   ]
  },
  {
   "cell_type": "code",
   "execution_count": null,
   "metadata": {},
   "outputs": [],
   "source": []
  }
 ],
 "metadata": {
  "kernelspec": {
   "display_name": "Python 3",
   "language": "python",
   "name": "python3"
  },
  "language_info": {
   "codemirror_mode": {
    "name": "ipython",
    "version": 3
   },
   "file_extension": ".py",
   "mimetype": "text/x-python",
   "name": "python",
   "nbconvert_exporter": "python",
   "pygments_lexer": "ipython3",
   "version": "3.6.4"
  }
 },
 "nbformat": 4,
 "nbformat_minor": 2
}

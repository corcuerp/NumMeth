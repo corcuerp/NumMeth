{
 "cells": [
  {
   "cell_type": "markdown",
   "metadata": {
    "slideshow": {
     "slide_type": "slide"
    }
   },
   "source": [
    "# Chapter 3: Interpolation and Curve Fitting\n",
    "\n",
    "![xkcd](https://imgs.xkcd.com/comics/curve_fitting_2x.png)\n",
    "Source: [xkcd](https://xkcd.com/2048)"
   ]
  },
  {
   "cell_type": "markdown",
   "metadata": {
    "slideshow": {
     "slide_type": "slide"
    }
   },
   "source": [
    "## Introduction\n",
    "\n",
    "Let's consider a set of $n+1$ 2D data points:\n",
    "\n",
    "$$\n",
    "\\begin{array}{|c|c|c|c|c|}\n",
    "\\hline\n",
    "x_0 & x_1 & x_2 & \\ldots & x_n \\\\\n",
    "\\hline\n",
    "y_0 & y_1 & y_2 & \\ldots & y_n \\\\\n",
    "\\hline\n",
    "\\end{array}\n",
    "$$\n",
    "For instance, let's generate and plot $n$ random data points:"
   ]
  },
  {
   "cell_type": "code",
   "execution_count": 1,
   "metadata": {
    "slideshow": {
     "slide_type": "fragment"
    }
   },
   "outputs": [],
   "source": [
    "from numpy import array, arange, zeros\n",
    "from random import random\n",
    "\n",
    "def get_random_points(n):\n",
    "    '''\n",
    "    Generates n points where x[i] = i and y[i]\n",
    "    is a random number between 0 and 1.\n",
    "    '''\n",
    "    x = arange(n)\n",
    "    y = zeros(n)\n",
    "    for i in range(n):\n",
    "        y[i] = random()\n",
    "    return x, y"
   ]
  },
  {
   "cell_type": "code",
   "execution_count": 2,
   "metadata": {
    "slideshow": {
     "slide_type": "slide"
    }
   },
   "outputs": [
    {
     "data": {
      "text/plain": [
       "<Figure size 640x480 with 1 Axes>"
      ]
     },
     "metadata": {},
     "output_type": "display_data"
    }
   ],
   "source": [
    "import matplotlib.pyplot as plt\n",
    "n = 4\n",
    "x, y = get_random_points(n)\n",
    "plt.plot(x, y, 'x')\n",
    "plt.show()"
   ]
  },
  {
   "cell_type": "markdown",
   "metadata": {
    "slideshow": {
     "slide_type": "slide"
    }
   },
   "source": [
    "### Interpolation\n",
    "\n",
    "Interpolation consists in finding a function $f$ that *passes through* $(x_i, y_i)$: \n",
    "$$\n",
    "y_i = f(x_i) \\quad (i=0, 1, \\ldots, n)\n",
    "$$\n",
    "\n",
    "We will study two types of interpolation functions:\n",
    "1. Polynomial interpolation\n",
    "2. Cubic-spline interpolation\n",
    "\n",
    "Example: polynomial interpolation with [Scipy](https://scipy.org):"
   ]
  },
  {
   "cell_type": "code",
   "execution_count": 3,
   "metadata": {
    "slideshow": {
     "slide_type": "fragment"
    }
   },
   "outputs": [
    {
     "data": {
      "image/png": "[encoded data removed]",
      "text/plain": [
       "<Figure size 432x288 with 1 Axes>"
      ]
     },
     "metadata": {
      "needs_background": "light"
     },
     "output_type": "display_data"
    }
   ],
   "source": [
    "from scipy.interpolate import lagrange # new module: scipy. Works with numpy arrays!\n",
    "poly = lagrange(x, y)\n",
    "xfine = arange(0, n, 0.1)\n",
    "plt.plot(xfine, poly(xfine), \"-\", x, y, \"x\")\n",
    "plt.ylim((-1,1.5))\n",
    "plt.show()"
   ]
  },
  {
   "cell_type": "markdown",
   "metadata": {
    "slideshow": {
     "slide_type": "slide"
    }
   },
   "source": [
    "Example: cubic spline interpolation with Scipy:"
   ]
  },
  {
   "cell_type": "code",
   "execution_count": 4,
   "metadata": {
    "slideshow": {
     "slide_type": "fragment"
    }
   },
   "outputs": [
    {
     "data": {
      "image/png": "[encoded data removed]",
      "text/plain": [
       "<Figure size 432x288 with 1 Axes>"
      ]
     },
     "metadata": {
      "needs_background": "light"
     },
     "output_type": "display_data"
    }
   ],
   "source": [
    "from scipy.interpolate import CubicSpline # that's a class\n",
    "spline = CubicSpline(x, y)\n",
    "plt.plot(xfine, spline(xfine), \"-\", x, y, \"o\")\n",
    "plt.ylim((-1, 1.5))\n",
    "plt.show()"
   ]
  },
  {
   "cell_type": "markdown",
   "metadata": {
    "slideshow": {
     "slide_type": "slide"
    }
   },
   "source": [
    "But polynomial and cubic spline interpolation seem to be doing the same thing, so why do we need cubic splines?"
   ]
  },
  {
   "cell_type": "markdown",
   "metadata": {
    "slideshow": {
     "slide_type": "fragment"
    }
   },
   "source": [
    "*Stay tuned...*"
   ]
  },
  {
   "cell_type": "markdown",
   "metadata": {
    "slideshow": {
     "slide_type": "slide"
    }
   },
   "source": [
    "### Curve fitting\n",
    "\n",
    "Consists in finding a function $f$ that *approximates* $(x_i, y_i)$. In particular, least-square fitting finds $f$ that minimizes:\n",
    "$$\n",
    "\\sum_{i=0}^n\\left(y_i - f(x_i)\\right)^2\n",
    "$$"
   ]
  },
  {
   "cell_type": "markdown",
   "metadata": {
    "slideshow": {
     "slide_type": "fragment"
    }
   },
   "source": [
    "Example: f is a straight line."
   ]
  },
  {
   "cell_type": "code",
   "execution_count": 5,
   "metadata": {
    "slideshow": {
     "slide_type": "fragment"
    }
   },
   "outputs": [
    {
     "data": {
      "image/png": "[encoded data removed]",
      "text/plain": [
       "<Figure size 432x288 with 1 Axes>"
      ]
     },
     "metadata": {
      "needs_background": "light"
     },
     "output_type": "display_data"
    }
   ],
   "source": [
    "from numpy import polyfit, polyval\n",
    "line = polyfit(x, y, 1)\n",
    "plt.plot(xfine, polyval(line, xfine), '-', x, y, 'x')\n",
    "plt.ylim((-1, 1.5))\n",
    "plt.show()"
   ]
  },
  {
   "cell_type": "markdown",
   "metadata": {
    "slideshow": {
     "slide_type": "slide"
    }
   },
   "source": [
    "Example: f is a degree 2 polynomial"
   ]
  },
  {
   "cell_type": "code",
   "execution_count": 6,
   "metadata": {
    "slideshow": {
     "slide_type": "fragment"
    }
   },
   "outputs": [
    {
     "data": {
      "image/png": "[encoded data removed]",
      "text/plain": [
       "<Figure size 432x288 with 1 Axes>"
      ]
     },
     "metadata": {
      "needs_background": "light"
     },
     "output_type": "display_data"
    }
   ],
   "source": [
    "from numpy import polyfit, polyval\n",
    "poly3 = polyfit(x, y, 2)\n",
    "plt.plot(xfine, polyval(poly3, xfine), '-', x, y, 'x')\n",
    "plt.ylim((-1, 1.5))\n",
    "plt.show()"
   ]
  },
  {
   "cell_type": "markdown",
   "metadata": {
    "slideshow": {
     "slide_type": "slide"
    }
   },
   "source": [
    "## Polynomial Interpolation\n",
    "\n",
    "There is one and only one polynomial $P_n$ of degree $n$ that passes through $n+1$ distinct points. \n",
    "\n",
    "This polynomial can be constructed in different ways. Here we will look at:\n",
    "1. Lagrange method\n",
    "2. Newton method\n",
    "\n",
    "### Lagrange method\n",
    "\n",
    "Lagrange method expresses $P_n$ as follows:\n",
    "$$\n",
    "P_n(x) = \\sum_{i=0}^n y_i l_i(x)\n",
    "$$\n",
    "where $\\forall i \\in |[0, n]|$:\n",
    "* $l_i$ is a polynomial of degree n\n",
    "* $l_i(x_i)$ = 1\n",
    "* $l_i(x_j)$ = 0, $\\quad \\forall j \\neq i$\n"
   ]
  },
  {
   "cell_type": "markdown",
   "metadata": {
    "slideshow": {
     "slide_type": "fragment"
    }
   },
   "source": [
    "The Lagrange polynomials are expressed as follows:\n",
    "\n",
    "$$\n",
    "\\forall i \\in |[0, n]|, \\quad l_i(x) = \\prod_{j=0 \\\\ j \\neq i}^n \\frac{x-x_j}{x_i-x_j}\n",
    "$$\n",
    "(Warning: there is a typo in the expression of $l_i$ in the textbook)\n",
    "\n",
    "For instance, with n=2:\n",
    "\n",
    "$$\n",
    "l_0(x) = \\frac{(x-x_1)(x-x_2)}{(x_0-x_1)(x_0-x_2)} \\quad\n",
    "l_1(x) = \\frac{(x-x_0)(x-x_2)}{(x_1-x_0)(x_1-x_2)} \\quad\n",
    "l_2(x) = \\frac{(x-x_0)(x-x_1)}{(x_2-x_0)(x_2-x_1)}\n",
    "$$\n",
    "\n"
   ]
  },
  {
   "cell_type": "markdown",
   "metadata": {
    "slideshow": {
     "slide_type": "slide"
    }
   },
   "source": [
    "#### Illustration"
   ]
  },
  {
   "cell_type": "code",
   "execution_count": 7,
   "metadata": {
    "slideshow": {
     "slide_type": "fragment"
    }
   },
   "outputs": [],
   "source": [
    "def lagrange_poly(x_data, i, x):\n",
    "    '''\n",
    "    Evaluation of l_i(x) where x_data are the data points\n",
    "    '''\n",
    "    assert(i < len(x_data)), i\n",
    "    p = 1\n",
    "    for j in range(len(x_data)):\n",
    "        if j == i:\n",
    "            continue\n",
    "        p *= (x-x_data[j])/(x_data[i]-x_data[j])\n",
    "    return p"
   ]
  },
  {
   "cell_type": "code",
   "execution_count": 8,
   "metadata": {
    "slideshow": {
     "slide_type": "slide"
    }
   },
   "outputs": [
    {
     "data": {
      "image/png": "[encoded data removed]",
      "text/plain": [
       "<Figure size 432x288 with 1 Axes>"
      ]
     },
     "metadata": {
      "needs_background": "light"
     },
     "output_type": "display_data"
    }
   ],
   "source": [
    "from utils import plot_lagrange_poly  # a module with plotting function. Not critical to the course but feel free to check it out\n",
    "plot_lagrange_poly(lagrange_poly)"
   ]
  },
  {
   "cell_type": "markdown",
   "metadata": {
    "slideshow": {
     "slide_type": "slide"
    }
   },
   "source": [
    "#### Interpolation"
   ]
  },
  {
   "cell_type": "code",
   "execution_count": 9,
   "metadata": {
    "slideshow": {
     "slide_type": "fragment"
    }
   },
   "outputs": [],
   "source": [
    "def interpol_lagrange(x_data, y_data, x):\n",
    "    '''\n",
    "        Returns the value of P_n at x, computed with Lagrange's method\n",
    "    '''\n",
    "    s = 0\n",
    "    for i in range(len(x_data)):\n",
    "        s += lagrange_poly(x_data, i, x)*y_data[i]\n",
    "    return s"
   ]
  },
  {
   "cell_type": "markdown",
   "metadata": {
    "slideshow": {
     "slide_type": "slide"
    }
   },
   "source": [
    "Illustration"
   ]
  },
  {
   "cell_type": "code",
   "execution_count": 10,
   "metadata": {
    "slideshow": {
     "slide_type": "fragment"
    }
   },
   "outputs": [
    {
     "data": {
      "image/png": "[encoded data removed]",
      "text/plain": [
       "<Figure size 432x288 with 1 Axes>"
      ]
     },
     "metadata": {
      "needs_background": "light"
     },
     "output_type": "display_data"
    }
   ],
   "source": [
    "from utils import plot_interpolator\n",
    "\n",
    "# Points to interpolate\n",
    "x_data, y_data = get_random_points(5)\n",
    "\n",
    "plot_interpolator(interpol_lagrange, x_data, y_data, title=\"Interpolation with Lagrange Polynomial\")"
   ]
  },
  {
   "cell_type": "markdown",
   "metadata": {
    "slideshow": {
     "slide_type": "slide"
    }
   },
   "source": [
    "### Interpolation Error\n",
    "\n",
    "It can be shown that:\n",
    "\n",
    "$$\n",
    "\\forall x \\in \\mathbb{R}, \\quad \\exists \\xi \\in [x_0, x_n], \\quad f(x) - P_n(x) = \\frac{(x-x_0)(x-x_1)\\ldots(x-x_n)}{(n+1)!}f^{(n+1)}(\\xi)\n",
    "$$\n",
    "\n",
    "This can be used to find an upper bound of the interpolation error, as shown in the example below."
   ]
  },
  {
   "cell_type": "markdown",
   "metadata": {
    "slideshow": {
     "slide_type": "fragment"
    }
   },
   "source": [
    "#### Example\n",
    "\n",
    "(from E. Doedel's lecture notes)\n",
    "$$\n",
    "n = 2, \\quad f(x) = e^x, \\quad x_0=0, \\quad x_1=1, \\quad x_2=2\n",
    "$$\n",
    "\n",
    "$f^{(n+1)}(x)=f^{(3)}(x)=e^x$.\n",
    "\n",
    "Let's estimate the error for $x=1.5$:\n",
    "\n",
    "$$\n",
    "\\exists \\xi \\in [0, 2], \\quad f(x) - P_n(x) = \\frac{1.5 \\times 0.5 \\times -0.5}{3 \\times 2}e^{\\xi}\n",
    "$$"
   ]
  },
  {
   "cell_type": "markdown",
   "metadata": {
    "slideshow": {
     "slide_type": "fragment"
    }
   },
   "source": [
    "$$\n",
    "\\Rightarrow f(x) - P(x) \\leq \\frac{3}{48}e^2 \\approx 0.4618\n",
    "$$"
   ]
  },
  {
   "cell_type": "markdown",
   "metadata": {
    "slideshow": {
     "slide_type": "slide"
    }
   },
   "source": [
    "The actual error is:"
   ]
  },
  {
   "cell_type": "code",
   "execution_count": 11,
   "metadata": {
    "slideshow": {
     "slide_type": "fragment"
    }
   },
   "outputs": [
    {
     "data": {
      "text/plain": [
       "0.20291833810521265"
      ]
     },
     "execution_count": 11,
     "metadata": {},
     "output_type": "execute_result"
    }
   ],
   "source": [
    "from math import exp\n",
    "x = 1.5\n",
    "#interpol_lagrange([0, 1, 2], [exp(0), exp(1), exp(2)], 1.5)\n",
    "abs(exp(x) - interpol_lagrange([0, 1, 2],\n",
    "                               [exp(0), exp(1), exp(2)],\n",
    "                               x))"
   ]
  },
  {
   "cell_type": "markdown",
   "metadata": {
    "slideshow": {
     "slide_type": "slide"
    }
   },
   "source": [
    "### Newton method\n",
    "\n",
    "The Newton method provides a better algorithm for polynomial interpolation.\n",
    "\n",
    "Here, $P_n$ is written as follows:\n",
    "\n",
    "$$\n",
    "P_n(x) = a_0 + (x-x_0)a_1 + (x-x_0)(x-x_1)a_2 + \\ldots + (x-x_0)(x-x_1)\\ldots(x-x_{n-1})a_n\n",
    "$$"
   ]
  },
  {
   "cell_type": "markdown",
   "metadata": {
    "slideshow": {
     "slide_type": "fragment"
    }
   },
   "source": [
    "which can be transformed to:\n",
    "\n",
    "$$\n",
    "P_n(x) = a_0 + (x-x_0)\\left[ a_1 + (x-x_1)\\left[a_2 + (x-x_2)\\left[a_3 + ... \\left[a_{n-1} + (x-x_{n-1})a_n \\right] \\right] \\right]\\right]\n",
    "$$"
   ]
  },
  {
   "cell_type": "markdown",
   "metadata": {
    "slideshow": {
     "slide_type": "fragment"
    }
   },
   "source": [
    "This can be evaluated through the following recurrence relation: \n",
    "$$\n",
    "P_0(x) = a_n \\quad \\mathrm{and} \\quad \\forall k \\in |[1, n]|, \\quad P_k(x) = a_{n-k} + (x-x_{n-k})P_{k-1}(x)\n",
    "$$"
   ]
  },
  {
   "cell_type": "markdown",
   "metadata": {
    "slideshow": {
     "slide_type": "slide"
    }
   },
   "source": [
    "*Once the $a_i$s are known*, the polynomial can be computed as follows:"
   ]
  },
  {
   "cell_type": "code",
   "execution_count": 12,
   "metadata": {
    "slideshow": {
     "slide_type": "fragment"
    }
   },
   "outputs": [],
   "source": [
    "def eval_poly_newton(a, x_data, x):\n",
    "    n = len(x_data) - 1\n",
    "    p = a[-1] # last element in a\n",
    "    for i in range(1, n+1):\n",
    "        p = a[n-i] + (x-x_data[n-i])*p\n",
    "    return p"
   ]
  },
  {
   "cell_type": "markdown",
   "metadata": {
    "slideshow": {
     "slide_type": "slide"
    }
   },
   "source": [
    "The coefficients $a_i$ are determined by forcing $P_n(x_i)=y_i$ for every data point:\n",
    "\n",
    "$$\n",
    "a_0 = y_0\\\\\n",
    "a_1 = \\frac{y_1-a_0}{x_1-x_0} = \\frac{y_1 - y_0}{x_1 - x_0} \\\\\n",
    "a_2 = \\frac{y_2 - a_0 - (x_2-x_0)a_1}{(x_2-x_0)(x_2-x_1)} = \\frac{\\frac{y_2 - y_0}{x_2-x_0} - \\frac{y_1 - y_0}{x_1 - x_0} }{x_2-x_1}\\\\\n",
    "\\ldots\n",
    "$$\n",
    "\n",
    "Introducing the *divided differences*:\n",
    "$$\n",
    "\\nabla y_i = \\frac{y_i-y_0}{x_i-x_0} \\quad i=1, 2, \\ldots, n\\\\\n",
    "\\nabla^2 y_i = \\frac{\\nabla y_i-\\nabla y_1}{x_i-x_1} \\quad i=2, 3, \\ldots, n\\\\\n",
    "\\nabla^3 y_i = \\frac{\\nabla^2 y_i-\\nabla^2 y_2}{x_i-x_2} \\quad i=3, 4,  \\ldots, n\\\\\n",
    "\\ldots\\\\\n",
    "\\nabla^n y_n = \\frac{\\nabla^{n-1} y_n-\\nabla^{n-1} y_{n-1}}{x_n-x_{n-1}} \n",
    "$$\n",
    "\n",
    "we have:\n",
    "$$\n",
    "a_0 = y_0, \\quad a_1 = \\nabla y_1, \\quad a_2 = \\nabla^2y_2 \\quad \\ldots \\quad a_n=\\nabla^n y_n\n",
    "$$"
   ]
  },
  {
   "cell_type": "markdown",
   "metadata": {
    "slideshow": {
     "slide_type": "slide"
    }
   },
   "source": [
    "It is convenient to work with the table below:\n",
    "\n",
    "$$\n",
    "\\begin{array}{|c|c|c|c|c|c|}\n",
    "\\hline\n",
    "x_0 & y_0 & & & & \\\\\n",
    "\\hline\n",
    "\\color{red}{x_1} & y_1 & \\color{red}{\\nabla y_1} & & & \\\\\n",
    "\\hline\n",
    "x_2 & y_2 & \\nabla y_2 & \\nabla^2 y_2 & & \\\\\n",
    "\\hline\n",
    "x_3 & y_3 & \\nabla y_3 & \\nabla^2 y_3 & \\nabla^3 y_3 & \\\\\n",
    "\\hline\n",
    "\\color{red}{x_4} & y_4 & \\color{red}{\\nabla y_4} & \\color{red}{\\nabla^2 y_4} & \\nabla^3 y_4 & \\nabla^4 y_4\\\\\n",
    "\\hline\n",
    "\\end{array}\n",
    "$$\n",
    "and to fill it in *columns* (the elements in red are used to compute $\\nabla^2 y_4$)."
   ]
  },
  {
   "cell_type": "code",
   "execution_count": 13,
   "metadata": {
    "slideshow": {
     "slide_type": "slide"
    }
   },
   "outputs": [],
   "source": [
    "def newton_coeffs(x_data, y_data):\n",
    "    '''\n",
    "    Returns the coefficients of the Newton polynomial\n",
    "    '''\n",
    "    a = y_data.copy()\n",
    "    m = x_data.size\n",
    "    assert(m == y_data.size)\n",
    "    for k in range(1, m): # go through columns of the table\n",
    "        for i in range(k, m): # go through the lines below the diagonal\n",
    "            a[i] = (a[i]-a[k-1])/(x_data[i]-x_data[k-1])\n",
    "            # print(i, k, a[i])\n",
    "        # now a contains column k of the table\n",
    "    return a\n",
    "    "
   ]
  },
  {
   "cell_type": "markdown",
   "metadata": {
    "slideshow": {
     "slide_type": "slide"
    }
   },
   "source": [
    "In the program above, a is initialized with y. After 1 iteration (now k=2), it contains the following:\n",
    "\n",
    "$$\n",
    "\\begin{array}{c}\n",
    "y_0 \\\\\n",
    "\\nabla y_1 \\\\\n",
    "\\nabla y_2 \\\\\n",
    "\\nabla y_3 \\\\\n",
    "\\nabla y_4\n",
    "\\end{array}\n",
    "$$\n",
    "so a[k-1]=a[1] contains $\\nabla y_1$."
   ]
  },
  {
   "cell_type": "markdown",
   "metadata": {
    "slideshow": {
     "slide_type": "slide"
    }
   },
   "source": [
    "Example (using the same points as before):"
   ]
  },
  {
   "cell_type": "code",
   "execution_count": 14,
   "metadata": {
    "slideshow": {
     "slide_type": "fragment"
    }
   },
   "outputs": [
    {
     "data": {
      "image/png": "[encoded data removed]",
      "text/plain": [
       "<Figure size 432x288 with 1 Axes>"
      ]
     },
     "metadata": {
      "needs_background": "light"
     },
     "output_type": "display_data"
    }
   ],
   "source": [
    "a = newton_coeffs(x_data, y_data)\n",
    "def newton_poly(x_data, y_data, x):\n",
    "    return eval_poly_newton(a, x_data, x)\n",
    "\n",
    "plot_interpolator(newton_poly, x_data, y_data, title=\"Interpolation with Newton Polynomial\")\n"
   ]
  },
  {
   "cell_type": "markdown",
   "metadata": {
    "slideshow": {
     "slide_type": "slide"
    }
   },
   "source": [
    "We get the same result as for Lagrange interpolation (why?)"
   ]
  },
  {
   "cell_type": "markdown",
   "metadata": {
    "slideshow": {
     "slide_type": "slide"
    }
   },
   "source": [
    "### Limitations of Polynomial interpolation\n",
    "\n",
    "When the number of data points increases:\n",
    "* Polynomials tend to oscillate between points, increasing the error between data points.\n",
    "* Extrapolation is very dangerous, as high-order polynomials vary rapidly.\n",
    "\n",
    "Illustration:"
   ]
  },
  {
   "cell_type": "code",
   "execution_count": 15,
   "metadata": {
    "slideshow": {
     "slide_type": "fragment"
    }
   },
   "outputs": [
    {
     "data": {
      "image/png": "[encoded data removed]",
      "text/plain": [
       "<Figure size 432x288 with 1 Axes>"
      ]
     },
     "metadata": {
      "needs_background": "light"
     },
     "output_type": "display_data"
    }
   ],
   "source": [
    "import matplotlib.pyplot as plt\n",
    "x_data, y_data = get_random_points(40)\n",
    "plot_interpolator(interpol_lagrange, x_data, y_data)"
   ]
  },
  {
   "cell_type": "markdown",
   "metadata": {
    "slideshow": {
     "slide_type": "slide"
    }
   },
   "source": [
    "That's why we need cubic splines!"
   ]
  },
  {
   "cell_type": "markdown",
   "metadata": {
    "slideshow": {
     "slide_type": "slide"
    }
   },
   "source": [
    "## Interpolation with Natural Cubic Splines\n",
    "\n",
    "Cubic Spline address the overfiting issue of high-order Polynomials when there are many data points. \n"
   ]
  },
  {
   "cell_type": "markdown",
   "metadata": {
    "slideshow": {
     "slide_type": "fragment"
    }
   },
   "source": [
    "A cubic spline $f$ is a function of class $C^2$ defined *piecewise*, on $[x_i, x_{i+1}]$:\n",
    "\n",
    "$$\n",
    "f(x) = \\begin{cases}\n",
    "f_0(x), \\quad \\forall x \\in [x_0, x_1]\\\\\n",
    "f_1(x), \\quad \\forall x \\in [x_1, x_2]\\\\\n",
    "\\ldots \\\\\n",
    "f_{n-1}(x), \\quad \\forall x \\in [x_{n-1}, x_n]\n",
    "\\end{cases}\n",
    "$$\n",
    "where $f_i$ is a **polynomial of degree 3**.\n",
    "\n",
    "### Illustration"
   ]
  },
  {
   "cell_type": "code",
   "execution_count": 26,
   "metadata": {
    "slideshow": {
     "slide_type": "slide"
    }
   },
   "outputs": [
    {
     "data": {
      "image/png": "[encoded data removed]",
      "text/plain": [
       "<Figure size 432x288 with 1 Axes>"
      ]
     },
     "metadata": {
      "needs_background": "light"
     },
     "output_type": "display_data"
    }
   ],
   "source": [
    "from utils import plot_spline\n",
    "\n",
    "# Generate n random ponts\n",
    "n = 4\n",
    "x, y = get_random_points(n)\n",
    "plot_spline(x, y)"
   ]
  },
  {
   "cell_type": "markdown",
   "metadata": {
    "slideshow": {
     "slide_type": "slide"
    }
   },
   "source": [
    "*Mechanical interpretaion*: a cubic spline models an elastic beam bended by pins located at data points a.k.a *knots*.\n",
    "\n",
    "### Characterization\n",
    "\n",
    "To determine the $f_i$, we need to solve a system with 4n unknowns (why?).\n",
    "\n",
    "Cubic splines respect the following conditions:\n",
    "0. **Interpolation**: $\\quad f(x_{i})=y_i \\quad (0 \\leq i \\leq n)$\n",
    "1. **Continuity of f**: $\\quad f_i(x_{i+1})=f_{i+1}(x_{i+1}), \\quad (1 \\leq i \\leq n-1)$\n",
    "2. **Continuity of f'** $\\quad f'_i(x_{i+1})=f'_{i+1}(x_{i+1}), \\quad (1 \\leq i \\leq n-1)$\n",
    "3. **Continuity of f''** $\\quad f''_i(x_{i+1})=f''_{i+1}(x_{i+1}), \\quad (1 \\leq i \\leq n-1)$\n",
    "\n",
    "... which makes 4n-2 equations.\n",
    "\n",
    "The remaining 2 equations will be provided by *boundary conditions*.\n",
    "\n",
    "A *natural spline* is such that:\n",
    "$$\n",
    "f''(x_0) = f''(x_n) = 0\n",
    "$$"
   ]
  },
  {
   "cell_type": "markdown",
   "metadata": {
    "slideshow": {
     "slide_type": "slide"
    }
   },
   "source": [
    "### Resolution\n",
    "\n",
    "(adapted from http://www.lce.hut.fi/teaching/S-114.1100/lect_6.pdf)\n",
    "\n",
    "We define $z_i=f''(x_i)$. The boundary conditions give $z_0=z_n=0$.\n",
    "\n",
    "On each interval, f'' is a linear polynomial and at the endpoints, $f''(x_i)=z_i$ (*continuity of f''*). Thus:\n",
    "$$\n",
    "f_i''(x)=\\frac{z_{i+1}}{h_i}(x-x_i)+\\frac{z_i}{h_i}(x_{i+1}-x)\n",
    "$$\n",
    "with $h_i=x_{i+1}-x_i \\quad$ (0 $\\leq$ i $\\leq$ n-1)."
   ]
  },
  {
   "cell_type": "markdown",
   "metadata": {
    "slideshow": {
     "slide_type": "fragment"
    }
   },
   "source": [
    "Integrating this twice gives:\n",
    "$$\n",
    "f_i(x) = \\frac{z_{i+1}}{6h_i}(x-x_i)^3+\\frac{z_i}{6h_i}(x_{i+1}-x)^3 + c_ix + d_i\n",
    "$$\n",
    "where $c_i$ and $d_i$ are integration constants.\n",
    "\n",
    "We actually adjust the integration constants such that:\n",
    "$$\n",
    "f_i(x) = \\frac{z_{i+1}}{6h_i}(x-x_i)^3+\\frac{z_i}{6h_i}(x_{i+1}-x)^3 + C_i(x-x_i) + D_i(x_{i+1}-x)\n",
    "$$\n",
    "where $C_i$ and $D_i$ are constants.\n"
   ]
  },
  {
   "cell_type": "markdown",
   "metadata": {
    "slideshow": {
     "slide_type": "fragment"
    }
   },
   "source": [
    "To determine $C_i$ and $D_i$, we impose the *interpolation conditions*: $f(x_i)=y_i$ and $f(x_{i+1})=y_{i+1}$. We obtain:\n",
    "$$\n",
    "f_i(x) = \\frac{z_{i+1}}{6h_i}(x-x_i)^3+\\frac{z_i}{6h_i}(x_{i+1}-x)^3 + \\left(\\frac{y_{i+1}}{h_i}-\\frac{h_i}{6}z_{i+1}\\right)(x-x_i) + \\left(\\frac{y_i}{h_i}-\\frac{h_i}{6}z_i\\right)(x_{i+1}-x) \\quad \\textbf{(0)}\n",
    "$$"
   ]
  },
  {
   "cell_type": "markdown",
   "metadata": {
    "slideshow": {
     "slide_type": "fragment"
    }
   },
   "source": [
    "We now determine $z_i$ using the remaining equations, the *continuity of f'*. At the interior knots $x_i$ for (1$\\leq$i$\\leq$n-1), we must have $f'_{i-1}(x_i)=f'_i(x_i)$.\n",
    "\n",
    "We have:\n",
    "$$\n",
    "f_i'(x) = \\frac{z_{i+1}}{2h_i}(x-x_i)^2 - \\frac{z_i}{2h_i}(x_{i+1}-x)^2 + \\frac{y_{i+1}}{h_i}-\\frac{h_i}{6}z_{i+1}-\\frac{y_i}{h_i}+\\frac{h_i}{6}z_i\n",
    "$$"
   ]
  },
  {
   "cell_type": "markdown",
   "metadata": {
    "slideshow": {
     "slide_type": "fragment"
    }
   },
   "source": [
    "This gives:\n",
    "$$\n",
    "f_i'(x_i) = -\\frac{h_i}{6}z_{i+1}-\\frac{h_i}{3}z_i+b_i \\quad \\textbf{(1)}\n",
    "$$\n",
    "where\n",
    "$$\n",
    "b_i = \\frac{1}{h_i}(y_{i+1}-y_i)\n",
    "$$"
   ]
  },
  {
   "cell_type": "markdown",
   "metadata": {
    "slideshow": {
     "slide_type": "fragment"
    }
   },
   "source": [
    "Similarly:\n",
    "$$\n",
    "f_{i-1}'(x_{i}) = \\frac{h_{i-1}}{6}z_{i-1}+\\frac{h_{i-1}}{3}z_i+b_{i-1} \\quad \\textbf{(2)}\n",
    "$$"
   ]
  },
  {
   "cell_type": "markdown",
   "metadata": {
    "slideshow": {
     "slide_type": "fragment"
    }
   },
   "source": [
    "By identification of $\\textbf{(1)}$ and $\\textbf{(2)}$, we get:\n",
    "\n",
    "$$\n",
    "h_{i-1}z_{i-1}+2(h_{i-1}+h_i)z_i+h_iz_{i+1}=6(b_i-b_{i-1})\n",
    "$$\n",
    "for 1$\\leq$i$\\leq$n-1"
   ]
  },
  {
   "cell_type": "markdown",
   "metadata": {
    "slideshow": {
     "slide_type": "slide"
    }
   },
   "source": [
    "By letting\n",
    "$$\n",
    "u_i = 2(h_{i-1}+h_i)\\\\\n",
    "v_i = 6(b_i-b_{i-1})\n",
    "$$\n",
    "we obtain a tridiagonal system of n-1 equations:\n",
    "$$\n",
    "\\begin{bmatrix}\n",
    "u_1 & h_1 & \\\\\n",
    "h_1 & u_2 & h_2 & \\\\\n",
    "\\ldots\\\\\n",
    "&& h_{n-3} & u_{n-2} & h_{n-2} \\\\\n",
    "&&& h_{n-2} & u_{n-1}\n",
    "\\end{bmatrix}\n",
    "\\begin{bmatrix}\n",
    "z_1\\\\\n",
    "z_2\\\\\n",
    "\\ldots\\\\\n",
    "z_{n-2} \\\\\n",
    "z_{n-1}\n",
    "\\end{bmatrix}\n",
    "=\\begin{bmatrix}\n",
    "v_1 \\\\\n",
    "v_2 \\\\\n",
    "\\ldots \\\\\n",
    "v_{n-2} \\\\\n",
    "v_{n-1}\n",
    "\\end{bmatrix} \\quad \\textbf{(3)}\n",
    "$$\n",
    "... and we know how to solve this in O(n) from Chapter 2!\n"
   ]
  },
  {
   "cell_type": "markdown",
   "metadata": {
    "slideshow": {
     "slide_type": "slide"
    }
   },
   "source": [
    "\n",
    "### Algorithm steps\n",
    "1. Compute $h_i$, $b_i$, $u_i$, $v_i$\n",
    "2. Solve $\\textbf{(3)}$ to compute $z_i$\n",
    "3. Use $\\textbf{(0)}$ to get $f_i$"
   ]
  },
  {
   "cell_type": "code",
   "execution_count": 27,
   "metadata": {
    "slideshow": {
     "slide_type": "fragment"
    }
   },
   "outputs": [],
   "source": [
    "# From Chapter 2:\n",
    "# Tridiagonal system solver\n",
    "\n",
    "def tridiag_decomp(c, d, e):\n",
    "    assert(len(c) == len(d) == len(e))\n",
    "    n = len(c)\n",
    "    for k in range(1, n):\n",
    "        lambd = c[k-1]/d[k-1]\n",
    "        d[k] -= lambd*e[k-1]\n",
    "        c[k-1] = lambd\n",
    "        \n",
    "from numpy import zeros\n",
    "def tridiag_solve(c, d, e, b): # watch out, input has to be in LU form!\n",
    "    assert(len(c) == len(d) == len(e) == len(b))\n",
    "    n = len(c)\n",
    "    # forward substitution\n",
    "    for i in range(1, n):\n",
    "        b[i] = b[i]-c[i-1]*b[i-1] # Here we use b to store y\n",
    "    # back substitution\n",
    "    b[n-1] = b[n-1]/d[n-1] # Here we use b to store x\n",
    "    for i in range (n-2, -1, -1):\n",
    "        b[i] = (b[i]-e[i]*b[i+1])/d[i]\n",
    "\n",
    "def tridiag_solver(c, d, e, b): # complete solver for tridiagonal systems\n",
    "    tridiag_decomp(c, d, e)\n",
    "    tridiag_solve(c, d, e, b)\n",
    "        "
   ]
  },
  {
   "cell_type": "code",
   "execution_count": 28,
   "metadata": {
    "slideshow": {
     "slide_type": "slide"
    }
   },
   "outputs": [],
   "source": [
    "def curvatures(x, y):\n",
    "    '''\n",
    "    Returns the zi\n",
    "    '''\n",
    "    assert(len(x)==len(y))\n",
    "    n = len(x) - 1\n",
    "    # Initialize arrays\n",
    "    h = zeros(n)\n",
    "    b = zeros(n)\n",
    "    u = zeros(n)\n",
    "    v = zeros(n)\n",
    "    # Compute array values\n",
    "    # Be careful, indexing of u and v is shifted (u[0] and v[0] aren't defined)\n",
    "    for i in range(n):\n",
    "        h[i] = x[i+1] - x[i]\n",
    "        b[i] = (y[i+1] - y[i])/h[i]\n",
    "        if i == 0 :\n",
    "            continue\n",
    "        u[i] = 2*(h[i-1]+h[i])\n",
    "        v[i] = 6*(b[i]-b[i-1])\n",
    "    e = h.copy() # copy h in e, since the solver will modify the lower diagnoal (c)\n",
    "    # Careful with indexing: h0 doesn't show in the system\n",
    "    tridiag_solver(h[1:n], u[1:n], e[1:n], v[1:n]) # as in Chapter 2!\n",
    "    z = zeros(n+1)\n",
    "    z[1:n] = v[1:n]\n",
    "    return z\n",
    "    \n",
    "def eval_natural_cubic_spline(x, y, z, x_eval):\n",
    "    '''\n",
    "    Evaluates at x_eval the spline defined by x, y with curvatures z.\n",
    "    '''\n",
    "    def find_segment(x, x_eval):\n",
    "        '''\n",
    "        Finds i such that x[i] <= x_eval <= x[i+1]\n",
    "        By dichotomic search\n",
    "        '''\n",
    "        i = 0\n",
    "        j = len(x) - 1 # = n\n",
    "        assert(x_eval <= x[-1])\n",
    "        while not (x[i] <= x_eval and x_eval <= x[i+1]):\n",
    "            k = int((i+j)/2)\n",
    "            if x_eval > x[k]:\n",
    "                i = k\n",
    "            else:\n",
    "                j = k\n",
    "        return i\n",
    "    # End of find_segment, back to spline evaluation\n",
    "    i = find_segment(x, x_eval)\n",
    "    hi = x[i+1] - x[i]\n",
    "    # As in equation (0)\n",
    "    value = (z[i+1]/(6*hi)*(x_eval-x[i])**3 + z[i]/(6*hi)*(x[i+1]-x_eval)**3 +\n",
    "             (y[i+1]/hi-hi/6*z[i+1])*(x_eval-x[i]) +\n",
    "             (y[i]/hi-hi/6*z[i])*(x[i+1]-x_eval))\n",
    "    return value\n",
    "\n",
    "def eval_natural_cubic_spline_array(x, y, z, x_evals):\n",
    "    '''\n",
    "    Just a helper function to evaluate all the elements in an array.\n",
    "    x_evals is an array\n",
    "    '''\n",
    "    n = x_evals.size\n",
    "    values = zeros(n)\n",
    "    for i in range(n):\n",
    "        values[i] = eval_natural_cubic_spline(x, y, z, x_evals[i])\n",
    "    return values\n",
    "        \n"
   ]
  },
  {
   "cell_type": "markdown",
   "metadata": {
    "slideshow": {
     "slide_type": "slide"
    }
   },
   "source": [
    "Let's try!"
   ]
  },
  {
   "cell_type": "code",
   "execution_count": 29,
   "metadata": {
    "slideshow": {
     "slide_type": "fragment"
    }
   },
   "outputs": [
    {
     "data": {
      "image/png": "[encoded data removed]",
      "text/plain": [
       "<Figure size 432x288 with 1 Axes>"
      ]
     },
     "metadata": {
      "needs_background": "light"
     },
     "output_type": "display_data"
    }
   ],
   "source": [
    "# Generate n random ponts\n",
    "n = 40\n",
    "x_data, y_data = get_random_points(n)\n",
    "\n",
    "z = curvatures(x_data, y_data)\n",
    "def eval_spline(x_data, y_data, x):\n",
    "    return eval_natural_cubic_spline(x_data, y_data, z, x)\n",
    "\n",
    "plot_interpolator(eval_spline, x_data, y_data, title=\"Cubic Splines\")"
   ]
  },
  {
   "cell_type": "markdown",
   "metadata": {
    "slideshow": {
     "slide_type": "slide"
    }
   },
   "source": [
    "Comparison with polynomial interpolation:"
   ]
  },
  {
   "cell_type": "code",
   "execution_count": 31,
   "metadata": {
    "slideshow": {
     "slide_type": "fragment"
    }
   },
   "outputs": [
    {
     "data": {
      "image/png": "[encoded data removed]",
      "text/plain": [
       "<Figure size 432x288 with 1 Axes>"
      ]
     },
     "metadata": {
      "needs_background": "light"
     },
     "output_type": "display_data"
    },
    {
     "data": {
      "image/png": "[encoded data removed]",
      "text/plain": [
       "<Figure size 432x288 with 1 Axes>"
      ]
     },
     "metadata": {
      "needs_background": "light"
     },
     "output_type": "display_data"
    }
   ],
   "source": [
    "n = 40\n",
    "x_data, y_data = get_random_points(n)\n",
    "\n",
    "# Cubic splines\n",
    "z = curvatures(x_data, y_data)\n",
    "def eval_spline(x_data, y_data, x):\n",
    "    return eval_natural_cubic_spline(x_data, y_data, z, x)\n",
    "\n",
    "plot_interpolator(eval_spline, x_data, y_data, title=\"Cubic Splines\", ylim=1)\n",
    "\n",
    "# Polynomial\n",
    "a = newton_coeffs(x_data, y_data)\n",
    "def newton_poly(x_data, y_data, x):\n",
    "    return eval_poly_newton(a, x_data, x)\n",
    "\n",
    "plot_interpolator(newton_poly, x_data, y_data, title=\"Newton Polynomial\", ylim=1)\n"
   ]
  },
  {
   "cell_type": "markdown",
   "metadata": {
    "slideshow": {
     "slide_type": "slide"
    }
   },
   "source": [
    "## Least-square fit\n",
    "\n",
    "### Overview\n",
    "\n",
    "Experimental data points are often hampered by *random noise* coming from measurement errors.\n",
    "\n",
    "Interpolating experimental data points overfits the noise as the interpolant has to pass by every data pont. \n",
    "\n",
    "Instead, curve fitting aims at finding a good \"average\" curve that fits the data points.\n",
    "\n",
    "The curve is defined by a function $f$ that will be fitted to the n+1 data points $(x_i, y_i) \\quad (0 \\leq i \\leq n)$:\n",
    "$$\n",
    "f(x) = f(x; a_0, a_1, \\ldots, a_m)\n",
    "$$\n",
    "\n",
    "$(a_0, \\ldots, a_m)$ are the parameters of this function, and $m < n$.\n",
    "\n",
    "The form of f(x) is determined beforehand: for instance, in *linear regression*, f is a straight line."
   ]
  },
  {
   "cell_type": "markdown",
   "metadata": {
    "slideshow": {
     "slide_type": "slide"
    }
   },
   "source": [
    "#### What is the \"best fit\"?\n",
    "\n",
    "If the noise is confined to the y axis, it is common to use a *least-squares fit*, which minimizes the function:\n",
    "$$\n",
    "S(a_0, \\ldots, a_m) = \\sum_{i=0}^n\\left[ y_i - f(x_i) \\right] ^2\n",
    "$$\n",
    "\n",
    "with respect to each $a_j$. The optimal values of the parameters are given by the solutions of:\n",
    "$$\n",
    "\\frac{\\partial S}{\\partial a_k}=0, \\quad k=0,\\ldots,m \\quad \\textbf{(1)}\n",
    "$$"
   ]
  },
  {
   "cell_type": "markdown",
   "metadata": {
    "slideshow": {
     "slide_type": "fragment"
    }
   },
   "source": [
    "$r_i = y_i -f(x_i)$ are called the **residuals**. S is the sum of the squares of the residuals.\n",
    "\n",
    "Usually, the equations in $\\textbf{(1)}$ are non-linear, and therefore difficult to solve. \n",
    "\n",
    "If f is a linear combination of $f_i$ functions, \n",
    "$$\n",
    "f(x) = a_0f_0(x) + a_1f_1(x) + \\ldots + a_mf_m(x),\n",
    "$$\n",
    "for instance if $f$ is a polynomial, then the equations in $\\textbf{(1)}$ are linear.\n",
    "\n",
    "The spread of the data around the fitting curve is estimated by the *standard deviation* defined as:\n",
    "$$\n",
    "\\sigma = \\sqrt{\\frac{S}{n-m}}\n",
    "$$\n",
    "If n = m, we have *interpolation*, $\\sigma$ is undefined."
   ]
  },
  {
   "cell_type": "markdown",
   "metadata": {
    "slideshow": {
     "slide_type": "slide"
    }
   },
   "source": [
    "### Linear regression\n",
    "\n",
    "When fitting a straight line, the fitting function is:\n",
    "$$\n",
    "f(x) = a+bx\n",
    "$$\n",
    "\n",
    "Which gives:\n",
    "$$\n",
    "S(a, b) = \\sum_{i=0}^n \\left( y_i - a -bx_i\\right)^2\n",
    "$$"
   ]
  },
  {
   "cell_type": "markdown",
   "metadata": {
    "slideshow": {
     "slide_type": "fragment"
    }
   },
   "source": [
    "Equation $\\textbf{(1)}$ becomes:\n",
    "\n",
    "$$\n",
    "\\frac{\\partial S}{\\partial a} = \\sum_{i=0}^n -2(y_i-a-bx_i) = 2 \\left[ a (n+1) + b \\sum_{i=0}^n{x_i} -  \\sum_{i=0}^n{y_i}\\right] = 0\\\\\n",
    "\\frac{\\partial S}{\\partial b} = \\sum_{i=0}^n -2x_i(y_i-a-bx_i) = 2 \\left( a\\sum_{i=0}^n{x_i}+b\\sum_{i=0}^nx_i^2-\\sum_{i=0}^nx_iy_i\\right)=0\n",
    "$$"
   ]
  },
  {
   "cell_type": "markdown",
   "metadata": {
    "slideshow": {
     "slide_type": "fragment"
    }
   },
   "source": [
    "Dividing both equations by 2(n+1), we get:\n",
    "$$\n",
    "a + \\bar x b = \\bar y \\quad \\quad \\bar x a + \\left( \\frac{1}{n+1} \\sum_{i=0}^nx_i^2 \\right)b = \\frac{1}{n+1}\\sum_{i=0}^nx_iy_i\n",
    "$$\n",
    "\n",
    "where\n",
    "$$\n",
    "\\bar x = \\frac{1}{n+1} \\sum_{i=0}^n x_i \\quad \\quad \\bar y = \\frac{1}{n+1} \\sum_{i=0}^n y_i \n",
    "$$"
   ]
  },
  {
   "cell_type": "markdown",
   "metadata": {
    "slideshow": {
     "slide_type": "fragment"
    }
   },
   "source": [
    "The solution is:\n",
    "\n",
    "$$\n",
    "a = \\frac{\\bar y \\sum_{i=0}^n{x_i^2}-\\bar x \\sum_{i=0}^n x_iy_i}{\\sum_{i=0}^nx_i^2 - (n+1)\\bar x^2} \\quad \\quad\n",
    "b =\\frac{\\sum_{i=0}^nx_iy_i-\\bar x \\sum_{i=0}^ny_i}{\\sum_{i=0}^nx_i^2-(n+1)\\bar x^2}\n",
    "$$\n",
    "Warning: there's a typo in the textbook."
   ]
  },
  {
   "cell_type": "markdown",
   "metadata": {
    "slideshow": {
     "slide_type": "fragment"
    }
   },
   "source": [
    "To reduce roundoff errors, it is better to compute the parameters from\n",
    "\n",
    "$$\n",
    "b = \\frac{\\sum_{i=0}^n y_i(x_i-\\bar x)}{\\sum_{i=0}^n x_i(x_i-\\bar x)} \\quad \\quad a = \\bar y -\\bar x b\n",
    "$$"
   ]
  },
  {
   "cell_type": "markdown",
   "metadata": {
    "slideshow": {
     "slide_type": "fragment"
    }
   },
   "source": [
    "Implementation is straightforward:"
   ]
  },
  {
   "cell_type": "code",
   "execution_count": 32,
   "metadata": {
    "slideshow": {
     "slide_type": "fragment"
    }
   },
   "outputs": [],
   "source": [
    "from numpy import mean, sum\n",
    "def linear_regression(x_data, y_data):\n",
    "    '''\n",
    "    Returns (a, b)\n",
    "    '''\n",
    "    xbar = mean(x_data)\n",
    "    ybar = mean(y_data)\n",
    "    b = sum(y_data*(x_data-xbar))/sum(x_data*(x_data-xbar))\n",
    "    a = ybar - xbar*b\n",
    "    return (a, b)"
   ]
  },
  {
   "cell_type": "markdown",
   "metadata": {
    "slideshow": {
     "slide_type": "slide"
    }
   },
   "source": [
    "Let's try it:"
   ]
  },
  {
   "cell_type": "code",
   "execution_count": 33,
   "metadata": {
    "slideshow": {
     "slide_type": "fragment"
    }
   },
   "outputs": [
    {
     "data": {
      "image/png": "[encoded data removed]",
      "text/plain": [
       "<Figure size 432x288 with 1 Axes>"
      ]
     },
     "metadata": {
      "needs_background": "light"
     },
     "output_type": "display_data"
    }
   ],
   "source": [
    "from matplotlib import pyplot as plt\n",
    "\n",
    "# Data generation\n",
    "n = 25\n",
    "x_data, y_data = get_random_points(n)\n",
    "y_data += x_data/n # Let's give it a positive slope\n",
    "x_fine = arange(0, n-1+0.1, 0.1)\n",
    "\n",
    "# Regression\n",
    "a, b = linear_regression(x_data, y_data)\n",
    "plt.plot(x_fine, b*x_fine+a, '-', x_data, y_data, 'x')\n",
    "plt.show()"
   ]
  },
  {
   "cell_type": "markdown",
   "metadata": {
    "slideshow": {
     "slide_type": "slide"
    }
   },
   "source": [
    "## Example 3.10"
   ]
  },
  {
   "cell_type": "markdown",
   "metadata": {
    "slideshow": {
     "slide_type": "slide"
    }
   },
   "source": [
    "### Fitting Linear Forms\n",
    "\n",
    "Here we want to fit the following function:\n",
    "$$\n",
    "f(x) = \\sum_{j=0}^m a_jf_j(x)\n",
    "$$\n",
    "\n",
    "$f_j$ is a predetermined function of $x$ called a *basis function*. We have\n",
    "$$\n",
    "S = \\sum_{i=0}^n\\left[y_i - \\sum_{j=0}^ma_jf_j(x_i)\\right]^2\n",
    "$$"
   ]
  },
  {
   "cell_type": "markdown",
   "metadata": {
    "slideshow": {
     "slide_type": "fragment"
    }
   },
   "source": [
    "The $a_j$ coefficients are the solution of:\n",
    "\n",
    "$$\n",
    "\\frac{\\partial S}{\\partial a_k} = -2\\left[ \\sum_{i=0}^n \\left[ y_i - \\sum_{j=0}^m a_jf_j(x_i) \\right] f_k(x_i) \\right] = 0, \\quad k=0, 1, \\ldots m\n",
    "$$\n",
    "\n",
    "which gives:\n",
    "$$\n",
    "\\sum_{j=0}^m\\left[ \\sum_{i=0}^n f_j(x_i)f_k(x_i)\\right]a_j = \\sum_{i=0}^nf_k(x_i)y_i, \\quad k=0, 1, \\ldots, m\n",
    "$$"
   ]
  },
  {
   "cell_type": "markdown",
   "metadata": {
    "slideshow": {
     "slide_type": "fragment"
    }
   },
   "source": [
    "We recognize a system of m linear equations!\n",
    "\n",
    "$$\n",
    "\\textbf{Aa} = \\textbf{b}\n",
    "$$\n",
    "\n",
    "where\n",
    "$$\n",
    "A_{kj} = \\sum_{i=0}^n f_j(x_i)f_k(x_i)\n",
    "\\quad \\quad\n",
    "b_k = \\sum_{i=0}^nf_k(x_i)y_i\n",
    "$$"
   ]
  },
  {
   "cell_type": "markdown",
   "metadata": {
    "slideshow": {
     "slide_type": "fragment"
    }
   },
   "source": [
    "From Chapter 2, we know how to solve that! Note: the system is symmetrical, $A_{kj}$ = $A_{jk}$."
   ]
  },
  {
   "cell_type": "markdown",
   "metadata": {
    "slideshow": {
     "slide_type": "slide"
    }
   },
   "source": [
    "### Polynomial Fit\n",
    "\n",
    "A polynomial is a particular case of linear form where\n",
    "$$\n",
    "f_j(x) = x^j \\quad (j = 0, 1, \\ldots, m)\n",
    "$$\n",
    "\n",
    "so that $\\textbf{A}$ and $\\textbf{b}$ become:\n",
    "\n",
    "$$\n",
    "A_{kj} = \\sum_{i=0}^n x_i^{j+k} \\quad \\quad b_k = \\sum_{i=0}^n x_i^ky_i\n",
    "$$\n",
    "\n",
    "Implementation:"
   ]
  },
  {
   "cell_type": "code",
   "execution_count": 23,
   "metadata": {
    "slideshow": {
     "slide_type": "fragment"
    }
   },
   "outputs": [],
   "source": [
    "from numpy import array, zeros\n",
    "def polynomial_fit(x_data, y_data, m):\n",
    "    '''\n",
    "    Returns the ai\n",
    "    '''\n",
    "    # x_power[i] will contain sum_i x_i^k, k = 0, 2m\n",
    "    m += 1\n",
    "    x_powers = zeros(2*m)\n",
    "    b = zeros(m)\n",
    "    for i in range(2*m):\n",
    "        x_powers[i] = sum(x_data**i)\n",
    "        if i < m:\n",
    "            b[i] = sum(y_data*x_data**i)\n",
    "    a = zeros((m, m))\n",
    "    for k in range(m):\n",
    "        for j in range(m):\n",
    "            a[k, j] = x_powers[j+k]\n",
    "    from numpy.linalg import solve # using linalg for brevity here, but we could use the solvers developed in Chap 2.\n",
    "    return solve(a, b)"
   ]
  },
  {
   "cell_type": "code",
   "execution_count": 24,
   "metadata": {
    "slideshow": {
     "slide_type": "slide"
    }
   },
   "outputs": [
    {
     "data": {
      "image/png": "[encoded data removed]",
      "text/plain": [
       "<Figure size 432x288 with 1 Axes>"
      ]
     },
     "metadata": {
      "needs_background": "light"
     },
     "output_type": "display_data"
    },
    {
     "data": {
      "image/png": "[encoded data removed]",
      "text/plain": [
       "<Figure size 432x288 with 1 Axes>"
      ]
     },
     "metadata": {
      "needs_background": "light"
     },
     "output_type": "display_data"
    },
    {
     "data": {
      "image/png": "[encoded data removed]",
      "text/plain": [
       "<Figure size 432x288 with 1 Axes>"
      ]
     },
     "metadata": {
      "needs_background": "light"
     },
     "output_type": "display_data"
    },
    {
     "data": {
      "image/png": "[encoded data removed]",
      "text/plain": [
       "<Figure size 432x288 with 1 Axes>"
      ]
     },
     "metadata": {
      "needs_background": "light"
     },
     "output_type": "display_data"
    },
    {
     "data": {
      "image/png": "[encoded data removed]",
      "text/plain": [
       "<Figure size 432x288 with 1 Axes>"
      ]
     },
     "metadata": {
      "needs_background": "light"
     },
     "output_type": "display_data"
    },
    {
     "data": {
      "image/png": "[encoded data removed]",
      "text/plain": [
       "<Figure size 432x288 with 1 Axes>"
      ]
     },
     "metadata": {
      "needs_background": "light"
     },
     "output_type": "display_data"
    },
    {
     "data": {
      "image/png": "[encoded data removed]",
      "text/plain": [
       "<Figure size 432x288 with 1 Axes>"
      ]
     },
     "metadata": {
      "needs_background": "light"
     },
     "output_type": "display_data"
    }
   ],
   "source": [
    "from matplotlib import pyplot as plt\n",
    "from numpy import arange\n",
    "temperatures = array([17.6, 17.2, 17.2, 16.9, 16.5, 16.2, 15.6, 15.0, 14.5, 14.7, 15.1, 15.3, 15.1, 15.3, 15.4, 15.6, 16.0, 15.7, 16.6, 16.8, 16.5, 16.0, 15.6, 14.2, 13.8])\n",
    "hours = arange(25)\n",
    "plt.plot(hours, temperatures, 'x')\n",
    "plt.title(\"Temperature data\")\n",
    "plt.show()\n",
    "\n",
    "hours_fine = arange(0, 25.1, 0.01)\n",
    "for i in range(6):\n",
    "    plt.title(\"Polynomial fit of degree {}\".format(i))\n",
    "    a = polynomial_fit(hours, temperatures, i)\n",
    "    temperatures_interp = zeros(temperatures.size)\n",
    "    for j in range(temperatures.size):\n",
    "        for k in range(a.size):\n",
    "            temperatures_interp[j] += a[k]*hours[j]**k\n",
    "    plt.plot(hours, temperatures_interp, '-', hours, temperatures, 'x')\n",
    "    plt.show()"
   ]
  }
 ],
 "metadata": {
  "celltoolbar": "Slideshow",
  "kernelspec": {
   "display_name": "Python 3",
   "language": "python",
   "name": "python3"
  },
  "language_info": {
   "codemirror_mode": {
    "name": "ipython",
    "version": 3
   },
   "file_extension": ".py",
   "mimetype": "text/x-python",
   "name": "python",
   "nbconvert_exporter": "python",
   "pygments_lexer": "ipython3",
   "version": "3.7.4"
  }
 },
 "nbformat": 4,
 "nbformat_minor": 2
}

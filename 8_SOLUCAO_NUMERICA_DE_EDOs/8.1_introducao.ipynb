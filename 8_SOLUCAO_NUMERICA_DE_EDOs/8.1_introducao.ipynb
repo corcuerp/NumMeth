{
 "cells": [
  {
   "cell_type": "markdown",
   "metadata": {},
   "source": [
    "# 8.1 Introdução\n",
    "\n",
    "As leis fundamentais da física, matemática, eletrônica e termodinâmica, em geral, são baseadas em observações empíricas que explicam a variação das propriedades físicas e dos estados dos sistemas. Em vez de descrever os estados de sistemas físicos diretamente, as leis geralmente são dadas em termos de variações espaciais e temporais.\n",
    "\n",
    "Diversos exemplos estão listados na tabela a seguir. Essas leis definem mecanismos de variação. Quando combinadas com as leis de continuidade da energia, da massa e do momento, produzem equações diferenciais. A integração subsequente dessas equações diferenciais resulta em funções matemáticas que descrevem o estado espacial e temporal de um sistema em termos da variação de energia, massa ou velocidade (Chapra e Canale, 2016).\n",
    "\n",
    "\n",
    "\n",
    "A importância dos métodos numéricos para a resolução de equações diferenciais ordinárias (EDOs) deve-se ao fato de que essas equações ocorrer com frequência em modelos matemáticos com aplicação em diferentes situações práticas, nas áreas de engenharia, física, biologia, economia, biomedicina, etc.\n",
    "\n",
    "Tipicamente, problemas que relacionam funções de uma variável e suas derivadas levam a uma equação diferencial ordinária. Métodos numéricos são utilizados para resolução dessas equações diferenciais, pois com frequência soluções exatas não são possíveis, ou muito difícil de serem determinadas.\n",
    "\n",
    "Uma equação diferencial ordinária é uma equação que relaciona uma função de uma variável, $y(x)$ e suas derivadas, sendo $x$ a variável independente e $y(x)4 a função incógnita.\n",
    "\n",
    "A ordem de uma equação diferencial é determinada pela mais alta ordem da derivada da função $y(x)$ presente na equação. As equações a seguir são exemplos de equações diferenciais ordinárias. Temos as seguintes notações usuais:\n",
    "\n",
    "$$y'= \\frac{dy}{dx}, \\,\\,\\,  y''= \\frac{d^2y}{dx^2}, \\,\\,\\,... $$\n",
    "\n",
    "Por exemplo:\n",
    "\n",
    "$ \\frac{dy}{dx} = 3x-1$ é uma EDO de ordem 1\n",
    "\n",
    "$ y' = -xy$ é uma EDO de ordem 1\n",
    "\n",
    "$ \\frac{d^2y}{dx^2} = x^2-y+e^x$ é uma EDO de ordem 2 \n",
    "\n",
    "$ y'' -4y' + 3y = x$ é uma EDO de ordem 2 \n"
   ]
  },
  {
   "cell_type": "markdown",
   "metadata": {},
   "source": [
    "Resolver uma equação diferencial consiste em determinar uma função $y(x)$ que satisfaça a equação.\n",
    "\n",
    "Por exemplo, a equação diferencial \n",
    "\n",
    "$$y' = -x y$$ \n",
    "\n",
    "tem solução \n",
    "\n",
    "$$ y = c \\, e^{\\frac{-x^2}{2}}$$\n",
    "\n",
    "com $c$ constante, pois\n",
    "\n",
    "$$ y' = c \\, e^{\\frac{-x^2}{2}}(-x) = -xy$$\n",
    "\n",
    "ou seja, a função $y(x)$ satisfaz a equação. \n",
    "Podemos observar que esta equação apresenta infinitas soluções, pois, para cada valor diferente de $c$ temos uma solução diferente."
   ]
  },
  {
   "cell_type": "markdown",
   "metadata": {},
   "source": [
    "## Problema de valor Inicial\n",
    "\n",
    "Considere a equação diferencial ordinária, $y' = y$, cuja solução é dada por $y(x)=ce^x$ $c\\in R$.\n",
    "\n",
    "Assim, a equação diferencial dada apresenta infinitas soluções, uma vez que, para cada valor escolhido para a constante $c$, temos uma solução, como, por exemplo, $y(x)=c_0e^x$,$y(x)=c_1e^x$,$y(x)=c_2e^x$,sendo $c_0$, $c_1$ , $c_2$ valores fixados,conforme exibido na figura abaixo.\n",
    "\n",
    "<img src=\"https://github.com/tiagoburiol/NUMETHODS/raw/master/8_SOLUCAO_NUMERICA_DE_EDOs/imagens/pvi01.png\" width=\"560\">\n",
    "\n",
    "Se considerarmos que conhecemos o valor da função $y(x)$ em um ponto, isto é, $x = x_0$ , o valor de $y(x)$ é $y(x_0) = y_0$ e temos uma única solução para a equação proposta. Esta solução única é obtida quando usamos a solução geral da equação diferencial\n",
    "no ponto $x = x_0$ e obtemos o valor da constante $c$, como segue: $$y(x_0)=y_0$$ \n",
    "então \n",
    "$$ce^{x_0} = y_0$$ \n",
    "logo \n",
    "$$c=y_0e^{0-x_0}$$\n",
    "\n",
    "Assim, a solução única para a equação diferencial é dada por: \n",
    "\n",
    "$$y(x) = ce^x = y_0 e^{-x_0} e^x = y_0e^{(x-x_0)}$$\n",
    "\n",
    "Portanto, $y(x) = y_0 e^{(x-x_0)}$, conforme exibido na figura.\n"
   ]
  },
  {
   "cell_type": "markdown",
   "metadata": {},
   "source": [
    "### Definição\n",
    "\n",
    "Um Problema de Valor Inicial (PVI) de primeira ordem consiste de uma equação diferencial $y' = f (x,y)$, $x \\req x_0$ e uma condição inicial $y(x_0) = y_0$, em que $y_0$ é um valor dado, chamado de valor inicial.\n",
    "\n",
    "Neste caso, podemos escrever o PVI da seguinte forma:\n",
    "\n",
    "$$ \n",
    "\\begin{cases} \n",
    "y'= f(x,y)\\\\ \n",
    "\\\\\n",
    "y(x_0)=y_0\n",
    "\\end{cases}$$\n",
    "\n",
    "Resolver o PVI consiste em determinar uma função $y(x)$ que satisfaça a equação diferencial $y' = f (x,y)$ e a condição inicial $y(x_0) = y_0$.\n",
    "\n",
    "Se a função $f$ e $ \\frac{\\partial f}{\\partial y}$ são contínuas, temos que o PVI apresenta solução única.\n",
    "\n"
   ]
  },
  {
   "cell_type": "markdown",
   "metadata": {},
   "source": [
    "### Discretização\n"
   ]
  },
  {
   "cell_type": "markdown",
   "metadata": {},
   "source": [
    "### Exemplo\n",
    "\n",
    "Use o método de Euler para integrar numericamente a equação:\n",
    "\n",
    "$$ \\frac{dy}{dx} = -2x^3+12x^2-20x+8.5$$\n",
    "\n",
    "de $x = 0$ a $x = 4$ com um tamanho de passo de $0.5$. A condição inicial em $x = 0$ é $y = 1$. \n",
    "\n",
    "A solução exata é dada por $y = -5.x^4+4x^3-10x^2+8.5x+1$.\n",
    "\n"
   ]
  },
  {
   "cell_type": "markdown",
   "metadata": {},
   "source": [
    "**Solução**\n",
    "Com um passo $h=0.5$, temos $x_0 = 0.0$, $x_1 = 0.5, $x_2 = 1.0$, x_3 = 1.5$, ..., $x_8=4.0$. Assim, a partir da equação \n",
    "\n",
    "$$ y_{i+1} = y_i + f(x_i, x_{i+1}) h$$\n",
    "\n",
    "com\n",
    "\n",
    "$$f(x,y)= \\frac{dy}{dx} = -2x^3+12x^2-20x+8.5$$\n",
    "\n",
    "e sabendo que em $x_0 = 0$ temos $y_0 = 1$ obtemos os valores de $y_1, y_2, y_3, ..., y_8$ \n",
    "\n",
    "Vamos fazer isso computacionalmente, em Python."
   ]
  },
  {
   "cell_type": "code",
   "execution_count": 35,
   "metadata": {},
   "outputs": [
    {
     "name": "stdout",
     "output_type": "stream",
     "text": [
      "pontos xi: [ 0.   0.5  1.   1.5  2.   2.5  3.   3.5  4. ]\n",
      "pontos yi: [1.0, 5.25, 5.875, 5.125, 4.5, 4.75, 5.875, 7.125, 7.0]\n"
     ]
    },
    {
     "data": {
      "image/png": "[encoded data removed]",
      "text/plain": [
       "<matplotlib.figure.Figure at 0x7fbbc9b8fd68>"
      ]
     },
     "metadata": {},
     "output_type": "display_data"
    }
   ],
   "source": [
    "% matplotlib inline\n",
    "import numpy as np\n",
    "import matplotlib.pyplot as plt\n",
    "\n",
    "h = 0.5 #passo\n",
    "x0 = 0.0\n",
    "xn = 4.0\n",
    "\n",
    "# criamos a lista com os pontos xi\n",
    "X = np.arange(x0, xn+h, h) \n",
    "print (\"pontos xi:\", X)\n",
    "\n",
    "# lista com y0, a ser preenchida pelos yi\n",
    "Y = [1.0]                  \n",
    "\n",
    "# entramos com f(x,y)\n",
    "f = lambda x: -2*x**3 + 12*x**2 - 20*x + 8.5\n",
    "\n",
    "# laço para ir calculando os yi e preenchendo a lista\n",
    "for x in X[0:-1]:\n",
    "    Y.append(Y[-1] + f(x)*h ) #Y[-1] é o último yi calculado\n",
    "    \n",
    "# imprime\n",
    "print (\"pontos yi:\", Y)\n",
    "\n",
    "# plota\n",
    "plt.plot(X, Y, \"r-\")\n",
    "plt.grid()\n",
    "plt.show()"
   ]
  },
  {
   "cell_type": "code",
   "execution_count": 36,
   "metadata": {},
   "outputs": [
    {
     "data": {
      "image/png": "[encoded data removed]",
      "text/plain": [
       "<matplotlib.figure.Figure at 0x7fbbc9a0a710>"
      ]
     },
     "metadata": {},
     "output_type": "display_data"
    }
   ],
   "source": [
    "# plotando a solução exata para comparar\n",
    "Xex = np.arange(0, 4.1, 0.1)\n",
    "Yex = []\n",
    "sol_ex = lambda x: -0.5*x**4 + 4*x**3 - 10*x**2 + 8.5*x + 1.0\n",
    "\n",
    "for x in Xex:\n",
    "    Yex.append(sol_ex(x))\n",
    "\n",
    "plt.plot(X, Y, \"r-\", Xex, Yex, \"b-\")\n",
    "plt.grid()\n",
    "plt.show()"
   ]
  },
  {
   "cell_type": "markdown",
   "metadata": {},
   "source": [
    "Nesse exemplo usamos um polinômio simples para a equação diferencial para facilitar a análise de erro a seguir. Logo,\n",
    "\n",
    "$$\\frac{dy}{dx} = f(x)$$\n",
    "\n",
    "Um caso mais geral envolveria EDOs que dependam de $x$ e $y$, \n",
    "\n",
    "$$\\frac{dy}{dx} = f(x,y)$$\n",
    "\n",
    "Conforme progredirmos por esta parte do texto, nossos exemplos vão envolver cada vez mais EDOs que dependem tanto das variáveis dependentes quanto das independentes.\n"
   ]
  },
  {
   "cell_type": "code",
   "execution_count": null,
   "metadata": {
    "collapsed": true
   },
   "outputs": [],
   "source": []
  }
 ],
 "metadata": {
  "kernelspec": {
   "display_name": "Python 3",
   "language": "python",
   "name": "python3"
  },
  "language_info": {
   "codemirror_mode": {
    "name": "ipython",
    "version": 3
   },
   "file_extension": ".py",
   "mimetype": "text/x-python",
   "name": "python",
   "nbconvert_exporter": "python",
   "pygments_lexer": "ipython3",
   "version": "3.6.4"
  }
 },
 "nbformat": 4,
 "nbformat_minor": 1
}

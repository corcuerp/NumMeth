{
 "cells": [
  {
   "cell_type": "markdown",
   "metadata": {},
   "source": [
    "# 2.5 Métodos Iterativos\n",
    "\n",
    "Em certos casos, os métodos iterativos são mais indicados do que os métodos diretos (exatos), como por exemplo, quando a matriz dos coeficientes é uma matriz esparsa. Eles ainda necessitam de menos memória para armazenamento e  possuem a vantagem de se auto corrigir se um erro é cometido. Além disso, podem ser usados para reduzir os erros de arredondamento na solução obtida por métodos exatos. Podem também, sob certas condições, resolver um conjunto de equações não lineares. Ao usar métodos iterativos, no entanto, precisamos sempre saber se a sequência se soluções aproximadas está\n",
    "convergindo ou não para a solução desejada.\n",
    "\n",
    "### Definição\n",
    "Dados uma sequência de vetores $x^{(k)} \\in V$ e uma norma sobre o espaço vetorial $V$, dizemos que a sequência $\\{x^{(k)}\\}$ converge para $\\bar{x} \\in V$ se $ \\|x^{(k)} - \\bar{x}\\|  \\rightarrow 0$, quando $k \\rightarrow \\infty$.\n",
    "\n",
    "Para determinar a solução de um sistema linear por métodos iterativos, precisamos transformar o sistema dado em um outro sistema equivalente que  possa ser definido um processo iterativo.\n",
    "\n",
    "Suponha então, que o sistema $Ax = b$ seja reescrito na forma equivalente \n",
    "\n",
    "$$x = Hx + g$$\n",
    "\n",
    "em que $H = I - A$ e $g = b$. Assim, a solução $\\bar{x}$ de $x = Hx + g$ é  também, solução de $Ax = b$.\n",
    "\n",
    "Seja $x^{(0)}$ uma aproximação inicial para a solução $\\bar{x}$, obtemos as aproximações sucessivas $x^{(k)}$ para a solução desejada usando o processo iterativo definido por:\n",
    "\n",
    "$$x^{(k)} = Hx^{(k-1)} + g$$"
   ]
  },
  {
   "cell_type": "markdown",
   "metadata": {},
   "source": [
    "## Convergência \n",
    "\n",
    "### Teorema: \n",
    "A condição necessária e suficiente para a convergência do processo iterativo definido por $x = Hx + g$ é que $max \\{ |\\lambda_i |\\} < 1$, onde $\\lambda_i$ são os autovalores da matriz $H$. \n",
    "\n",
    "### Corolário (Critério geral de convergência):\n",
    "Como consequência do teorema acima, ́o processo será convergente se para qualquer norma de matrizes, $\\| H \\| < 1$.\n",
    "\n",
    "#### Prova\n",
    "Na k-ésima iteração o vetor erro, dado por $e^{(k)}=\\bar{x}-x^{(k)}$ será \n",
    "\n",
    "$$ e ^{(k)} = H^ke^{(0)}$$\n",
    "\n",
    "Tomando normas consistentes, tem-se que \n",
    "\n",
    "$$ \\| H^k e^{(0)} \\| \\leq \\| H \\|^k \\|e^{(0)}\\|$$\n",
    "\n",
    "portanto \n",
    "$$ \\| e^{(k)} \\| \\leq \\| H \\|^k \\|e^{(0)}\\|$$\n",
    "\n",
    "como $\\| H \\|<1$ tem-se que $\\| e^{(k)} \\| \\rightarrow 0$ quando $k \\rightarrow \\infty$.\n",
    "\n",
    "Assim, se $\\| H \\|<1$ para alguma norma, temos a garantia de que o processo iterativo dado por $ x - x^{(k)} = H(x-x^{(k-1)})$ converge para a solução exata $\\bar{x}$. A matriz $H$ é chamada **matriz de iteração**.\n"
   ]
  },
  {
   "cell_type": "markdown",
   "metadata": {},
   "source": [
    "## Método iterativo de Jacobi-Richardson\n",
    "\n",
    "Considere um sistema  de equações lineares $Ax = b$ em que $det(A) \\neq 0$, com a diagonal principal $a_{ii} \\neq 0$, $i=1,...,n$ como segue\n",
    "\n",
    "$$ \\begin{cases} \n",
    "\t         a_{11}x_1 +a_{12}x_2 + \\cdots + a_{1n}x_n = b_1\\\\ \n",
    "\t         a_{21}x_1 +a_{22}x_2 + \\cdots + a_{2n}x_n = b_2\\\\\n",
    "\t         \\vdots   \\\\\n",
    "\t         a_{n1}x_1 +a_{n2}x_2 + \\cdots + a_{nn}x_n = b_1\\\\\n",
    "             \\end{cases} $$\n",
    "\n",
    "Dividindo cada linha do sistema dado pelo elemento da diagonal e isolando $x_1$ na $1^a$ equação, $x_2$ na $2^a$ equação até $x_n$ na n-ésima equação, temos o sistema escrito na forma equivalente:\n",
    "\n",
    "$$ \\begin{cases} \n",
    "\t         x_1 = \\frac{1}{a_{11}} \\left(b_1  - a_{12}x_2 - a_{13}x_3 - \\cdots - a_{1n}x_n \\right)\\\\ \n",
    "\t         x_2 = \\frac{1}{a_{22}} \\left(b_2  - a_{21}x_1 - a_{23}x_3 - \\cdots - a_{2n}x_n \\right)\\\\ \n",
    "\t         \\vdots   \\\\\n",
    "\t         x_n = \\frac{1}{a_{nn}} \\left(b_n  - a_{n1}x_1 - a_{n2}x_2 - \\cdots - a_{n \\, n-1}x_{n-1} \\right)\\\\ \n",
    "\\end{cases} $$\n",
    "\n",
    "O método iterativo de Jacobi-Richardson é dado da seguinte forma:\n",
    "\n",
    "$$ \\begin{cases} \n",
    "             x_1^{(k+1)} = \\frac{b_1}{a_{11}}  - \\frac{a_{12}}{a_{11}}x_2^{(k)} - \\frac{a_{13}}{a_{11}}x_3^{(k)} - \\cdots - \\frac{a_{1n}}{a_{11}}x_n^{(k)} \\\\ \n",
    "\t         x_2^{(k+1)} = \\frac{b_2}{a_{22}}  - \\frac{a_{21}}{a_{22}}x_1^{(k)} - \\frac{a_{23}}{a_{22}}x_3^{(k)} - \\cdots - \\frac{a_{1n}}{a_{11}}x_n^{(k)} \\\\ \n",
    "\t         \\vdots   \\\\\n",
    "\t         x_n^{(k+1)} = \\frac{b_n}{a_{nn}}  - \\frac{a_{n1}}{a_{nn}}x_1^{(k)} - \\frac{a_{n2}}{a_{nn}}x_3^{(k)} - \\cdots - \\frac{a_{n \\, n-1}}{a_{nn}}x_{n-1}^{(k)} \\\\\n",
    "\\end{cases} $$\n",
    "\n",
    "\n",
    "\n"
   ]
  },
  {
   "cell_type": "code",
   "execution_count": null,
   "metadata": {
    "collapsed": true
   },
   "outputs": [],
   "source": [
    "## Exemplos  Jacobi-Richardson"
   ]
  },
  {
   "cell_type": "code",
   "execution_count": 10,
   "metadata": {
    "collapsed": false
   },
   "outputs": [
    {
     "name": "stdout",
     "output_type": "stream",
     "text": [
      "1.0 1.0\n",
      "0.5 1.5\n",
      "0.25 1.25\n",
      "0.375 1.125\n",
      "0.4375 1.1875\n",
      "0.40625 1.21875\n",
      "0.390625 1.203125\n",
      "0.3984375 1.1953125\n",
      "0.40234375 1.19921875\n",
      "0.400390625 1.201171875\n"
     ]
    }
   ],
   "source": [
    "import numpy as np\n",
    "\n",
    "(x1,x2) = (0,0)\n",
    "\n",
    "f = lambda x1,x2: (1-0.5*x2, 1+0.5*x1)\n",
    "\n",
    "for i in range(10):\n",
    "    (x1,x2) = f(x1, x2)\n",
    "    print (x1,x2)\n"
   ]
  },
  {
   "cell_type": "code",
   "execution_count": 2,
   "metadata": {
    "collapsed": false,
    "scrolled": true
   },
   "outputs": [
    {
     "name": "stdout",
     "output_type": "stream",
     "text": [
      "(1.4000, 2.2000, 0.8000)\n",
      "(0.8800, 1.7600, -0.1400)\n",
      "(1.0620, 2.0520, 0.0960)\n",
      "(0.9800, 1.9684, -0.0280)\n",
      "(1.0091, 2.0096, 0.0135)\n",
      "(0.9967, 1.9955, -0.0047)\n",
      "(1.0014, 2.0016, 0.0020)\n",
      "(0.9995, 1.9993, -0.0008)\n",
      "(1.0002, 2.0003, 0.0003)\n",
      "(0.9999, 1.9999, -0.0001)\n",
      "(1.0000, 2.0000, 0.0000)\n",
      "(1.0000, 2.0000, -0.0000)\n",
      "(1.0000, 2.0000, 0.0000)\n",
      "(1.0000, 2.0000, -0.0000)\n",
      "(1.0000, 2.0000, 0.0000)\n",
      "(1.0000, 2.0000, -0.0000)\n",
      "(1.0000, 2.0000, 0.0000)\n",
      "(1.0000, 2.0000, -0.0000)\n",
      "(1.0000, 2.0000, 0.0000)\n",
      "(1.0000, 2.0000, -0.0000)\n"
     ]
    }
   ],
   "source": [
    "x = [0,0,0]\n",
    "\n",
    "x1 = lambda x2, x3: 1.4 - 0.2*x2 - 0.1*x3\n",
    "x2 = lambda x1, x3: 2.2 - 0.2*x1 - 0.2*x3\n",
    "x3 = lambda x1, x2: 0.8 - 0.2*x1 - 0.3*x2\n",
    "\n",
    "for k in range(20):\n",
    "     x = [x1(x[1],x[2]), x2(x[0],x[2]), x3(x[0],x[1])]\n",
    "     print (\"(%.4f,\"%x[0],\"%.4f,\"%x[1],\"%.4f)\"%x[2])"
   ]
  },
  {
   "cell_type": "markdown",
   "metadata": {},
   "source": [
    "Um outro programa, agora usando operações vetoriais com o Numpy"
   ]
  },
  {
   "cell_type": "code",
   "execution_count": 24,
   "metadata": {
    "collapsed": false
   },
   "outputs": [
    {
     "name": "stdout",
     "output_type": "stream",
     "text": [
      "[[ 0.  -0.2 -0.1]\n",
      " [-0.2  0.  -0.2]\n",
      " [-0.2 -0.3  0. ]]\n",
      "Norma inf. de H= 0.5\n",
      "[  9.99480160e-01   1.99932320e+00  -7.53200000e-04]\n"
     ]
    }
   ],
   "source": [
    "import numpy as np\n",
    "from numpy import linalg as LA\n",
    "\n",
    "A = np.array([[10.0, 2.0, 1.0],\n",
    "              [ 1.0, 5.0, 1.0],\n",
    "              [ 2.0, 3.0, 10.0]])\n",
    "b = np.array([14., 11., 8.])\n",
    "\n",
    "x = np.array([0,0,0])\n",
    "x_ant = x.copy()\n",
    "\n",
    "n = len(A)\n",
    "H = A.copy()\n",
    "g = b.copy()\n",
    "err = 10.0\n",
    "\n",
    "\n",
    "for i in range(n):\n",
    "    H[i] = -A[i]/A[i][i]\n",
    "    g[i] = b[i]/A[i,i]\n",
    "    \n",
    "H = H + np.identity(3) #zerando os elementos da diagonal\n",
    "print (H)\n",
    "print (\"Norma inf. de H=\", LA.norm(H, np.inf))\n",
    "\n",
    "while err>0.001:\n",
    "    x = np.dot(H,x)+g\n",
    "    err = abs(max(x-x_ant)/max(x))\n",
    "    x_ant = x\n",
    "print(x)\n",
    "\n",
    "    \n"
   ]
  },
  {
   "cell_type": "markdown",
   "metadata": {},
   "source": [
    "## Método iterativo de Gaus-Seidel\n",
    "\n",
    "Considere um sistema  de equações lineares $Ax = b$ em que $det(A) \\neq 0$, com a diagonal principal $a_{ii} \\neq 0$, $i=1,...,n$ como segue\n",
    "\n",
    "$$ \\begin{cases} \n",
    "\t         a_{11}x_1 +a_{12}x_2 + \\cdots + a_{1n}x_n = b_1\\\\ \n",
    "\t         a_{21}x_1 +a_{22}x_2 + \\cdots + a_{2n}x_n = b_2\\\\\n",
    "\t         \\vdots   \\\\\n",
    "\t         a_{n1}x_1 +a_{n2}x_2 + \\cdots + a_{nn}x_n = b_1\\\\\n",
    "             \\end{cases} $$\n",
    "\n",
    "Dividindo cada linha do sistema dado pelo elemento da diagonal e isolando $x_1$ na $1^a$ equação, $x_2$ na $2^a$ equação até $x_n$ na n-ésima equação, temos o sistema escrito na forma equivalente:\n",
    "\n",
    "$$ \\begin{cases} \n",
    "\t         x_1 = \\frac{1}{a_{11}} \\left(b_1  - a_{12}x_2 - a_{13}x_3 - \\cdots - a_{1n}x_n \\right)\\\\ \n",
    "\t         x_2 = \\frac{1}{a_{22}} \\left(b_2  - a_{21}x_1 - a_{23}x_3 - \\cdots - a_{2n}x_n \\right)\\\\ \n",
    "\t         \\vdots   \\\\\n",
    "\t         x_n = \\frac{1}{a_{nn}} \\left(b_n  - a_{n1}x_1 - a_{n2}x_2 - \\cdots - a_{n \\, n-1}x_{n-1} \\right)\\\\ \n",
    "\\end{cases} $$\n",
    "\n",
    "O método iterativo de Gauss-Seidel é dado da seguinte forma:\n",
    "\n",
    "$$ \\begin{cases} \n",
    "             x_1^{(k+1)} = \\frac{b_1}{a_{11}}  - \\frac{a_{12}}{a_{11}}x_2^{(k)} - \\frac{a_{13}}{a_{11}}x_3^{(k)} - \\cdots - \\frac{a_{1n}}{a_{11}}x_n^{(k)} \\\\ \n",
    "\t         x_2^{(k+1)} = \\frac{b_2}{a_{22}}  - \\frac{a_{21}}{a_{22}}x_1^{(k+1)} - \\frac{a_{23}}{a_{22}}x_3^{(k)} - \\cdots - \\frac{a_{1n}}{a_{11}}x_n^{(k)} \\\\ \n",
    "\t         \\vdots   \\\\\n",
    "\t         x_n^{(k+1)} = \\frac{b_n}{a_{nn}}  - \\frac{a_{n1}}{a_{nn}}x_1^{(k+1)} - \\frac{a_{n2}}{a_{nn}}x_3^{(k+1)} - \\cdots - \\frac{a_{n \\, n-1}}{a_{nn}}x_{n-1}^{(k+1)} \\\\\n",
    "\\end{cases} $$\n"
   ]
  },
  {
   "cell_type": "markdown",
   "metadata": {},
   "source": [
    "## Exemplos"
   ]
  },
  {
   "cell_type": "code",
   "execution_count": 1,
   "metadata": {
    "collapsed": false
   },
   "outputs": [
    {
     "name": "stdout",
     "output_type": "stream",
     "text": [
      "(0.8000, 1.0333, -0.0778) err= 1.0\n",
      "(0.9911, 1.0015, -0.0035) err= 0.190828402367\n",
      "(0.9996, 1.0001, -0.0002) err= 0.00849326793298\n"
     ]
    }
   ],
   "source": [
    "import numpy as np\n",
    "\n",
    "x = np.array([0.,0.,0.])\n",
    "x_ant = np.array([0.,0.,0.])\n",
    "eps = 0.01\n",
    "\n",
    "A = np.array([[-10., 2.0, 2.0],\n",
    "              [ 1.0, 6.0, 0.0],\n",
    "              [-1.0, 1.0, 3.0]])\n",
    "b = np.array([-8., 7., 0.])\n",
    "\n",
    "x1 = lambda x2, x3: (b[0] - A[0,1]*x2 - A[0,2]*x3)/A[0,0]\n",
    "x2 = lambda x1, x3: (b[1] - A[1,0]*x1 - A[1,2]*x3)/A[1,1]\n",
    "x3 = lambda x1, x2: (b[2] - A[2,0]*x1 - A[2,1]*x2)/A[2,2]\n",
    "\n",
    "err = 10.\n",
    "while err>eps:\n",
    "#for k in range(5):\n",
    "    x[0] = x1(x[1],x[2])\n",
    "    x[1] = x2(x[0],x[2])\n",
    "    x[2] = x3(x[0],x[1])\n",
    "    err = np.amax(np.absolute(x-x_ant))/np.amax(np.absolute(x))   \n",
    "    print (\"(%.4f,\"%x[0],\"%.4f,\"%x[1],\"%.4f)\"%x[2], \"err=\",err)\n",
    "    x_ant = np.copy(x)"
   ]
  },
  {
   "cell_type": "code",
   "execution_count": 4,
   "metadata": {
    "collapsed": false
   },
   "outputs": [
    {
     "name": "stdout",
     "output_type": "stream",
     "text": [
      "(1.4000, 1.9200, -0.0560) err= 1.0\n",
      "(1.0216, 2.0069, -0.0064) err= 0.18855138324164877\n",
      "(0.9993, 2.0014, -0.0003) err= 0.011160851687861838\n",
      "(0.9997, 2.0001, 0.0000) err= 0.0006584584230122856\n"
     ]
    }
   ],
   "source": [
    "import numpy as np\n",
    "\n",
    "x = np.array([0.,0.,0.])\n",
    "x_ant = np.array([0.,0.,0.])\n",
    "eps = 0.01\n",
    "\n",
    "A = np.array([[10,2,1],\n",
    "              [1,5,1],\n",
    "              [2,3,10]])\n",
    "b = np.array([14,11,8])\n",
    "\n",
    "x1 = lambda x2, x3: (b[0] - A[0,1]*x2 - A[0,2]*x3)/A[0,0]\n",
    "x2 = lambda x1, x3: (b[1] - A[1,0]*x1 - A[1,2]*x3)/A[1,1]\n",
    "x3 = lambda x1, x2: (b[2] - A[2,0]*x1 - A[2,1]*x2)/A[2,2]\n",
    "\n",
    "err = 10.\n",
    "while err>eps:\n",
    "#for k in range(5):\n",
    "    x[0] = x1(x[1],x[2])\n",
    "    x[1] = x2(x[0],x[2])\n",
    "    x[2] = x3(x[0],x[1])\n",
    "    err = np.amax(np.absolute(x-x_ant))/np.amax(np.absolute(x))   \n",
    "    print (\"(%.4f,\"%x[0],\"%.4f,\"%x[1],\"%.4f)\"%x[2], \"err=\",err)\n",
    "    x_ant = np.copy(x)"
   ]
  },
  {
   "cell_type": "code",
   "execution_count": 3,
   "metadata": {
    "collapsed": false
   },
   "outputs": [
    {
     "name": "stdout",
     "output_type": "stream",
     "text": [
      "(0.2000, 0.3333, 0.1111, 0.1683, 0.0583,) err= 1.0\n",
      "(0.0669, 0.2965, 0.2304, 0.1912, 0.0796,) err= 0.44889582868614764\n",
      "(0.0262, 0.2763, 0.2461, 0.2042, 0.0872,) err= 0.14731623998678267\n",
      "(0.0229, 0.2728, 0.2561, 0.2027, 0.0880,) err= 0.03672029746344947\n",
      "(0.0201, 0.2715, 0.2550, 0.2043, 0.0886,) err= 0.010484703792705703\n",
      "(0.0205, 0.2715, 0.2562, 0.2037, 0.0885,) err= 0.004427429100359636\n",
      "(0.0202, 0.2714, 0.2558, 0.2040, 0.0886,) err= 0.0015913196833542652\n",
      "(0.0203, 0.2715, 0.2560, 0.2039, 0.0885,) err= 0.0008282016028652112\n"
     ]
    }
   ],
   "source": [
    "import numpy as np\n",
    "\n",
    "x = np.array([0.,0.,0.,0,0])\n",
    "x_ant = np.array([0.,0.,0.,0,0])\n",
    "eps = 0.001\n",
    "\n",
    "A = np.array([[5,1,2,1,-1],\n",
    "              [0,6,1,1,-1],\n",
    "              [0,1,-3,2,1],\n",
    "              [3,0,2,7,0],\n",
    "              [1,1,0,0,8]])\n",
    "b = np.array([1,2,0,2,1])\n",
    "\n",
    "x1 = lambda x2, x3, x4, x5: (b[0] - A[0,1]*x2 - A[0,2]*x3 - A[0,3]*x4 - A[0,4]*x5)/A[0,0]\n",
    "x2 = lambda x1, x3, x4, x5: (b[1] - A[1,0]*x1 - A[1,2]*x3 - A[1,3]*x4 - A[1,4]*x5)/A[1,1]\n",
    "x3 = lambda x1, x2, x4, x5: (b[2] - A[2,0]*x1 - A[2,1]*x2 - A[2,3]*x4 - A[2,4]*x5)/A[2,2]\n",
    "x4 = lambda x1, x2, x3, x5: (b[3] - A[3,0]*x1 - A[3,1]*x2 - A[3,2]*x3 - A[3,4]*x5)/A[3,3]\n",
    "x5 = lambda x1, x2, x3, x4: (b[4] - A[4,0]*x1 - A[4,1]*x2 - A[4,2]*x3 - A[4,3]*x4)/A[4,4]\n",
    "\n",
    "err = 10.\n",
    "while err>eps:\n",
    "#for k in range(5):\n",
    "    x[0] = x1(x[1],x[2],x[3],x[4])\n",
    "    x[1] = x2(x[0],x[2],x[3],x[4])\n",
    "    x[2] = x3(x[0],x[1],x[3],x[4])\n",
    "    x[3] = x4(x[0],x[1],x[2],x[4])\n",
    "    x[4] = x5(x[0],x[1],x[2],x[3])\n",
    "    err = np.amax(np.absolute(x-x_ant))/np.amax(np.absolute(x))   \n",
    "    print (\"(%.4f,\"%x[0],\"%.4f,\"%x[1],\"%.4f,\"%x[2],\"%.4f,\"%x[3],\"%.4f,)\"%x[4], \"err=\",err)\n",
    "    x_ant = np.copy(x)"
   ]
  },
  {
   "cell_type": "markdown",
   "metadata": {},
   "source": [
    "Na forma matricial, o método de Gauss-Seidel  pode ser escrito como\n",
    "\n",
    "$$\\left[\n",
    "    \\begin{array}{c} \n",
    "\t         x_1^{(k+1)} \\\\ \n",
    "\t         x_2^{(k+1)} \\\\\n",
    "             \\vdots\\\\\n",
    "\t         x_n^{(k+1)} \\\\\n",
    "\t\\end{array} \n",
    "\\right]\n",
    "=\n",
    "\\left[\\begin{array}{ccccc} \n",
    "\t         0                     & 0 & 0 & \\cdots & 0 \\\\ \n",
    "\t         -\\frac{a_{21}}{a_{22}} & 0 & 0 & \\cdots & 0 \\\\\n",
    "\t         \\vdots & \\vdots & \\vdots & \\vdots & \\vdots \\\\\n",
    "\t         -\\frac{a_{n1}}{a_{nn}} & -\\frac{a_{n2}}{a_{nn}} & \\cdots & -\\frac{a_{n \\,n-1}}{a_{nn}} & 0\\\\\n",
    "\t         \\end{array} \\right]\n",
    "             \\left[\n",
    "    \\begin{array}{c} \n",
    "\t         x_1^{(k+1)} \\\\ \n",
    "\t         x_2^{(k+1)} \\\\\n",
    "             \\vdots\\\\\n",
    "\t         x_n^{(k+1)} \\\\\n",
    "\t\\end{array} \n",
    "\\right]\n",
    "+\n",
    "\\left[\\begin{array}{ccccc} \n",
    "\t         0&  -\\frac{a_{12}}{a_{11}}& -\\frac{a_{13}}{a_{11}}& \\cdots &-\\frac{a_{1n}}{a_{11}} \\\\ \n",
    "\t         0& 0& -\\frac{a_{23}}{a_{22}} & \\cdots & -\\frac{a_{2n}}{a_{22}} \\\\\n",
    "\t         \\vdots & \\vdots & \\vdots & \\vdots & \\vdots \\\\\n",
    "\t         0& 0& 0& \\cdots& 0\\\\\n",
    "\t         \\end{array} \\right]\n",
    "\\left[\\begin{array}{c} \n",
    "\t         x_1^{(k)} \\\\ \n",
    "\t         x_2^{(k)} \\\\\n",
    "             \\vdots\\\\\n",
    "\t         x_n^{(k)} \\\\\n",
    "\t\\end{array} \\right]\n",
    "+\n",
    "\\left[ \\begin{array}{c} \n",
    "\t         \\frac{b_1}{a_{11}} \\\\ \n",
    "\t         \\frac{b_2}{a_{22}} \\\\\n",
    "             \\vdots\\\\\n",
    "\t         \\frac{b_n}{a_{nn}} \\\\\n",
    "\t\\end{array} \\right]$$\n"
   ]
  },
  {
   "cell_type": "markdown",
   "metadata": {},
   "source": [
    "ou \n",
    "$$ x^{(k+1)} = P x^{(k+1)} + Q x^{(k)} + g$$\n",
    "\n",
    "$$ (I-P)x^{(k+1)} = Q x^{(k)} + g$$\n",
    "\n",
    "$$ x^{(k+1)} = (I-P)^{-1}Q x^{(k)} + (I-P)^{-1}g$$\n",
    "\n",
    "Fazendo-se $H = (I-P)^{-1}Q$ e $g' =(I-P)^{-1}g$ o processo iterativo torna-se\n",
    "\n",
    "$$x^{(k+1)} = H x^{(k)} + g'$$"
   ]
  },
  {
   "cell_type": "markdown",
   "metadata": {
    "collapsed": true
   },
   "source": [
    "Agora usando operações vetoriais com Numpy"
   ]
  },
  {
   "cell_type": "code",
   "execution_count": 33,
   "metadata": {
    "collapsed": false
   },
   "outputs": [
    {
     "name": "stdout",
     "output_type": "stream",
     "text": [
      "[ 0.0203  0.2715  0.2559  0.2039  0.0885]\n"
     ]
    }
   ],
   "source": [
    "import numpy as np\n",
    "\n",
    "x = np.array([0.,0.,0.,0,0])\n",
    "x_ant = x.copy()\n",
    "eps = 0.001\n",
    "\n",
    "A = np.array([[5,1,2,1,-1],\n",
    "              [0,6,1,1,-1],\n",
    "              [0,1,-3,2,1],\n",
    "              [3,0,2,7,0],\n",
    "              [1,1,0,0,8]])\n",
    "b = np.array([1,2,0,2,1])\n",
    "\n",
    "n = len(A)\n",
    "for k in range(10):\n",
    "    for i in range(n):\n",
    "        x[i] = (b[i] - np.dot(A[i,0:i],x[0:i])-np.dot(A[i,i+1:n],x[i+1:n]))/A[i,i]\n",
    "\n",
    "print (np.round(x,4))\n",
    "    \n",
    "    \n",
    "    \n",
    "    \n",
    "    "
   ]
  },
  {
   "cell_type": "code",
   "execution_count": 70,
   "metadata": {
    "collapsed": false
   },
   "outputs": [
    {
     "name": "stdout",
     "output_type": "stream",
     "text": [
      "[ 0.2     0.3333  0.1111  0.1683  0.0583]\n",
      "[ 0.0669  0.2965  0.2304  0.1912  0.0796]\n",
      "[ 0.0262  0.2763  0.2461  0.2042  0.0872]\n",
      "[ 0.0229  0.2728  0.2561  0.2027  0.088 ]\n",
      "[ 0.0201  0.2715  0.255   0.2043  0.0886]\n",
      "[ 0.0205  0.2715  0.2562  0.2037  0.0885]\n",
      "[ 0.0202  0.2714  0.2558  0.204   0.0886]\n",
      "[ 0.0203  0.2715  0.256   0.2039  0.0885]\n",
      "[ 0.0202  0.2714  0.2559  0.2039  0.0885]\n",
      "[ 0.0203  0.2715  0.2559  0.2039  0.0885]\n"
     ]
    }
   ],
   "source": [
    "from numpy.linalg import inv\n",
    "\n",
    "\n",
    "x = np.array([0.,0.,0.,0,0])\n",
    "\n",
    "eps = 0.001\n",
    "A = np.array([[5,1,2,1,-1],\n",
    "              [0,6,1,1,-1],\n",
    "              [0,1,-3,2,1],\n",
    "              [3,0,2,7,0],\n",
    "              [1,1,0,0,8]])\n",
    "b = np.array([1,2,0,2,1])\n",
    "\n",
    "n = len(A)\n",
    "P = np.zeros((n,n))\n",
    "Q = np.zeros((n,n))\n",
    "g = np.zeros(n)\n",
    "\n",
    "\n",
    "for i in range(n):\n",
    "    P[i,0:i] = -A[i,0:i]/A[i,i]\n",
    "    Q[i,i+1:n] = -A[i,i+1:n]/A[i,i]\n",
    "    g[i] = b[i]/A[i,i] \n",
    "    \n",
    "I = np.eye(n)\n",
    "H = np.dot(inv(I-P),Q)\n",
    "g = np.dot(inv(I-P),g)\n",
    "\n",
    "\n",
    "for k in range(10):\n",
    "    x = np.dot(H,x) + g\n",
    "    \n",
    "    print (np.round(x,4))\n",
    "\n"
   ]
  },
  {
   "cell_type": "code",
   "execution_count": null,
   "metadata": {
    "collapsed": true
   },
   "outputs": [],
   "source": []
  }
 ],
 "metadata": {
  "kernelspec": {
   "display_name": "Python 3",
   "language": "python",
   "name": "python3"
  },
  "language_info": {
   "codemirror_mode": {
    "name": "ipython",
    "version": 3
   },
   "file_extension": ".py",
   "mimetype": "text/x-python",
   "name": "python",
   "nbconvert_exporter": "python",
   "pygments_lexer": "ipython3",
   "version": "3.5.1"
  }
 },
 "nbformat": 4,
 "nbformat_minor": 1
}

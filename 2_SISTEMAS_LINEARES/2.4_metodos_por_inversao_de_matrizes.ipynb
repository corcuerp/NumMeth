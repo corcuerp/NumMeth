{
 "cells": [
  {
   "cell_type": "markdown",
   "metadata": {
    "collapsed": true
   },
   "source": [
    "# 2.4 Método por inversão de matrizes\n",
    "\n",
    "Considere o sistema de $n$ equações e $n$ variáveis dado por \n",
    "\n",
    "$$ Ax=b$$\n",
    "\n",
    "Se a matriz $A$ dos coeficientes for não singular, ou seja, se o sistema possuir solução única a matriz é invertível e a solução do sistema pode ser obtida multiplicando-se a inversa $A^{-1}$ à esquerda de ambos os lados da equação, como segue: \n",
    "\n",
    "$$A^{-1}Ax=A^{-1}b$$\n",
    "logo\n",
    "$$Ix = A^{-1}b$$\n",
    "ou\n",
    "$$x = A^{-1}b$$\n",
    "Que é a solução do sistema linear."
   ]
  },
  {
   "cell_type": "markdown",
   "metadata": {},
   "source": [
    "## Obtenção da matriz inversa\n",
    "\n"
   ]
  },
  {
   "cell_type": "code",
   "execution_count": 48,
   "metadata": {
    "collapsed": false
   },
   "outputs": [
    {
     "name": "stdout",
     "output_type": "stream",
     "text": [
      "[[ 1  0  1]\n",
      " [ 0  1  2]\n",
      " [ 0  0 -1]]\n",
      "[[ 1.  0.  0.]\n",
      " [ 0.  1.  0.]\n",
      " [ 0. -1.  1.]]\n"
     ]
    }
   ],
   "source": [
    "import numpy as np\n",
    "\n",
    "A = np.array([[1,0,1],[0,1,2],[0,1,1]])\n",
    "I = np.identity(3)\n",
    "n = len(A)\n",
    "for j in range(0,n):\n",
    "    for i in range(j+1,n):\n",
    "        mij = A[i][j]/A[j][j]\n",
    "        A[i][j:n] = A[i][j:n] - mij*A[j][j:n]\n",
    "        I[i][j:n] = I[i][j:n] - mij*I[j][j:n]\n",
    "\n",
    "print (np.round(A,4))\n",
    "print (I)"
   ]
  },
  {
   "cell_type": "code",
   "execution_count": 49,
   "metadata": {
    "collapsed": false
   },
   "outputs": [
    {
     "name": "stdout",
     "output_type": "stream",
     "text": [
      "[1. 0. 0.]\n",
      "[ 0.  1. -1.]\n",
      "[0. 0. 1.]\n"
     ]
    }
   ],
   "source": [
    "b1,b2,b3 =np.split(I, 3, axis=1)\n",
    "b1 = b1.T[0]\n",
    "b2 = b2.T[0]\n",
    "b3 = b3.T[0]\n",
    "print (b1)\n",
    "print (b2)\n",
    "print (b3)"
   ]
  },
  {
   "cell_type": "code",
   "execution_count": 50,
   "metadata": {
    "collapsed": false
   },
   "outputs": [
    {
     "name": "stdout",
     "output_type": "stream",
     "text": [
      "[ 1.  0. -0. -1. -1.  1.]\n"
     ]
    }
   ],
   "source": [
    "def solve_tri(A,b):\n",
    "    n = len(b)\n",
    "    for k in range(n-1,-1,-1): \n",
    "        b[k] = (b[k] - np.dot(A[k][k+1:n],b[k+1:n]))/A[k][k] \n",
    "    return b\n",
    "\n",
    "\n",
    "c1 = solve_tri(A,b1)\n",
    "c2 = solve_tri(A,b2)\n",
    "c3 = solve_tri(A,b3)\n",
    "\n",
    "M = np.concatenate((c1, c2))\n",
    "print(M)\n",
    "\n"
   ]
  },
  {
   "cell_type": "code",
   "execution_count": null,
   "metadata": {
    "collapsed": true
   },
   "outputs": [],
   "source": []
  }
 ],
 "metadata": {
  "kernelspec": {
   "display_name": "Python 3",
   "language": "python",
   "name": "python3"
  },
  "language_info": {
   "codemirror_mode": {
    "name": "ipython",
    "version": 3
   },
   "file_extension": ".py",
   "mimetype": "text/x-python",
   "name": "python",
   "nbconvert_exporter": "python",
   "pygments_lexer": "ipython3",
   "version": "3.5.1"
  }
 },
 "nbformat": 4,
 "nbformat_minor": 1
}

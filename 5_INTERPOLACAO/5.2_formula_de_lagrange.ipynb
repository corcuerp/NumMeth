{
 "cells": [
  {
   "cell_type": "markdown",
   "metadata": {},
   "source": [
    "# 5.2. Fórmula Interpolatória de Lagrange\n",
    "\n",
    "Seja $f(x)$ definida em $x_0, x_1,...,x_n$, (n+1) pontos distintos de um intervalo $[a,b]$ e $y_i=f(x_i)$, $i=0,1,...,n$. O polinômio interpolador de Lagrange é dado por \n",
    "\n",
    "$$ P(x) = y_0 l_0(x) + y_1 l_1(x) + ...+y_n l_n(x)$$\n",
    "\n",
    "onde $l_k(x)$, $k=0,1,...,n$ são polinômios de grau $n$ obtidos pela fórmula \n",
    "\n",
    "$$ l_k(x)=\\frac{(x-x_0)(x-x_1)...(x-x_{k-1})(x-x_{k+1})...(x-x_n)}{(x_k-x_0)(x_k-x_1)...(x_k-x_{k-1})(x_k-x_{k+1})...(x_k-x_n)}$$\n",
    "\n",
    "ou, de forma compacta\n",
    "\n",
    "$$P(x)=\\sum_{k=0}^{n} y_k l_k(x) $$\n",
    "\n",
    "com\n",
    "\n",
    "$$ l_k(x) = \\prod_{j=0 e j\\neq k}^{n} \\frac{(x-x_j)}{(x_k-x_j)}$$"
   ]
  },
  {
   "cell_type": "markdown",
   "metadata": {},
   "source": [
    "### Exemplo 1\n",
    "\n",
    "Considere a função $f(x)$ definida nos pontos $\\{(0.0, 1.3), (0.5, 2.5), (1.0, 0.9)\\}$. Determine o polinômio interpolador, usando a fórmula de Lagrange, e estime $f(0.8)$.\n",
    "\n",
    "*Solução:* Queremos o polinômio na forma $ P(x) = y_0 l_0(x) + y_1 l_1(x) + y_2 l_2(x)$. Então, obtemos os $l_k(x)$ fazendo\n",
    "\n",
    "$l_0 = \\frac{(x-x_1)(x-x_2)}{(x_0-x_1)(x_0-x_2)} = \\frac{(x-0.5)(x-1.0)}{(0.0-0.5)(0.0-1.0)} = \n",
    "\\frac{x^2-1.5x+0.5}{0.5}$\n",
    "\n",
    "$l_1 = \\frac{(x-x_0)(x-x_2)}{(x_1-x_0)(x_1-x_2)}=\\frac{(x-0.0)(x-1.0)}{(0.5-0.0)(0.5-1.0)}=\\frac{x^2-x}{-0.25}$\n",
    "\n",
    "$l_2 = \\frac{(x-x_0)(x-x_1)}{(x_2-x_0)(x_2-x_1)}=\\frac{(x-0.0)(x-0.5)}{(1.0-0.0)(1.0-0.5)}=\\frac{x^2-0.5x}{0.5}$\n",
    "\n",
    "Assim,\n",
    "$P(x)=1.3 \\left(\\frac{x^2-1.5x+0.5}{0.5} \\right) + 2.5 \\left(  \\frac{x^2-x}{-0.25} \\right) + 0.9 \\left( \\frac{x^2-0.5x}{0.5} \\right) = -5.6x^2+5.2x+1.3$\n",
    "\n",
    "Portanto, tem-se\n",
    "\n",
    "$f(0.8) \\simeq P(0.8) = -5.6(0.8)^2+5.2(0.8)+1.3 = 1.8760 $.\n",
    "\n",
    "O script Python abaixo plota o gráfico do polinômio obtido juntamente com os pontos tabelados."
   ]
  },
  {
   "cell_type": "code",
   "execution_count": 2,
   "metadata": {},
   "outputs": [
    {
     "name": "stdout",
     "output_type": "stream",
     "text": [
      "[-1.   -0.94 -0.88 -0.82 -0.76 -0.7  -0.64 -0.58 -0.52 -0.46 -0.4  -0.34\n",
      " -0.28 -0.22 -0.16 -0.1  -0.04  0.02  0.08  0.14  0.2   0.26  0.32  0.38\n",
      "  0.44  0.5   0.56  0.62  0.68  0.74  0.8   0.86  0.92  0.98  1.04  1.1\n",
      "  1.16  1.22  1.28  1.34  1.4   1.46  1.52  1.58  1.64  1.7   1.76  1.82\n",
      "  1.88  1.94  2.  ]\n"
     ]
    },
    {
     "data": {
      "image/png": "[encoded data removed]",
      "text/plain": [
       "<matplotlib.figure.Figure at 0x2301c2767b8>"
      ]
     },
     "metadata": {},
     "output_type": "display_data"
    },
    {
     "name": "stdout",
     "output_type": "stream",
     "text": [
      "P(0.5)= 2.5\n"
     ]
    }
   ],
   "source": [
    "% matplotlib inline\n",
    "import matplotlib.pyplot as plt\n",
    "import numpy as np\n",
    "\n",
    "x = [0.0, 0.5, 1.0]\n",
    "y = [1.3, 2.5, 0.9]\n",
    "\n",
    "def P(x): return  -5.6*x**2 + 5.2*x + 1.3\n",
    "\n",
    "xnew = np.linspace(-1, 2, num=51)\n",
    "print (xnew)\n",
    "plt.plot(x, y, '.', xnew, P(xnew),'-', )\n",
    "plt.grid()\n",
    "plt.show()\n",
    "\n",
    "print ('P(0.5)=', P(0.5))"
   ]
  },
  {
   "cell_type": "markdown",
   "metadata": {
    "collapsed": true
   },
   "source": [
    "### Exemplo 2\n",
    "\n",
    "Considere a função $f(x)= \\frac{(3+x)}{(1+x)}$ definida nos pontos\n",
    "$\\{(0.1, 2.8182), (0.2, 2.6667), (0.4, 2.4286)\\}$. Determine o polinômio interpolador de $f(x)$, usando a fórmula de Lagrange, estime $f(0.25)$ e dê um limitante superior para o erro.\n",
    "\n",
    "*Solução:* Queremos o polinômio na forma $ P(x) = y_0 l_0(x) + y_1 l_1(x) + y_2 l_2(x)$. Então, obtemos os $l_k(x)$ fazendo\n",
    "\n",
    "$l_0 = \\frac{(x-x_1)(x-x_2)}{(x_0-x_1)(x_0-x_2)} = \\frac{(x-0.2)(x-0.4)}{(0.1-0.2)(0.1-0.4)} = \n",
    "\\frac{x^2-0.6x+0.08}{0.03}$\n",
    "\n",
    "$l_1 = \\frac{(x-x_0)(x-x_2)}{(x_1-x_0)(x_1-x_2)}=\\frac{(x-0.1)(x-0.4)}{(0.2-0.1)(0.2-0.4)}=\\frac{x^2-0.5x+0.04}{-0.02}$\n",
    "\n",
    "$l_2 = \\frac{(x-x_0)(x-x_1)}{(x_2-x_0)(x_2-x_1)}=\\frac{(x-0.1)(x-0.2)}{(0.4-0.1)(0.4-0.2)}=\\frac{x^2-0.3x+0.02}{0.06}$\n",
    "\n",
    "Assim,\n",
    "$P(x)=2.8182 \\left(\\frac{x^2-0.6x+0.08}{0.03} \\right) + 2.6667 \\left(  \\frac{x^2-0.5x+0.04}{-0.02} \\right) + 2.4286 \\left( \\frac{x^2-0.3x+0.02}{0.06} \\right) = 1.0817x^2-1.8395x+2.9913$\n",
    "\n",
    "Portanto, tem-se\n",
    "\n",
    "$f(0.25) \\simeq P(0.25) = 1.0817(0.25)^2-1.8395(0.25)+2.9913= 2.5990 $.\n",
    "\n",
    "\n",
    "A seguir, um script Pyhton que implementa a fórmula de Lagrange para este exemplo"
   ]
  },
  {
   "cell_type": "code",
   "execution_count": 4,
   "metadata": {},
   "outputs": [
    {
     "data": {
      "image/png": "[encoded data removed]",
      "text/plain": [
       "<matplotlib.figure.Figure at 0x7f3bf350fb38>"
      ]
     },
     "metadata": {},
     "output_type": "display_data"
    },
    {
     "name": "stdout",
     "output_type": "stream",
     "text": [
      "P( 0.25 ) = 2.5990125\n"
     ]
    }
   ],
   "source": [
    "% matplotlib inline\n",
    "import matplotlib.pyplot as plt\n",
    "\n",
    "X = [0.1, 0.2, 0.4]\n",
    "Y = [2.8184, 2.6667, 2.4286]\n",
    "\n",
    "n = len(Y)\n",
    "\n",
    "def calculaP(x):\n",
    "    valor = 0\n",
    "    for k in range(n):\n",
    "        lk = 1.0\n",
    "        for i in range(n):\n",
    "            if k != i:\n",
    "                lk = lk*(x - X[i])/(X[k]-X[i])\n",
    "        valor = valor + Y[k]*lk \n",
    "    return valor\n",
    "\n",
    "Ynew = []\n",
    "Xnew = np.linspace(X[0], X[-1], num=21)\n",
    "for xnew in Xnew:\n",
    "    ynew = calculaP(xnew)\n",
    "    Ynew.append(ynew)\n",
    "\n",
    "plt.plot(X, Y, 'o', Xnew, Ynew,'-')\n",
    "plt.grid()\n",
    "plt.show()\n",
    "\n",
    "x = 0.25\n",
    "print (\"P(\",x,\") =\", calculaP(x))"
   ]
  },
  {
   "cell_type": "markdown",
   "metadata": {},
   "source": [
    "**Limitante Superior para o erro**\n",
    "\n",
    "A partir da fórmula do limitante superior para o erro\n",
    "\n",
    "$$ \\left|E(x)\\right| \\leq  \\frac{\\left| \\psi(x) \\right|}{(n+1)!}M$$ com $$M = máx \\{  \\left|f^{(n+1)}(x)\\right|, x \\in [x_0, x_1] \\} $$.\n",
    "\n",
    "Para $n = 2$, temos:\n",
    "\n",
    "$$ \\left| E(x) \\right| \\leq \\left| \\frac{(x-x_0)(x-x_1)(x-x_2)}{3!}\\right| M $$\n",
    "com\n",
    "$$M = máx. \\{  \\left|f^{(3)}(x)\\right|, x \\in [0.1, 0.4] \\} $$\n",
    "\n",
    "Como $f^{(3)}(x) = \\frac{-12}{(1+x)^4}$ é uma função decrescente em módulo no intervalo [0.1, 0.4], temos que |f^{(3)}(x)\\right| assume valor máximo em $x=0.1$, ou seja,\n",
    "\n",
    "$$ M =  máx  \\left\\{  \\left| \\frac{-12}{(1+x)^4} \\right|, x \\in [0.1, 0.4] \\right\\} = \\frac{-12}{(1+0.1)^4} = 8.1962 $$\n",
    "\n",
    "Asim, o limitante superiorpara o erro ao aproximarmos f(0.25) por P(0.25) é dado por\n",
    "\n",
    "$$ \\left| E(0.25) \\right| \\leq \\left| \\frac{(0.25-0.1)(0.25-0.2)(0.25-0.4)}{6}\\right| 8.1962 = 0.0015 $$\n",
    "\n",
    "O script Python abaixo plota os gráficos de P(x) e de f(x) para comparação."
   ]
  },
  {
   "cell_type": "code",
   "execution_count": 30,
   "metadata": {},
   "outputs": [
    {
     "data": {
      "image/png": "[encoded data removed]",
      "text/plain": [
       "<matplotlib.figure.Figure at 0x7f35fbf8d3c8>"
      ]
     },
     "metadata": {},
     "output_type": "display_data"
    }
   ],
   "source": [
    "% matplotlib inline\n",
    "import matplotlib.pyplot as plt\n",
    "import numpy as np\n",
    "\n",
    "P = lambda x: 1.0817*x**2 - 1.8395*x + 2.9913\n",
    "f = lambda x: (3+x)/(1+x)\n",
    "\n",
    "x = np.linspace(-0.5, 2.2, num=20)\n",
    "plt.plot(x, P(x), '--', x, f(x),'-')\n",
    "plt.grid()\n",
    "plt.show()"
   ]
  },
  {
   "cell_type": "markdown",
   "metadata": {},
   "source": [
    "### Fórmula interpolatória de Lagrange para pontos equidistantes\n",
    "\n",
    "Se os pontos $x_0, ..., x_n$ forem igualmente espaçados, ou seja, se $x_{i+1}-x_i=h$ para $i=0, ..., n-1$, então é possível fazer uma mudança de variável e obter uma fórmula simplificada para o polinômio interpolador de Lagrange.\n",
    "Fazemos \n",
    "\n",
    "$$ u = \\frac{x-x_0}{h} $$\n",
    "que é o mesmo que\n",
    "$$ x = x_o +uh$$\n",
    "\n",
    "e reescrevemos a fórmula para $l_k(x)$ usando as propriedades \n",
    "\n",
    "a) $(x-x_r)=(u-r)h$\n",
    "\n",
    "b) $(x_r-x_s) = (r-s)h$\n",
    "\n",
    "para obter os polinômios $l_k$ em função da variável $u$.\n",
    "\n",
    "Assim, a fórmula de Lagrange fica \n",
    "\n",
    "$$P(u)=\\sum_{k=0}^{n} y_k l_k(u) $$\n",
    "\n",
    "com\n",
    "\n",
    "$$ l_k(u) = \\prod_{j=0 e j\\neq k}^{n} \\frac{(u-j)}{(k-j)}$$\n",
    "\n",
    "Para avaliar o valor do polinômio de um determinado valor de $x$ precisamos obter o valor correspondente na variável $u$, fazendo, $ u = \\frac{x-x_0}{h} $ e calcular $P(u)$.\n",
    "\n",
    "**Limitante superior para o erro**\n",
    "\n",
    "O erro máximo, nesse caso, é dado pela fórmula\n",
    "\n",
    "$$ E(x) \\leq  \\frac{\\left| \\psi(x) \\right|}{(n+1)!}M$$ com $$M = máx \\{  \\left|f^{(n+1)}(x)\\right|, x \\in [x_0, x_1] \\} $$.\n"
   ]
  },
  {
   "cell_type": "markdown",
   "metadata": {
    "collapsed": true
   },
   "source": []
  },
  {
   "cell_type": "code",
   "execution_count": null,
   "metadata": {
    "collapsed": true
   },
   "outputs": [],
   "source": []
  }
 ],
 "metadata": {
  "anaconda-cloud": {},
  "kernelspec": {
   "display_name": "Python 3",
   "language": "python",
   "name": "python3"
  },
  "language_info": {
   "codemirror_mode": {
    "name": "ipython",
    "version": 3
   },
   "file_extension": ".py",
   "mimetype": "text/x-python",
   "name": "python",
   "nbconvert_exporter": "python",
   "pygments_lexer": "ipython3",
   "version": "3.6.4"
  }
 },
 "nbformat": 4,
 "nbformat_minor": 1
}

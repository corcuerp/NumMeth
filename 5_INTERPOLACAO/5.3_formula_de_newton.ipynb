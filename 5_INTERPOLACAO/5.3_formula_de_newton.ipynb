{
 "cells": [
  {
   "cell_type": "markdown",
   "metadata": {},
   "source": [
    "# 5.3. Fórmula de Newton\n",
    "\n",
    "\n",
    "\n",
    "Seja $f(x)$ definida em $x_0, x_1,...,x_n$, (n+1) pontos distintos de um intervalo $[a,b]$ e $y_i=f(x_i)$, $i=0,1,...,n$. O polinômio interpolador de Newton é dado por \n",
    "\n",
    "$$ P(x) = f[x_0] + (x-x_0)f[x_0,x_1] + (x-x_0)(x-x_1)f[x_0,x_1,x_2]+...+(x-x_0)(x-x_1)...(x-x_{n-1})f[x_0,...,x_n]$$\n",
    "\n",
    "onde $f[x_0]$, $f[x_0,x_1]$,...,$f[x_0,...,x_n]$ são as **diferenças divididas**, obtidas como é mostrado a seguir.\n",
    "\n",
    "\n",
    "**Diferença dividida de ordem 0:**\n",
    "$$f[x_i]=f(x_i), i=0,1,...,n$$\n",
    "\n",
    "**Diferença dividida de ordem 1:**\n",
    "$$f[x_i, x_{i+1}]=\\frac{f[x_{i+1}]-f[x_{i}]}{x_{i+1}-x_i}, i=0,1,...,n-1$$\n",
    "\n",
    "**Diferença dividida de ordem 2:**\n",
    "$$f[x_i, x_{i+1}, x_{i+2}]=\\frac{f[x_{i+1}, x_{i+2}] - f[x_{i}, x_{i+1}]}   {x_{i+2} - x_i}, i=0,1,...,n-3$$\n",
    "\n",
    "$\\vdots$\n",
    "\n",
    "**Diferença dividida de ordem n:**\n",
    "$$f[x_0,...,x_n]=\\frac{f[x_1,...,x_n] - f[x_0, ...,x_{n-1}]}   {x_n - x_0} $$\n",
    "\n",
    "Para obter as diferenças divididas da fórmula de Newton, é conveniente condtruir uma tabela, como mostrada abaixo\n",
    "\n",
    "<img src=\"https://github.com/tiagoburiol/NUMETHODS/raw/master/5_INTERPOLACAO/imagens/tabela_diferecas_divididas.png\" width=\"400\">\n",
    "\n",
    "\n",
    "\n"
   ]
  },
  {
   "cell_type": "markdown",
   "metadata": {},
   "source": [
    "**Exemplo 1**\n",
    "\n",
    "Considere a função $f(x)=e^x +sen(x)$ tabelada  nos pontos $x_0=0.0$, $x_1=0.5$ e $x_2=1.0$. Determine o polinômio interpolador usando a fórmula de Newton e avalie $f(0.7)$. \n"
   ]
  },
  {
   "cell_type": "code",
   "execution_count": 31,
   "metadata": {},
   "outputs": [
    {
     "name": "stdout",
     "output_type": "stream",
     "text": [
      "[ 0.   0.5  1. ]\n",
      "[ 1.      2.1281  3.5598]\n",
      "[ 2.2563  2.8632]\n",
      "[ 0.6069]\n",
      "P(0.7) = 2.66437410753\n"
     ]
    },
    {
     "data": {
      "image/png": "[encoded data removed]",
      "text/plain": [
       "<matplotlib.figure.Figure at 0x7fde2da643c8>"
      ]
     },
     "metadata": {},
     "output_type": "display_data"
    }
   ],
   "source": [
    "% matplotlib inline\n",
    "import matplotlib.pyplot as plt\n",
    "import numpy as np\n",
    "\n",
    "\n",
    "# Definindo a lista de pontos a serem interpolados\n",
    "X  = [0., 0.5, 1.0]\n",
    "\n",
    "# Definindo a função a ser interpolada\n",
    "f = lambda x: np.exp(x)+np.sin(x)\n",
    "\n",
    "# Calculando os valores de f(xi)\n",
    "Y = f(X)\n",
    "\n",
    "print (np.around(X,4))\n",
    "print (np.around(Y,4))\n",
    "\n",
    "\n",
    "# Criando uma lista de listas para a tabela de diferencas divididas \n",
    "dd=[Y] #ordem 0\n",
    "\n",
    "# Gerando a tabela de dif. div. a partir da ordem 1 em diante\n",
    "for o in range(1, len(X)):\n",
    "    dd.append([])   # Adiciona uma lista vazia para armazenar as dds de ordem 1\n",
    "    for k in range(0, len(X)-o, 1): \n",
    "        valor = (dd[o-1][k+1]-dd[o-1][k])/(X[k+o]-X[k])    \n",
    " \n",
    "        dd[o].append(valor)\n",
    "    print (np.around(dd[o],4))\n",
    "\n",
    "\n",
    "def produtorio(x,n):\n",
    "    prod = 1.\n",
    "    for i in range(n):\n",
    "        prod = prod * (x-X[i])\n",
    "    return prod\n",
    "\n",
    "\n",
    "def calculaP(x):\n",
    "    soma = dd[0][0]\n",
    "    for i in range(1,len(X)):\n",
    "        soma = soma + produtorio(x,i)*dd[i][0]\n",
    "    return soma\n",
    "\n",
    "print (\"P(0.7) =\", calculaP(0.7))\n",
    " \n",
    "# Cria a lista de pontos e calcula os valores para p plot\n",
    "Xp = np.linspace(X[0], X[-1], num=10) \n",
    "Yp = []\n",
    "for x in Xp:\n",
    "    y = calculaP(x)\n",
    "    Yp.append(y)\n",
    "\n",
    "    \n",
    "plt.plot(X, Y, 'ro', Xp, Yp,'-', )\n",
    "plt.grid()\n",
    "plt.show()"
   ]
  },
  {
   "cell_type": "markdown",
   "metadata": {},
   "source": [
    "Embora o método de Lagrange possa parecer mais simples, a sua implementação computacional não é tão eficiente quanto a do método de Newton. Considere, por exemplo, um conjunto de quatro pontos $(n = 3)$ a serem interpolados. Então, o polinômio de Newton pode ser escrito como\n",
    "\n",
    "$$ P(x) = f[x_0] + (x-x_0) ( f[x_0,x_1] + (x-x_1) (f[x_0,x_1,x_2] + (x-x_2) f[x_0,x_1,x_2, x_3] ) ) $$\n",
    "\n",
    "o que fornece uma relação recursiva para a avaliação do polinômio, fazendo\n",
    "\n",
    "$ P_0(x) = f[x_0,x_1,x_2, x_3] $ \n",
    "\n",
    "$ P_1(x) = f[x_0,x_1,x_2] + (x-x_2) P_0(x) $\n",
    "\n",
    "$ P_2(x) = f[x_0,x_1] + ((x-x_1)) P_1(x) $\n",
    "\n",
    "$ P_3(x) = f[x_0] + (x-x_0) P_2(x)$"
   ]
  },
  {
   "cell_type": "markdown",
   "metadata": {},
   "source": [
    "**Exemplo 2**\n",
    "\n",
    "Considere a função $f(x)=\\frac{x}{(x+1)}$ tabelada  nos pontos $x_0=0.0$, $x_1=1.0$ e $x_2=2.0$. Determine o polinômio interpolador usando a fórmula de Newton e avalie $f(1.3)$. \n"
   ]
  },
  {
   "cell_type": "code",
   "execution_count": 51,
   "metadata": {},
   "outputs": [
    {
     "name": "stdout",
     "output_type": "stream",
     "text": [
      "P(1.3) = 0.585\n"
     ]
    },
    {
     "data": {
      "image/png": "[encoded data removed]",
      "text/plain": [
       "<matplotlib.figure.Figure at 0x7fde2da85630>"
      ]
     },
     "metadata": {},
     "output_type": "display_data"
    }
   ],
   "source": [
    "% matplotlib inline\n",
    "import numpy as np\n",
    "import matplotlib.pyplot as plt\n",
    "\n",
    "xData = np.array([0., 1.0, 2.0])\n",
    "f = lambda xData: np.divide(xData, xData + 1)\n",
    "yData = f(xData)\n",
    "\n",
    "\n",
    "def calculaP(dd,xData,x):\n",
    "    n = len(xData) - 1\n",
    "    # Degree of polynomial\n",
    "    p = dd[n]\n",
    "    for k in range(1,n+1):\n",
    "        p = dd[n-k] + (x -xData[n-k])*p\n",
    "    return p\n",
    "\n",
    "def difdiv(xData,yData):\n",
    "    m = len(xData)\n",
    "    dd = yData.copy()\n",
    "\n",
    "    for k in range(1,m):\n",
    "        dd[k:m] = (dd[k:m] - dd[k-1])/(xData[k:m] - xData[k-1])\n",
    "    return dd\n",
    "\n",
    "\n",
    "dd = difdiv(xData,yData)\n",
    "\n",
    "print (\"P(1.3) =\", calculaP(dd,xData,1.3))\n",
    "\n",
    "Xplot = np.linspace(-1, 3, 21)\n",
    "Yplot = []\n",
    "\n",
    "for x in Xplot:\n",
    "    Yplot.append(calculaP(dd,xData,x))\n",
    "\n",
    "plt.plot(xData, yData, \"ro\", Xplot, Yplot, \"-\")\n",
    "plt.grid()\n",
    "plt.show()"
   ]
  },
  {
   "cell_type": "markdown",
   "metadata": {
    "collapsed": true
   },
   "source": [
    "### Interpolação Inversa\n",
    "\n",
    "Denominamos interpolação inversa quando, conhecidos os valores de uma função $f(x)$ definida em $(n+1)$  pontos distintos $x_i$ ,$i =0,...,n$, necessitamos calcular o valor numérico da variável $x$ correspondente a um valor $y = f(x)$ conhecido inicialmente.\n",
    "\n",
    "Supondo que a função inversa de $f (x)$ exista no intervalo de interpolação, a qual denotamos por $f{−1}(x)$, então para os pontos tabelados $y_i = f(x_i)$, $i = 0,...,n$ temos $x_i =f^{−1}(y_i)$, e o valor desejado $x$ tal que $y=f(x)$ é obtido por $x=f^{−1}(y)$.\n",
    "\n",
    "Assim, simplesmente trocamos na tabela de dados os valores de $x$ e $f(x)$ e fazemos a interpolação de $f^{−1}(x)$, como visto anteriormente.\n",
    "\n",
    "Lembramos, ainda, que a função inversa $x = f^{−1}(y)$ existe e é única se $f(x)$ é contínua e monótona crescente ou decrescente no intervalo de interpolação. \n"
   ]
  },
  {
   "cell_type": "markdown",
   "metadata": {},
   "source": [
    "**Exemplo 3**\n",
    "\n",
    "Considere uma função $f (x)$ tabelada, como segue:\n",
    "\n",
    "$$\\begin{array}{cccc}\n",
    "x_i    &0     &1     &2\\\\ \n",
    "f(x_i) &1.31  &3.51  &3.78 \n",
    "\\end{array} $$\n",
    "\n",
    "Usando\tinterpolação\tinversa, determine $x$ tal que $f(x) = 3.63$.\n"
   ]
  },
  {
   "cell_type": "code",
   "execution_count": 44,
   "metadata": {},
   "outputs": [
    {
     "name": "stdout",
     "output_type": "stream",
     "text": [
      "P(3.63)= 6.40356727476\n"
     ]
    },
    {
     "data": {
      "image/png": "[encoded data removed]",
      "text/plain": [
       "<matplotlib.figure.Figure at 0x7fde2da56c18>"
      ]
     },
     "metadata": {},
     "output_type": "display_data"
    }
   ],
   "source": [
    "% matplotlib inline\n",
    "import numpy as np\n",
    "import matplotlib.pyplot as plt\n",
    "\n",
    "yi = np.array([0.00, 1.00, 2.00])\n",
    "xi = np.array([1.31, 3.51, 3.78])\n",
    "\n",
    "\n",
    "def evalPoly(dd,xi,x):\n",
    "    n = len(xi) - 1\n",
    "    # Degree of polynomial\n",
    "    p = dd[n]\n",
    "    for k in range(1,n+1):\n",
    "        p = dd[n-k] + (x -xi[n-k])*p\n",
    "    return p\n",
    "\n",
    "def coeffts(xi,yi):\n",
    "    m = len(xi)\n",
    "    # Number of data points\n",
    "    dd = yi.copy()\n",
    "\n",
    "    for k in range(1,m):\n",
    "        dd[k:m] = (dd[k:m] - dd[k-1])/(xi[k:m] - xi[k-1])\n",
    "    return dd\n",
    "\n",
    "\n",
    "dd = coeffts(xi,yi)\n",
    "\n",
    "print(\"P(3.63)=\",evalPoly(a,xi,3.63))\n",
    "\n",
    "Xplot = np.linspace(xi[0], xi[-1], 21)\n",
    "Yplot = []\n",
    "\n",
    "for x in Xplot:\n",
    "    Yplot.append(evalPoly(dd,xi,x))\n",
    "\n",
    "plt.plot(xi, yi, \"ro\", Xplot, Yplot, \"-\")\n",
    "plt.grid()\n",
    "plt.show()"
   ]
  },
  {
   "cell_type": "code",
   "execution_count": null,
   "metadata": {
    "collapsed": true
   },
   "outputs": [],
   "source": []
  }
 ],
 "metadata": {
  "anaconda-cloud": {},
  "kernelspec": {
   "display_name": "Python 3",
   "language": "python",
   "name": "python3"
  },
  "language_info": {
   "codemirror_mode": {
    "name": "ipython",
    "version": 3
   },
   "file_extension": ".py",
   "mimetype": "text/x-python",
   "name": "python",
   "nbconvert_exporter": "python",
   "pygments_lexer": "ipython3",
   "version": "3.6.4"
  }
 },
 "nbformat": 4,
 "nbformat_minor": 1
}

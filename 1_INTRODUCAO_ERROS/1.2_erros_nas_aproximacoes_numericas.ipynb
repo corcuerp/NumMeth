{
 "cells": [
  {
   "cell_type": "markdown",
   "metadata": {
    "collapsed": true
   },
   "source": [
    "# 1.2 Erros nas aproximações numéricas\n",
    "\n",
    "Uma solução numérica para um problema físico é uma solução aproximada, não exata. A diferença entre a solução exata e a solução aproximada é chamada de erro e é inerente ao processo, raramente pode ser evitada. \n",
    "\n",
    "Os erros podem ocorrer na fase de modelagem matemática, devido a simplificações e a imprecisão nos dados, quanto na fase de resolução, no processo de conversão de base e devido à limitações da máquina em armazenar um número muito grande de dígitos. Ou também, na aproximação de funções representadas por séries infinitas, por exemplo, com não é possível realizar a soma infinita, as série são truncadas, considerando-se apenas um número finito de termos, introduzindo o que chamamos de **erro de truncamento**.\n",
    "\n",
    "Sabemos que o computador realiza operações aritméticas retendo apenas um número um número fixo de algarismos significativos. Números como o $\\pi$, $e$ ou $\\sqrt{7}$ não podem ser expressos por um número fixo de algarismos, portanto não podem ser representtados exatamente por um computador. Além disso, alguns números que têm representação fracionária finita no sistema decimal, não podem ser representados com exatidão no sistema binário. A discrepância introduzida pela omissão de algarismos significativos é chamada **erro de arredondamento**. \n"
   ]
  },
  {
   "cell_type": "markdown",
   "metadata": {},
   "source": [
    "**Arredondamento:** Dizemos que um número $n_r$ na base decimal foi arredondado na posição $k$ se todos os dígitos de ordem maior que $k$ forem descartados segundo o seguinte critério:\n",
    "\n",
    " - O dígito de ordem $k$ é acrescido de uma unidade se o de ordem $(k + 1)$ for maior ou igual a metade da base\n",
    " - do contrário, o número $nr$ é representado com os $k$ dígitos iniciais.\n"
   ]
  },
  {
   "cell_type": "markdown",
   "metadata": {},
   "source": [
    "### Exemplo\n",
    "\n",
    "Consideremos o sistema $ SPF (b, n, exp_{min} , exp_{max}) = SPF (10, 4, -5, 5) $\n",
    "\n",
    "a) Se $a=0.5324 \\times 10^3$ e $b=0.4212 \\times 10^{-2}$, então $a \\times b = 0.22424688 \\times 10^1$, que é arredondado e armazenado como $a \\times b = 0.2242 \\times 10^1$.\n",
    "\n",
    "b) Se $a=0.5324 \\times 10^3$ e $b=0.1237 \\times 10^{2}$, então $a + b = 0.54477 \\times 10^3$, que é arredondado e armazenado como $a + b = 0.5448 \\times 10^3$.\n"
   ]
  },
  {
   "cell_type": "markdown",
   "metadata": {
    "collapsed": true
   },
   "source": [
    "**Truncamento:** Erros de truncamento são erros resultantes de aproximações, como quando aproximamos uma derivada pela diferenciação numérica\n",
    "\n",
    "$$ \\frac{dy}{dx} \\cong \\frac{\\Delta y}{\\Delta x} = \\frac{f(x+\\Delta x)-f(x)}{\\Delta x} $$\n",
    "\n",
    "ou quando aproximamos uma função por uma **série de Taylor**, utilizando poucos termos da série \n",
    "\n",
    "$$ f(x_{i+1}) \\cong f(x_i)+f'(x_i)(x_{i+1}-x_i)$$\n",
    "\n",
    "ou\n",
    "\n",
    "$$ f(x_{i+1}) \\cong f(x_i) + f'(x_i)(x_{i+1}-x_i) + \\frac{f''(x_i)}{2!} (x_{i+1}-x_i)^2$$\n",
    "\n",
    "Podemos adicionar mais termos à série fazendo\n",
    "\n",
    "$$ f(x_{i+1}) \\cong f(x_i) + f'(x_i)(x_{i+1}-x_i) + \\frac{f''(x_i)}{2!} (x_{i+1}-x_i)^2 + \\frac{f^{(3)}(x_i)}{3!} (x_{i+1}-x_i)^3 + ...+\\frac{f^{(n)}(x_i)}{n!} (x_{i+1}-x_i)^n + R_n$$\n",
    "\n",
    "Truncando a série o n-ésimo termo, o erro será dado por \n",
    "\n",
    "$$ R_n = \\frac{f^{(n+1)}(\\xi)}{(n+1)!} (x_{i+1}-x_i)^{n+1}$$\n",
    "\n",
    "para algum $\\xi$ do intervalo aberto $(x_i,  x_{i+1})$.\n",
    "\n",
    "Se o incremento no varor de $x$ for constante, a série pode ser expressa por  \n",
    "\n",
    "$$ f(x_{i+1}) \\cong f(x_i) + f'(x_i)h + \\frac{f''(x_i)}{2!}h^2 + \\frac{f^{(3)}(x_i)}{3!} h^3 + ...+\\frac{f^{(n)}(x_i)}{n!} h^n + R_n$$\n",
    "\n",
    "e o resto agora é\n",
    "\n",
    "$$ R_n = \\frac{f^{(n+1)}(\\xi)}{(n+1)!} h^{n+1}$$\n"
   ]
  },
  {
   "cell_type": "markdown",
   "metadata": {},
   "source": [
    "### Exemplo"
   ]
  },
  {
   "cell_type": "code",
   "execution_count": 5,
   "metadata": {},
   "outputs": [
    {
     "name": "stdout",
     "output_type": "stream",
     "text": [
      "[-4.   -3.86 -3.72 -3.58 -3.44 -3.3  -3.16 -3.02 -2.88 -2.74 -2.6  -2.46\n",
      " -2.32 -2.18 -2.04 -1.9  -1.76 -1.62 -1.48 -1.34 -1.2  -1.06 -0.92 -0.78\n",
      " -0.64 -0.5  -0.36 -0.22 -0.08  0.06  0.2   0.34  0.48  0.62  0.76  0.9\n",
      "  1.04  1.18  1.32  1.46  1.6   1.74  1.88  2.02  2.16  2.3   2.44  2.58\n",
      "  2.72  2.86  3.  ]\n"
     ]
    },
    {
     "data": {
      "image/png": "[encoded data removed]",
      "text/plain": [
       "<matplotlib.figure.Figure at 0x1bf5bd63208>"
      ]
     },
     "metadata": {},
     "output_type": "display_data"
    }
   ],
   "source": [
    "# cos(x)\n",
    "% matplotlib inline\n",
    "import numpy as np\n",
    "import matplotlib.pyplot as plt\n",
    "import math\n",
    "\n",
    "X = np.linspace(-4., 3., 51)\n",
    "print(X)\n",
    "\n",
    "     \n",
    "Y = []\n",
    "#x=1.0\n",
    "for x in X:   \n",
    "    valor = 1.0\n",
    "    for i in range(1,3,1):\n",
    "        fat = math.factorial(2*i)\n",
    "        valor = valor + (x**(2*i)*(-1)**i)/fat\n",
    "        #fat = math.factorial(2*i+1)\n",
    "        #valor = valor + (x**(2*i+1)*(-1)**i)/fat\n",
    "\n",
    "        #print (x, valor)\n",
    "    Y.append(valor)        \n",
    "\n",
    "\n",
    "\n",
    "plt.plot(X, np.cos(X),X, Y)\n",
    "plt.grid()\n",
    "plt.show()\n"
   ]
  },
  {
   "cell_type": "code",
   "execution_count": 33,
   "metadata": {},
   "outputs": [
    {
     "data": {
      "text/plain": [
       "<function matplotlib.pyplot.show>"
      ]
     },
     "execution_count": 33,
     "metadata": {},
     "output_type": "execute_result"
    },
    {
     "data": {
      "image/png": "[encoded data removed]",
      "text/plain": [
       "<matplotlib.figure.Figure at 0x1e75b3a8be0>"
      ]
     },
     "metadata": {},
     "output_type": "display_data"
    }
   ],
   "source": [
    "#numero e\n",
    "% matplotlib inline\n",
    "import numpy as np\n",
    "import matplotlib.pyplot as plt\n",
    "\n",
    "X = np.linspace(-2., 2., 21)\n",
    "#print(X)\n",
    "\n",
    "Y = []\n",
    "#x=1.0\n",
    "for x in X:   \n",
    "    valor = 1.0\n",
    "    fat_i = 1.0\n",
    "    for i in range(1,3,1):\n",
    "        fat_i = fat_i * i\n",
    "        valor = valor + (x**i)/fat_i\n",
    "        #print (x, valor)\n",
    "    Y.append(valor)        \n",
    "\n",
    "\n",
    "\n",
    "plt.plot(X, np.exp(X), X, Y)\n",
    "plt.show"
   ]
  },
  {
   "cell_type": "code",
   "execution_count": null,
   "metadata": {
    "collapsed": true
   },
   "outputs": [],
   "source": []
  }
 ],
 "metadata": {
  "kernelspec": {
   "display_name": "Python 3",
   "language": "python",
   "name": "python3"
  },
  "language_info": {
   "codemirror_mode": {
    "name": "ipython",
    "version": 3
   },
   "file_extension": ".py",
   "mimetype": "text/x-python",
   "name": "python",
   "nbconvert_exporter": "python",
   "pygments_lexer": "ipython3",
   "version": "3.6.4"
  }
 },
 "nbformat": 4,
 "nbformat_minor": 1
}

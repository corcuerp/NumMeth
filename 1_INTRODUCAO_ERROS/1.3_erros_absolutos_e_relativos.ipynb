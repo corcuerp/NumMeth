{
 "cells": [
  {
   "cell_type": "markdown",
   "metadata": {
    "collapsed": true
   },
   "source": [
    "# 1.3 Erros absolutos e relativos\n",
    "\n",
    "\n",
    "### Erro absoluto\n",
    "Definimos erro absoluto por\n",
    "\n",
    "$$ E_{abs} = \\left| a_{ex}-a_{aprox} \\right| $$\n",
    "\n",
    "em que $a_{ex}$ é o valor exato da grandeza considerada e $a_{aprox}$ é o valor aproximado da mesma grandeza numérica.\n",
    "\n",
    "### Erro relativo \n",
    "Definimos erro relativo por\n",
    "\n",
    "$$ E_{rel} = \\frac{E_{abs} }{\\left| a_{ex} \\right|} $$\n",
    "\n",
    "em que $a_{ex}$ é o valor exato da grandeza considerada e $a_{aprox}$ é o valor aproximado da mesma grandeza.\n",
    "\n",
    "Podemos observar que o erro relativo nos fornece mais informações sobre a qua- lidade do erro que estamos cometendo num determinado cálculo, uma vez que no erro absoluto não é levada em consideração a ordem de grandeza do valor calculado, enquanto no erro relativo esta ordem é contemplada.\n",
    "\n"
   ]
  },
  {
   "cell_type": "code",
   "execution_count": null,
   "metadata": {
    "collapsed": true
   },
   "outputs": [],
   "source": []
  }
 ],
 "metadata": {
  "kernelspec": {
   "display_name": "Python 3",
   "language": "python",
   "name": "python3"
  },
  "language_info": {
   "codemirror_mode": {
    "name": "ipython",
    "version": 3
   },
   "file_extension": ".py",
   "mimetype": "text/x-python",
   "name": "python",
   "nbconvert_exporter": "python",
   "pygments_lexer": "ipython3",
   "version": "3.6.4"
  }
 },
 "nbformat": 4,
 "nbformat_minor": 1
}

{
 "cells": [
  {
   "cell_type": "markdown",
   "metadata": {
    "collapsed": true
   },
   "source": [
    "# 7.2 Método de Newton-Cotes\n",
    "Considere $f(x)$ definida em $x_0,x_1,...,x_n$, $(n+1)$ pontos distintos e equidistantes do intervalo $[a,b]$, em que $h = x_{i+1}-x_i$, $i=0,1,...,n-1$. Seja $P(x)$ o polinômio interpolador de $f(x)$, nos pontos $x_0,...,x_1$ do intervalo $[a,b]$ tal que $a=x_0$ e $b=x_1$. Considerando que $f(x)$ é suficientemente diferenciável, sabemos, da interpolação polinomial, que\n",
    "\n",
    "$$ f(x) = P_n(x)+E_n(x)$$\n",
    "\n",
    "em que \n",
    "\n",
    "$$E_n(x) = (x-x_0)(x-x_1)...(x-x_n)\\frac{f^{(n+1)}(\\xi)}{(n+1)!}$$\n",
    "\n",
    "com $x_0 \\leq \\xi \\leq x_n$. Assim,\n",
    "\n",
    "$$ \\int_{x_0}^{x_n} f(x) dx \\approx \\int_{x_0}^{x_n} P_n(x) dx$$\n",
    "\n",
    "com erro dado por \n",
    "\n",
    "$$ \\int_{x_0}^{x_n} E_n(x) dx $$\n",
    "\n",
    "Como os pontos são equidistantes, fazemos a troca de variável $u = \\frac{x-x_0}{h}$ e o erro na integração numérica será dados por\n",
    "\n",
    "$$ E_n = \\int_{x_0}^{x_n} E_n(x) dx = h \\int_{0}^{n} E_n(u) = h \\int_{0}^{n} \\frac{u(u-1)(u-2)...(u-n)}{(n+1)!} h^{n+1}f^{(n+1)}(\\xi_u) du$$"
   ]
  },
  {
   "cell_type": "code",
   "execution_count": null,
   "metadata": {
    "collapsed": true
   },
   "outputs": [],
   "source": []
  }
 ],
 "metadata": {
  "kernelspec": {
   "display_name": "Python 3",
   "language": "python",
   "name": "python3"
  },
  "language_info": {
   "codemirror_mode": {
    "name": "ipython",
    "version": 3
   },
   "file_extension": ".py",
   "mimetype": "text/x-python",
   "name": "python",
   "nbconvert_exporter": "python",
   "pygments_lexer": "ipython3",
   "version": "3.5.1"
  }
 },
 "nbformat": 4,
 "nbformat_minor": 0
}

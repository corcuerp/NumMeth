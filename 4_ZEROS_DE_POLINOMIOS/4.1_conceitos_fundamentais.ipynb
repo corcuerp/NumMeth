{
 "cells": [
  {
   "cell_type": "markdown",
   "metadata": {},
   "source": [
    "# 4.1 Conceitos fundamentais \n",
    "\n",
    "\n",
    "Desejamos, agora, utilizar métodos numéricos para determinar $\\overline x$ tal que $P(\\overline x) = 0$, em que $P(x)$ é um polinômio de grau $n \\in N$, com coeficientes reais ou complexos na forma:\n",
    "\n",
    "$$P(x)=a_0 x^n + a_1 x^{n-1}+...+a_{n-1}x+a_n$$ \n",
    "\n",
    "e $a_0 \\neq 0$.\n",
    "\n",
    "Os métodos para zeros de funções incluídos no cap.3 podem ser usados para polinômios, no entanto, outros resultados e teoremas envolvendo polinômios também podem ser úteis. \n",
    "\n",
    "Em particular, o **Teorema do Resto** pode ser útil para avaliar o valor numérico de um polinômio $P(x)$ e de sua derivada $P'(x)$ em um determinado valor de $x$. Este teorema nos diz:\n",
    "\n",
    "_Seja $P(x)$ um polinômio de grau $n \\geq 1$, então para qualquer $\\alpha \\in R$ existe um único polinômio $Q(x)$ de grau $(n-1)$ tal que_\n",
    "\n",
    "$$P(x) = (x-\\alpha)Q(x)+P(\\alpha)$$\n",
    "\n",
    "_em que $P(\\alpha)$ é o resto da divisão de $P(x)$ por $(x -\\alpha)$._\n"
   ]
  },
  {
   "cell_type": "markdown",
   "metadata": {},
   "source": [
    "** Exemplo**\n",
    "A divisão do polinômio $P(x) = 6x^2 -4x + 2$ pelo polinômio $(x - 4)$ resulta $Q(x)=6x+20 $ e o resto desta divisão, $P(4)=82$.\n"
   ]
  },
  {
   "cell_type": "markdown",
   "metadata": {
    "collapsed": true
   },
   "source": [
    "### Teorema: Localização de raízes no círculo\n",
    "\n",
    "Sejam $P(x)=a_0 x^n + a_1 x^{n-1}+...+a_{n-1}x+a_n$ e $A=max\\{\\left|a_1 \\right|,..., \\left|a_n \\right|\\}$. Então, o módulo de todas as raízes $x_k$ , $k = 1,... , n$ satisfaz a inequação:\n",
    "\n",
    "$$ |x_k|< 1 +\\frac{A}{\\left|a_0 \\right|} = R$$\n",
    "\n",
    "(Para a demonstração, ver Arenales e Darezzo, 2015, p 123)"
   ]
  },
  {
   "cell_type": "markdown",
   "metadata": {},
   "source": [
    "Como consequência desse teorema, tem-se o seguinte **corolário**: \n",
    "\n",
    "Sejam $a_n\\neq 0$ e $B=max\\{\\left|a_0 \\right|,...,\\left|a_{n-1}\\right|\\}$, em que $a_k$,$k=0,...,n$ são os coeficientes de $P(x)$. Então, o módulo de todas as raízes $x_k$, $k = 1,..., n$ satisfaz a inequação:\n",
    "\n",
    "$$ \\left|x_k \\right| > \\frac{1}{1+\\frac{B}{\\left|a_n \\right|}}=r$$\n",
    "\n",
    "(Para a demonstração, ver Arenales e Darezzo, 2015, p 123)"
   ]
  },
  {
   "cell_type": "markdown",
   "metadata": {},
   "source": [
    "Assim, no plano complexo as raízes de $P(x) = 0$ estão localizadas no anel $r < |x| < R$ como ilustra a figura abaixo.\n",
    "\n",
    "<img src=\"https://github.com/tiagoburiol/NUMETHODS/raw/master/4_ZEROS_DE_POLINOMIOS/imagens/anel.png\" width=\"250\">"
   ]
  },
  {
   "cell_type": "markdown",
   "metadata": {
    "collapsed": true
   },
   "source": [
    "**Exemplo** \n",
    "\n",
    "As raízes de $P(x)=x^3+2x^2-x-2=0$ estão localizadas em $-3<x_k< -1/2$ ou $1/2< x_k <3$, pois:\n",
    "\n",
    "$ |x_k|<1-\\frac{2}{|1|} = 3 = R$ e    $|x_k|> \\frac{1}{1+\\frac{2}{|-2|}} = 1/2 = r$\n",
    " \n",
    "De fato, as raízes de $P(x) = 0$ são dadas por $x = 1$, $x = −1$ e $x = −2$.\n"
   ]
  },
  {
   "cell_type": "markdown",
   "metadata": {},
   "source": [
    "### Teorema: regra de sinais de Descartes\n",
    "Dada uma equação polinomial com coeficientes reais, o número de raízes reais positivas $p$ dessa equação não excede o número $v$ de variações de sinais dos coeficientes. Ainda mais, $(v − p)$ é inteiro par, não negativo.\n",
    "\n",
    "Para determinar o número de raízes negativas, basta calcular o número de variações de sinais no polinômio $P(−x)$.\n"
   ]
  },
  {
   "cell_type": "code",
   "execution_count": null,
   "metadata": {
    "collapsed": true
   },
   "outputs": [],
   "source": []
  }
 ],
 "metadata": {
  "kernelspec": {
   "display_name": "Python 3",
   "language": "python",
   "name": "python3"
  },
  "language_info": {
   "codemirror_mode": {
    "name": "ipython",
    "version": 3
   },
   "file_extension": ".py",
   "mimetype": "text/x-python",
   "name": "python",
   "nbconvert_exporter": "python",
   "pygments_lexer": "ipython3",
   "version": "3.5.1"
  }
 },
 "nbformat": 4,
 "nbformat_minor": 0
}

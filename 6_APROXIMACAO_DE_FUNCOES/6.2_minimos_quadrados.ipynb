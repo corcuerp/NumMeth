{
 "cells": [
  {
   "cell_type": "markdown",
   "metadata": {},
   "source": [
    "# 6.2 Aproximação de funções pelo método dos mínimos quadrados\n",
    "\n",
    "\n",
    "## Caso discreto\n",
    "\n",
    "Inicialmente vamos supor que queremos ajustar uma reta $g(x) = a_1x+a_2$ aos pontos $(x_i, f(x_i))$, $i=1,...,m$, como é mostrado na figura abaixo\n",
    "\n",
    "<img src=\"https://github.com/tiagoburiol/NUMETHODS/raw/master/6_APROXIMACAO_DE_FUNCOES/imagens/ajuste_reta.png\" width=\"500\">\n",
    "\n",
    "\n",
    "Então, buscamos os coeficientes $a_1$ e $a_2$ que definem a reta que melhor se ajusta aos pontos, ou seja, os coeficientes que minimizam a função\n",
    "\n",
    "$$ E(a_1, a_2)= \\sum_{i=1}^{m} [g(x_i)-f(x_i)]^2 $$\n",
    "\n",
    "Do cálculo infinitesimal, sabemos que se a função $ E(a_1, a_2)$ possui um ponto de mínimo, suas derivadas parciais nesse ponto devem ser nulas, ou seja \n",
    "\n",
    "$$ \\frac{\\partial E}{\\partial a_1} = 0  \\,\\,\\,\\,\\,  \\frac{\\partial E}{\\partial a_2} = 0$$ \n",
    "\n",
    "Derivando $ E(a_1, a_2)$ em relação a $a_1$ e $a_2$ obtemos\n",
    "\n",
    "$$ \\frac{\\partial E}{\\partial a_1} = \\frac{\\partial}{\\partial a_1} \\left[ \\sum_{i=1}^{m}\\left(g(x_i)-f(x_i) \\right)^2 \\right]=0$$\n",
    "\n",
    "\n",
    "ou\n",
    "\n",
    "$$ \\frac{\\partial E}{\\partial a_1} = \\frac{\\partial}{\\partial a_1} \\left[ \\left(\\sum_{i=1}^{m} a_1 x_i\n",
    " + \\sum_{i=1}^{m} a_2 - \\sum_{i=1}^{m} f(x_i) \\right)^2 \\right]=0$$\n",
    " \n",
    "ou, ainda\n",
    " \n",
    "$$ \\frac{\\partial E}{\\partial a_1} =   2 \\left[a_1\\sum_{i=1}^{m} x_i^2 + a_2\\sum_{i=1}^{m} x_i \\right] - 2 \\left[\\sum_{i=1}^{m} f(x_i)x_i \\right] =0$$ \n",
    "\n",
    "e \n",
    "\n",
    "$$ \\frac{\\partial E}{\\partial a_2} =   2 \\left[a_1\\sum_{i=1}^{m} x_i + ma_2 - \\sum_{i=1}^{m} f(x_i)\\right] =0$$ \n",
    "\n",
    "As equações obtidas nos permitem encontrar $a_1$ e $a_2$ por meio da resolução do sistema linear \n",
    "\n",
    "$$ \\begin{cases} \n",
    "\t         \\left(\\sum_{i=1}^{m} x_i^2\\right)a_ 1 + \\left(\\sum_{i=1}^{m} x_i\\right)a_ 2 = \\sum_{i=1}^{m} f(x_i)x_i  \\\\\n",
    "             \\left(\\sum_{i=1}^{m} x_i\\right)a_ 1 + ma_ 2 = \\sum_{i=1}^{m} f(x_i)\n",
    "   \\end{cases} $$\n",
    "   \n",
    "ou \n",
    "\n",
    "$$\\left[\\begin{array}{cc}\n",
    "\t         \\sum_{i=1}^{m} x_i^2 & \\sum_{i=1}^{m} x_i \\\\ \n",
    "\t         \\sum_{i=1}^{m} x_i   & m \n",
    "\t         \\end{array} \\right]\n",
    "\\left[\\begin{array}{c} \n",
    "\t         a_1 \\\\ \n",
    "\t         a_2 \n",
    "\t         \\end{array} \\right]\n",
    "=\n",
    "\\left[\\begin{array}{c} \n",
    "\t         \\sum_{i=1}^{m} f(x_i)x_i \\\\ \n",
    "\t         \\sum_{i=1}^{m} f(x_i) \n",
    "\t         \\end{array} \\right] \n",
    "             $$"
   ]
  },
  {
   "cell_type": "markdown",
   "metadata": {},
   "source": [
    "## Exemplo\n",
    "Ajuste uma reta à função $f(x)$, tabelada como segue\n",
    "$$\\begin{array}{cccccc}\n",
    "x_i    &0    &1     &2     &3      &4\\\\ \n",
    "f(x_i) &0.98 &-3.01 &-6.99 &-11.01 &-15 \n",
    "\\end{array} $$\n",
    "             \n",
    "### Resolução\n"
   ]
  },
  {
   "cell_type": "code",
   "execution_count": 1,
   "metadata": {
    "collapsed": false
   },
   "outputs": [
    {
     "name": "stdout",
     "output_type": "stream",
     "text": [
      "[-3.996  0.986]\n"
     ]
    },
    {
     "data": {
      "image/png": "[encoded data removed]",
      "text/plain": [
       "<matplotlib.figure.Figure at 0x7fd0ce6d5eb8>"
      ]
     },
     "metadata": {},
     "output_type": "display_data"
    }
   ],
   "source": [
    "% matplotlib inline\n",
    "import numpy as np\n",
    "from scipy.linalg import solve\n",
    "import matplotlib.pyplot as plt\n",
    "\n",
    "X = np.array([0, 1, 2, 3, 4])\n",
    "Y = np.array([0.98, -3.01, -6.99, -11.01, -15.0])\n",
    "\n",
    "# Calcula os elementos das marizes\n",
    "a11 = np.sum(X**2)\n",
    "a12 = np.sum(X)\n",
    "a22 = len(X)\n",
    "b1 = np.sum(X * Y)\n",
    "b2 = np.sum(Y)\n",
    "\n",
    "# Monta e resolve o sistema\n",
    "A = np.array([[a11, a12], [a12, a22]])\n",
    "\n",
    "B = np.array([b1,b2])\n",
    "\n",
    "a = solve(A, B)\n",
    "print (a)\n",
    "\n",
    "# define a funcao g(x) para plotar \n",
    "g = lambda x: a[0]*x+a[1]\n",
    "\n",
    "# cria pontos (x, y) da reta \n",
    "Xr = np.arange(-1, 5, 0.5)\n",
    "\n",
    "# Plota os pontos e a reta\n",
    "plt.plot(X, Y, \".\", Xr, g(Xr), \"-\") \n",
    "plt.grid()\n",
    "plt.show()"
   ]
  },
  {
   "cell_type": "markdown",
   "metadata": {},
   "source": [
    "\n",
    "\n",
    "\n",
    "Para aproximar a função f(x) por um polinômio de grau 2, usamos a seguinte forma geral para $g(x)$\n",
    "\n",
    "$$ g(x)=a_1g_1(x) + a_2g_2(x) + a_3g_3(x) = a_1x^2 + a_2x + a_3$$\n",
    "\n",
    "com $g_1(x) = x^2$, $g_2(x) = x$ e $g_3(x) = 1$.\n",
    "\n",
    "\n",
    "$$ E(a_1, a_2, a_3)= \\sum_{i=1}^{m} [g(x_i)-f(x_i)]^2 $$\n",
    "\n",
    "Procuramos o ponto de mínimo, em que as derivadas parciais são nulas, ou seja\n",
    "\n",
    "$$ \\frac{\\partial E}{\\partial a_1} = 0\\,\\,\\, ,  \\,\\,\\,  \\frac{\\partial E}{\\partial a_2} = 0 \\,\\,\\, e \\,\\,\\,  \\frac{\\partial E}{\\partial a_3} = 0$$ \n",
    "\n",
    "Derivando $ E(a_1, a_2, a_3)$ em relação a $a_1$, $a_2$ e $a_3$ obtemos\n",
    "\n",
    "$$ \\frac{\\partial E}{\\partial a_1} = \\frac{\\partial}{\\partial a_1} \\left[ \\sum_{i=1}^{m}\\left(g(x_i)-f(x_i) \\right)^2 \\right]=0$$\n",
    "\n",
    "\n",
    "ou\n",
    "\n",
    "$$ \\frac{\\partial E}{\\partial a_1} = \\frac{\\partial}{\\partial a_1} \\left\\{\\left[ \\left(\\sum_{i=1}^{m} a_1 x_i^2\n",
    " +  a_2x_i + a_3\\right) - \\left(\\sum_{i=1}^{m} f(x_i) \\right)\\right]^2 \\right\\}=0$$\n",
    " \n",
    "ou, ainda\n",
    " \n",
    "$$ \\frac{\\partial E}{\\partial a_1} =   2 \\left[a_1\\sum_{i=1}^{m} x_i^4 + a_2\\sum_{i=1}^{m} x_i^3 + a_3\\sum_{i=1}^{m} x_i^2   \\right] - 2 \\left[\\sum_{i=1}^{m} f(x_i)x_i^2 \\right] =0$$ \n",
    "\n",
    "analogamente, derivando em relação a $a_2$ \n",
    "\n",
    "$$ \\frac{\\partial E}{\\partial a_2} =   2 \\left[a_1\\sum_{i=1}^{m} x_i^3 +  a_2\\sum_{i=1}^{m} x_i^2 + a_3\\sum_{i=1}^{m} x_i \\right] - 2\\left[\\sum_{i=1}^{m} f(x_i) x_i \\right] =0$$ \n",
    "\n",
    "e em relação a $a_3$\n",
    "\n",
    "$$ \\frac{\\partial E}{\\partial a_3} =   2 \\left[a_1\\sum_{i=1}^{m} x_i^2 +  a_2\\sum_{i=1}^{m} x_i + ma_3 \\right] - 2\\left[\\sum_{i=1}^{m} f(x_i)\\right] =0$$ \n",
    "\n",
    "\n",
    "Assim, as equações obtidas nos permitem montar um sistema linear cuja solução dará os coeficientes $a_1$, $a_2$ e $a_3$ procurados\n",
    "\n",
    "$$ \\begin{cases} \n",
    "              \\left(\\sum_{i=1}^{m} x_i^4\\right)a_1 + \\left(\\sum_{i=1}^{m} x_i^3\\right)a_2 +\\left(\\sum_{i=1}^{m} x_i^2\\right)a_3  = \\sum_{i=1}^{m} f(x_i)x_i^2  \\\\ \n",
    "              \\\\\n",
    "\t         \\left(\\sum_{i=1}^{m} x_i^3\\right)a_1 + \\left(\\sum_{i=1}^{m} x_i^2\\right)a_2 + \\left(\\sum_{i=1}^{m} x_i\\right)a_3 = \\sum_{i=1}^{m} f(x_i)x_i  \\\\\n",
    "             \\\\\n",
    "             \\left(\\sum_{i=1}^{m} x_i^2\\right)a_ 1 + \\left(\\sum_{i=1}^{m} x_i\\right)a_ 2 + \\left(\\sum_{i=1}^{m} 1\\right)a_ 3  = \\sum_{i=1}^{m} f(x_i)\n",
    "   \\end{cases} $$\n",
    "\n",
    "\n",
    "\n",
    "\n",
    "\n",
    "\n",
    "\n",
    "\n",
    "\n"
   ]
  },
  {
   "cell_type": "markdown",
   "metadata": {},
   "source": [
    "### Exemplo\n",
    "p184"
   ]
  },
  {
   "cell_type": "code",
   "execution_count": 2,
   "metadata": {
    "collapsed": false
   },
   "outputs": [
    {
     "name": "stdout",
     "output_type": "stream",
     "text": [
      "[ 5.08982143  0.05189286 -1.14371429]\n"
     ]
    },
    {
     "data": {
      "image/png": "[encoded data removed]",
      "text/plain": [
       "<matplotlib.figure.Figure at 0x7fd0ce6d5f28>"
      ]
     },
     "metadata": {},
     "output_type": "display_data"
    }
   ],
   "source": [
    "% matplotlib inline\n",
    "import numpy as np\n",
    "from scipy.linalg import solve\n",
    "import matplotlib.pyplot as plt\n",
    "\n",
    "X = np.array([-2., -1., 0, 1., 2., 3.])\n",
    "Y = np.array([19.01, 3.99, -1.00, 4.01, 18.99, 45.00])\n",
    "\n",
    "# Calcula os elementos das marizes\n",
    "A11 = np.sum(X**4)\n",
    "A12 = np.sum(X**3)\n",
    "A13 = np.sum(X**2)\n",
    "A23 = np.sum(X)\n",
    "A33 = len(X)\n",
    "B1 = np.sum(X**2*Y) \n",
    "B2 = np.sum(X*Y)\n",
    "B3 = np.sum(Y)\n",
    "\n",
    "# Monta e resolve o sistema\n",
    "A = np.array([[A11,A12, A13],[A12, A13, A23], [A13, A23, A33]])\n",
    "B = np.array([B1,B2,B3])\n",
    "a = solve(A, B)\n",
    "print (a)\n",
    "\n",
    "# define a funcao g(x) para plotar \n",
    "g = lambda x: a[0]*x*x+a[1]*x+a[2]\n",
    "\n",
    "# cria pontos (x, y) da reta \n",
    "Xr = np.arange(X[0], X[-1]+1, 0.2)\n",
    "Yr = []\n",
    "for x in Xr:\n",
    "    Yr.append(g(x))    \n",
    "\n",
    "# Plota os pontos e a reta\n",
    "plt.plot(X, Y, \".\", Xr, Yr, \"-\") \n",
    "plt.grid()\n",
    "plt.show()\n"
   ]
  },
  {
   "cell_type": "markdown",
   "metadata": {},
   "source": [
    "Generalizando o procedimento, podemos determinar os coeficientes $a_1,a_2,...,a_n$ da função$ g(x) = a_1g_1(x)+a_1g_1(x)+...+a_ng_n(x)$ resolvendo o sistema linear formado pelas equações \n",
    "\n",
    "$$ \\frac{\\partial E}{\\partial a_1} = 0, \\,\\,  \\frac{\\partial E}{\\partial a_2} = 0, ..., \\,\\, \\frac{\\partial E}{\\partial a_n} = 0$$ \n",
    "\n",
    "ou seja, \n",
    "\n",
    "$$ \\begin{cases} \n",
    "\\left(\\sum_{i=1}^{m} g_1(x_i)g_1(x_i)\\right)a_1 + \\left(\\sum_{i=1}^{m} g_1(x_i)g_2(x_i)\\right)a_2+...+\\left(\\sum_{i=1}^{m} g_1(x_i)g_n(x_i)\\right)a_n = \\sum_{i=1}^{m} f(x_i)g_1(x_i) \\\\\n",
    "\\left(\\sum_{i=1}^{m} g_2(x_i)g_1(x_i)\\right)a_1 + \\left(\\sum_{i=1}^{m} g_2(x_i)g_2(x_i)\\right)a_2+...+\\left(\\sum_{i=1}^{m} g_2(x_i)g_n(x_i)\\right)a_n = \\sum_{i=1}^{m} f(x_i)g_2(x_i) \\\\\n",
    "\\vdots\\\\\n",
    "\\left(\\sum_{i=1}^{m} g_n(x_i)g_1(x_i)\\right)a_1 + \\left(\\sum_{i=1}^{m} g_n(x_i)g_2(x_i)\\right)a_2+...+\\left(\\sum_{i=1}^{m} g_n(x_i)g_n(x_i)\\right)a_n = \\sum_{i=1}^{m} f(x_i)g_n(x_i) \\\\\n",
    "\\end{cases} $$\n",
    "\n"
   ]
  },
  {
   "cell_type": "markdown",
   "metadata": {},
   "source": [
    "## Caso contínuo\n",
    "\n",
    "No caso da função $f(x)$ ser conhecida, podemos ajustar a função $g(x)$ de modo a minimizar \n",
    "\n",
    "$$ E = \\int_a^b [e(x)]^2 dx = \\int_a^b [f(x)-g(x)]^2 dx$$\n",
    "\n",
    "o que leva a necessidade de resolução do sistema linear\n",
    "\n",
    "$$\\left[\\begin{array}{cccc}\n",
    "\t         \\langle g_1,g_1 \\rangle &\\langle g_1,g_2 \\rangle &... &\\langle g_1,g_n \\rangle\\\\ \n",
    "\t         \\langle g_2,g_1 \\rangle &\\langle g_2,g_2 \\rangle &... &\\langle g_2,g_n \\rangle\\\\  \n",
    "             \\vdots \\\\\n",
    "             \\langle g_n,g_1 \\rangle &\\langle g_n,g_2 \\rangle &... &\\langle g_n,g_n \\rangle\\\\ \n",
    "\t    \\end{array} \\right]\n",
    "\\left[\\begin{array}{c} \n",
    "\t         a_1 \\\\ \n",
    "\t         a_2 \\\\\n",
    "             \\vdots \\\\\n",
    "             a_n\n",
    "\t  \\end{array} \\right]\n",
    "=\n",
    "\\left[\\begin{array}{c} \n",
    "\t         \\langle f,g_1 \\rangle \\\\ \n",
    "\t         \\langle f,g_2 \\rangle \\\\ \n",
    "             \\vdots \\\\\n",
    "             \\langle f,g_n \\rangle \\\\ \n",
    "\t  \\end{array} \\right] \n",
    "             $$\n",
    "             \n",
    "Com $\\langle f,g \\rangle$ sendo o produto escalar entre as funções $f$ e $g$, definido como \n",
    "\n",
    "$$ \\langle f,g \\rangle = \\int_a^b f(x)g(x)dx$$"
   ]
  },
  {
   "cell_type": "markdown",
   "metadata": {},
   "source": [
    "### Exemplo \n",
    "p190"
   ]
  },
  {
   "cell_type": "code",
   "execution_count": 4,
   "metadata": {
    "collapsed": false
   },
   "outputs": [
    {
     "name": "stdout",
     "output_type": "stream",
     "text": [
      "[-0.59854891  0.17695201]\n"
     ]
    },
    {
     "data": {
      "image/png": "[encoded data removed]",
      "text/plain": [
       "<matplotlib.figure.Figure at 0x7fd0cb3cbe10>"
      ]
     },
     "metadata": {},
     "output_type": "display_data"
    }
   ],
   "source": [
    "% matplotlib inline\n",
    "import numpy as np\n",
    "from scipy.linalg import solve\n",
    "import matplotlib.pyplot as plt\n",
    "from scipy.integrate import quad\n",
    "import math\n",
    "from numpy import exp\n",
    "\n",
    "g1g1 = lambda x: 1\n",
    "g1g2 = lambda x: x\n",
    "g2g2 = lambda x: x**2\n",
    "fg1 = lambda x: -math.exp(-0.75*x)\n",
    "fg2 = lambda x: -x*math.exp(-0.75*x)\n",
    "\n",
    "\n",
    "\n",
    "\n",
    "# Calcula os elementos das marizes\n",
    "a11 = quad(g1g1, 1, 3)[0]\n",
    "a12 = quad(g1g2, 1, 3)[0]\n",
    "a22 = quad(g2g2, 1, 3)[0]\n",
    "b1 = quad(fg1, 1, 3)[0]\n",
    "b2 = quad(fg2, 1, 3)[0]\n",
    "\n",
    "\n",
    "\n",
    "# Monta e resolve o sistema\n",
    "A = np.array([[a11, a12], [a12, a22]])\n",
    "\n",
    "B = np.array([b1,b2])\n",
    "\n",
    "a = solve(A, B)\n",
    "print (a)\n",
    "\n",
    "# define a funcao g(x) para plotar \n",
    "g = lambda x: a[0]+a[1]*x\n",
    "\n",
    "# cria pontos (x, y) da reta \n",
    "Xr = np.arange(1, 3, 0.2)\n",
    "#print (Xr)\n",
    "\n",
    "#Y = np.exp(X)\n",
    "\n",
    "# Plota os pontos e a reta\n",
    "plt.plot(Xr, -np.exp(-0.75*Xr), \"r-\", Xr, g(Xr), \"b-\") \n",
    "plt.grid()\n",
    "plt.show()"
   ]
  },
  {
   "cell_type": "code",
   "execution_count": null,
   "metadata": {
    "collapsed": true
   },
   "outputs": [],
   "source": []
  }
 ],
 "metadata": {
  "kernelspec": {
   "display_name": "Python 3",
   "language": "python",
   "name": "python3"
  },
  "language_info": {
   "codemirror_mode": {
    "name": "ipython",
    "version": 3
   },
   "file_extension": ".py",
   "mimetype": "text/x-python",
   "name": "python",
   "nbconvert_exporter": "python",
   "pygments_lexer": "ipython3",
   "version": "3.5.1"
  }
 },
 "nbformat": 4,
 "nbformat_minor": 1
}

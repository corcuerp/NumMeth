{
 "cells": [
  {
   "cell_type": "markdown",
   "metadata": {},
   "source": [
    "# 6.4 Ajuste não linear e linearização \n",
    "\n",
    "Muitas vezes, temos dados experimentais em que o ajuste como combinação linear nos parâmetros não é adequado e não pode ser considerado. Neste caso, necessitamos de outras famílias de funções para representar adequadamente uma função representada em uma tabela.\n"
   ]
  },
  {
   "cell_type": "markdown",
   "metadata": {},
   "source": [
    "## Ajuste hiperbólico\n",
    "\n",
    "Considere os dados obtidos experimentalmente, conforme ilustrado na figura abaixo\n",
    "\n",
    "<img src=\"https://github.com/tiagoburiol/NUMETHODS/raw/master/6_APROXIMACAO_DE_FUNCOES/imagens/ajuste_hiperbolico.png\" width=\"480\">\n",
    "\n",
    "Observando a o diagrama de dispersão, vemos que a representação dos dados possui um comportamento do tipo:\n",
    "\n",
    "$$ g(x) = \\frac{1}{a_1x+a_2}$$\n",
    "\n",
    "Para encontrar os parâmetros $a_1$ e $a_2$ da forma como fizemos anteriormente, podemos linearizar a função fazendo\n",
    "\n",
    "$$ h(x) = \\frac{1}{g(x)} = a_1x+a_2 $$\n",
    "\n",
    "que aproxima a função\n",
    "\n",
    "$$ \\frac{1}{f(x)}$$\n",
    "\n",
    "e temos agora o caso do ajuste linear, já desenvolvido anteriormente.\n",
    "\n",
    "Assim, a partir da tabela original, construímos uma nova tabela\n",
    "\n",
    "\\begin{array}{cccc} \n",
    "\\hline\n",
    "x_1      &x_2       &... &x_m  \\\\ \\hline\n",
    "1/f(x_1) &1/f(x_2)  &... &1/f(x_m)  \\\\ \\hline\n",
    "\\end{array} \n",
    "\n",
    "   \n",
    "O problema agora consiste em aproximarmos a função $\\frac{1}{f(x)}$ por uma reta $h(x)=a_1x+a_2$, e o sistema de equações normais é dado por \n",
    "\n",
    "\n",
    "$$ \\begin{cases} \n",
    "\\left(\\sum_{i=1}^{m}x_i^2\\right)a_ 1 +\\left(\\sum_{i=1}^{m} x_i\\right) = \\sum_{i=1}^{m} \\frac{x_i}{f(x_i)}\\\\ \n",
    "\\left(\\sum_{i=1}^{m}x_i\\right)a_ 1 +\\left(m \\right)a_2 = \\sum_{i=1}^{m} \\frac{1}{f(x_i)}\\\\\n",
    "             \\end{cases} $$\n"
   ]
  },
  {
   "cell_type": "markdown",
   "metadata": {},
   "source": [
    "### Exemplo 1\n",
    "Considere a função f (x) tabelada nos pontos, como segue\n",
    "\n",
    "\\begin{array}{cccc} \n",
    "\\hline\n",
    "x_1      &-3.0   &-2.0   &-1.0   &-0.5   &-0.4 \\\\ \\hline\n",
    "f(x_1) &-0.13  &-0.20  &-0.49  &-2.01  &-4.99\\\\ \\hline\n",
    "\\end{array} \n",
    "\n",
    "** Solução **\n",
    "Plotando os pontos tem-se"
   ]
  },
  {
   "cell_type": "code",
   "execution_count": 5,
   "metadata": {
    "collapsed": false
   },
   "outputs": [
    {
     "data": {
      "image/png": "[encoded data removed]",
      "text/plain": [
       "<matplotlib.figure.Figure at 0x7f5d5fb8e9e8>"
      ]
     },
     "metadata": {},
     "output_type": "display_data"
    }
   ],
   "source": [
    "% matplotlib inline\n",
    "import numpy as np\n",
    "import matplotlib.pyplot as plt\n",
    "\n",
    "X = np.array([ -3.0, -2.0, -1.0, -0.5, -0.4])\n",
    "Y = np.array([ -0.13, -0.20, -0.49, -2.01, -4.99])\n",
    "# plotando\n",
    "plt.plot(X, Y, \"o\")\n",
    "plt.grid()\n",
    "plt.show()"
   ]
  },
  {
   "cell_type": "markdown",
   "metadata": {},
   "source": [
    "O que sugere um comportamento de uma função do tipo $$g(x) = \\frac{1}{a_1x+a_2}$$. \n",
    "Para confirmar, e verificar se a linearização do tipo $$h(x) = \\frac{1}{g(x)} = a_1x+a_2$$ irá funcionar, construímos uma nova tabela e plotamos os pontos"
   ]
  },
  {
   "cell_type": "code",
   "execution_count": 19,
   "metadata": {
    "collapsed": false
   },
   "outputs": [
    {
     "name": "stdout",
     "output_type": "stream",
     "text": [
      "[-7.69230769 -5.         -2.04081633 -0.49751244 -0.2004008 ]\n"
     ]
    },
    {
     "data": {
      "image/png": "[encoded data removed]",
      "text/plain": [
       "<matplotlib.figure.Figure at 0x7f5d5f8260f0>"
      ]
     },
     "metadata": {},
     "output_type": "display_data"
    }
   ],
   "source": [
    "Yl = np.power(Y, -1) \n",
    "print(Yl)\n",
    "# plotando\n",
    "plt.plot(X, Yl, \"o\")\n",
    "plt.grid()\n",
    "plt.show()"
   ]
  },
  {
   "cell_type": "markdown",
   "metadata": {},
   "source": [
    "Notamos que os pontos parecem alinhados agora, o que sugere que podemos obter $a_1$ e $a_2$ ajustando uma reta a essa nova tabela"
   ]
  },
  {
   "cell_type": "code",
   "execution_count": 21,
   "metadata": {
    "collapsed": false
   },
   "outputs": [
    {
     "name": "stdout",
     "output_type": "stream",
     "text": [
      "Parâmetros a1= 2.89521778368  e a2 = 0.909193089823\n"
     ]
    },
    {
     "data": {
      "image/png": "[encoded data removed]",
      "text/plain": [
       "<matplotlib.figure.Figure at 0x7f5d5d81c9b0>"
      ]
     },
     "metadata": {},
     "output_type": "display_data"
    },
    {
     "data": {
      "image/png": "[encoded data removed]",
      "text/plain": [
       "<matplotlib.figure.Figure at 0x7f5d5d8173c8>"
      ]
     },
     "metadata": {},
     "output_type": "display_data"
    }
   ],
   "source": [
    "# montando a matriz do sistema\n",
    "A = np.array([[np.sum(X * X), np.sum(X)],\n",
    "              [np.sum(X),     len(X)]])\n",
    "B = np.array([np.sum(X*Yl),\n",
    "              np.sum(Yl)])\n",
    "# resolvendo\n",
    "a = solve(A, B)\n",
    "print (\"Parâmetros a1=\", a[0],\" e a2 =\", a[1])\n",
    "\n",
    "# lista de pontos para os plots\n",
    "Xr = np.linspace(X[0], X[-1], 50)\n",
    "\n",
    "#reta\n",
    "h = lambda X: a[0]*X + a[1]\n",
    "# plotando\n",
    "plt.plot(X, Yl, \"b.\", Xr, h(Xr), \"r-\") \n",
    "plt.grid()\n",
    "plt.show()\n",
    "  \n",
    "# hipérbole\n",
    "g = lambda X: np.power(a[0]*X+a[1], -1)\n",
    "Yr = g(Xr)\n",
    "# plotando\n",
    "plt.plot(X, Y, \"b.\", Xr, g(Xr), \"r-\") \n",
    "plt.grid()\n",
    "plt.show()"
   ]
  },
  {
   "cell_type": "markdown",
   "metadata": {},
   "source": [
    "## Ajuste exponencial\n",
    "\n",
    "Podemos obter dados experimentais dispostos conforme ilustrado na figura abaixo, a qual sugere que devemos aproximar a função observada por uma função $g(x)$ da forma $g(x) = a(b)^x$ com os parâmetros $a$ e $b$ positivos.\n",
    "<img src=\"https://github.com/tiagoburiol/NUMETHODS/raw/master/6_APROXIMACAO_DE_FUNCOES/imagens/ajuste_exp.png\" width=\"480\">\n",
    "\n",
    "O método dos mínimos quadrados desenvolvido anteriormente pode ser usado\n",
    "fazendo-se a seguinte transformação\n",
    "\n",
    "$$ h(x) = ln(g(x)) = ln(a(b)^x) = ln(a) + xln(b)$$\n",
    "\n",
    "Então, fazendo \n",
    "\n",
    "$$ a_1 = ln(a) \\to e^{a_1}=a$$\n",
    "\n",
    "$$ a_2 = ln(b) \\to e^{a_2}=b$$\n",
    "\n",
    "temos a linearização \n",
    "\n",
    "$$h(x) = a_1 + a_2x$$\n",
    "\n",
    "Então, construímos ma nova tabela \n",
    "\n",
    "\\begin{array}{cccc} \n",
    "\\hline\n",
    "x_1        &x_2         &... &x_m  \\\\ \\hline\n",
    "ln(f(x_1)) &ln(f(x_2))  &... &ln(f(x_m))  \\\\ \\hline\n",
    "\\end{array} \n",
    "\n",
    "e buscamos os parâmetros $a_1$ e $a_2$ que ajustam uma reta a esses dados, ou seja, buscamos a solução do sistema\n",
    "\n",
    "$$ \\begin{cases} \n",
    "\\left(\\sum_{i=1}^{m}x_i^2\\right)a_ 1 +\\left(\\sum_{i=1}^{m} x_i\\right)a_2 =  \\sum_{i=1}^{m} ln(f(x_i))x_i \\\\ \n",
    "\\left(\\sum_{i=1}^{m}x_i\\right)a_ 1 +\\left(m \\right)a_2 = \\sum_{i=1}^{m} ln(f(x_i))\\\\\n",
    "             \\end{cases} $$"
   ]
  },
  {
   "cell_type": "code",
   "execution_count": null,
   "metadata": {
    "collapsed": true
   },
   "outputs": [],
   "source": []
  },
  {
   "cell_type": "code",
   "execution_count": 24,
   "metadata": {
    "collapsed": false
   },
   "outputs": [
    {
     "name": "stdout",
     "output_type": "stream",
     "text": [
      "[ 0.35554547  3.47031451]\n"
     ]
    },
    {
     "data": {
      "image/png": "[encoded data removed]",
      "text/plain": [
       "<matplotlib.figure.Figure at 0x7f5d5d82b6a0>"
      ]
     },
     "metadata": {},
     "output_type": "display_data"
    },
    {
     "data": {
      "image/png": "[encoded data removed]",
      "text/plain": [
       "<matplotlib.figure.Figure at 0x7f5d5d7db400>"
      ]
     },
     "metadata": {},
     "output_type": "display_data"
    }
   ],
   "source": [
    "import math\n",
    "import numpy as np\n",
    "from scipy.linalg import solve\n",
    "import matplotlib.pyplot as plt\n",
    "\n",
    "X = np.array([ 0.0, 1.0, 2.0, 3.0, 4.0, 5.0, 6.0])\n",
    "Y = np.array([ 32., 47., 65., 92., 132., 190., 275])\n",
    "Yl = np.log(Y) \n",
    "\n",
    "# montando a matriz do sistema\n",
    "A = np.array([[np.sum(X*X), np.sum(X)],\n",
    "              [np.sum(X),   len(X)]])\n",
    "B = np.array([np.sum(X*Yl), np.sum(Yl)])\n",
    "\n",
    "a = solve(A, B)\n",
    "print (a)\n",
    "\n",
    "# lista de pontos para os plots\n",
    "Xr = np.linspace(X[0], X[-1], 51)\n",
    "#reta\n",
    "h = lambda X: a[0]*X + a[1]\n",
    "# plotando\n",
    "plt.plot(X, Yl, \"r.\", Xr, h(Xr), \"-\") \n",
    "plt.grid()\n",
    "plt.show()\n",
    "  \n",
    "# hipérbole\n",
    "k = math.exp(a[1])\n",
    "b = math.exp(a[0])\n",
    "g = lambda X: k*np.power(b,X)\n",
    "\n",
    "Yr = g(Xr)\n",
    "# plotando\n",
    "plt.plot(X, Y, \"r.\", Xr, g(Xr), \"-\") \n",
    "plt.grid()\n",
    "plt.show()"
   ]
  },
  {
   "cell_type": "code",
   "execution_count": null,
   "metadata": {
    "collapsed": true
   },
   "outputs": [],
   "source": []
  }
 ],
 "metadata": {
  "kernelspec": {
   "display_name": "Python 3",
   "language": "python",
   "name": "python3"
  },
  "language_info": {
   "codemirror_mode": {
    "name": "ipython",
    "version": 3
   },
   "file_extension": ".py",
   "mimetype": "text/x-python",
   "name": "python",
   "nbconvert_exporter": "python",
   "pygments_lexer": "ipython3",
   "version": "3.5.1"
  }
 },
 "nbformat": 4,
 "nbformat_minor": 0
}

{
 "cells": [
  {
   "cell_type": "markdown",
   "metadata": {},
   "source": [
    "# 3.2 Localização de Raízes\n",
    "\n",
    "Muitos problemas em ciências e engenharia envolvem a resolução de uma equação que pode ser colocada na forma \n",
    "\n",
    "\n",
    "$$f(x)=0$$ \n",
    "\n",
    "Em alguns casos a solução exata $\\overline{x}$ pode ser encontrada por processos analíticos, quando isso não for possível, uma solução aproximada pode ser obtida por métodos numéricos. \n",
    "\n",
    "Em geral, métodos numéricos fornecem uma sequência de aproximações obtidas por um processo iterativo que tem seu fim quando a precisão desejada é atingida. Graficamente as raízes da equação $f(x)=0$ (ou zeros da função $f$ correspondem aos pontos onde o gráfico de $f$ intercepta o eixo $x$. Na figura abaixo, a função $f$ possui 5 zeros representados por $\\overline{x}_1$, $\\overline{x}_2$, $\\overline{x}_3$, $\\overline{x}_4$ e $\\overline{x}_5$.\n",
    "\n",
    "![localizacao.png](https://github.com/tiagoburiol/NUMETHODS/raw/master/3_ZEROS_DE_FUNCOES/images/localizacao.png)\n",
    "\n",
    "\n",
    "Por exemplo, é relativamente fácil obter analiticamente as raízes das equações \n",
    "\n",
    "a) $2.1x-47.3 = 0$\n",
    "\n",
    "b) $x^2+2x-3 = 0$\n",
    "\n",
    "c) $senx-x = 0$\n",
    "\n",
    "Já para as equações a seguir é preferível utilizar-se de métodos numéricos\n",
    "\n",
    "a) $xe^x-2 = 0$\n",
    "\n",
    "b) $cos3\\theta-sen\\theta =0$\n",
    "\n",
    "c) $2.1^x+5.7x=0$\n",
    "\n",
    "Encontrar numericamente a raiz de uma equação requer duas etapas:\n",
    "\n",
    "1. Isolar a raiz, ou seja, encontrar um intervalo $[a,b]$ contendo uma única raíz da equação $f(x)=0$ e;\n",
    "\n",
    "2. Refinar o intervalo que contém a raíz até atingir a precisão desejada.\n",
    "\n",
    "\n",
    "Para isolar os zeros de uma função, podemos utilizar métodos gráficos ou testar valores numericamente. Um dos métodos gráficos consiste em rescrever a equação $f(x)=0$ numa forma equivamente $f_1(x)=f_2(x)$ e traçar os gráficos de $f_1$ e $f_2$ para verificar onde eles se interceptam. Outra abordagem seria atribuir valores arbitrários para a variável $x$ e encontrar um par $a$ e $b$ tal que $f(a)\\cdot f(b)<0$.\n",
    "\n",
    "## Exemplo 1\n",
    "\n",
    "A equação $f(x)=e^x-sen(x)-2=0$ pode ser escrita como $e^x=senx+2$ então, esboçando os gráficos de $f_1(x)=e^x$ e $f_2(x)=senx+2$, observamos que \n",
    "a raiz procurada está entre  $0.5$ e $1.5$, como pode ser visto na figura abaixo\n",
    "![ex1](https://github.com/tiagoburiol/NUMETHODS/raw/master/3_ZEROS_DE_FUNCOES/images/exemplo1)\n",
    "\n",
    "\n",
    "## Exemplo 2\n",
    "Atribuindo valores para $x$ e avaliando a função $f(x)=e^x-sen(x)-2$ para esses valores obtemos:\n",
    "\n",
    "    f(0.0) = -1.0000  \n",
    "    f(0.5) = -0.8307  \n",
    "    f(1.0) = -0.1232  \n",
    "    f(1.5) = 1.4842 \n",
    "    f(2.0) = 4.4798 \n",
    "    f(2.5) = 9.5840 \n",
    "\n",
    "Como $f(1.0) \\cdot f(1.5)<0$, podemos concluir que existe pelo menos uma raíz entre $1.0$ e $1.5$.\n",
    "\n",
    "Ainda, considerando essa mesma função, podemos verificar a existência de uma única raíz no intervalo $[1.0, 1.5]$ plotando seu gráfico\n",
    "\n",
    "![ex2](https://github.com/tiagoburiol/NUMETHODS/raw/master/3_ZEROS_DE_FUNCOES/images/exemplo2)\n",
    "\n",
    "Em Python, podemos plotar os gráficos de $f_1(x)=e^x$ e $f_2(x)=sen(x)+2$ usando o seguinte script:"
   ]
  },
  {
   "cell_type": "code",
   "execution_count": 10,
   "metadata": {},
   "outputs": [
    {
     "data": {
      "image/png": "[encoded data removed]",
      "text/plain": [
       "<matplotlib.figure.Figure at 0x7fb2c7fd74e0>"
      ]
     },
     "metadata": {},
     "output_type": "display_data"
    }
   ],
   "source": [
    "% matplotlib inline\n",
    "import numpy as np\n",
    "import matplotlib.pyplot as plt\n",
    "\n",
    "x = np.arange(0.5, 1.5, 0.1)\n",
    "f1 = lambda x: np.exp(x)\n",
    "f2 = lambda x: np.sin(x)+2\n",
    "\n"
   ]
  },
  {
   "cell_type": "markdown",
   "metadata": {},
   "source": [
    "Ou, então, plotar apenas o gráfico de $f(x)=e^x - sen(x) -2$ usando o seguinte script:\n"
   ]
  },
  {
   "cell_type": "code",
   "execution_count": 12,
   "metadata": {},
   "outputs": [
    {
     "data": {
      "image/png": "[encoded data removed]",
      "text/plain": [
       "<matplotlib.figure.Figure at 0x7fb2c7f42f60>"
      ]
     },
     "metadata": {},
     "output_type": "display_data"
    }
   ],
   "source": [
    "% matplotlib inline\n",
    "import numpy as np\n",
    "import matplotlib.pyplot as plt\n",
    "\n",
    "x = np.arange(0.0, 2.0, 0.2)\n",
    "f = lambda x: np.exp(x)-np.sin(x)-2\n",
    "\n",
    "plt.plot(x, f(x))\n",
    "plt.grid()\n",
    "plt.show()"
   ]
  },
  {
   "cell_type": "code",
   "execution_count": null,
   "metadata": {
    "collapsed": true
   },
   "outputs": [],
   "source": []
  }
 ],
 "metadata": {
  "kernelspec": {
   "display_name": "Python 3",
   "language": "python",
   "name": "python3"
  },
  "language_info": {
   "codemirror_mode": {
    "name": "ipython",
    "version": 3
   },
   "file_extension": ".py",
   "mimetype": "text/x-python",
   "name": "python",
   "nbconvert_exporter": "python",
   "pygments_lexer": "ipython3",
   "version": "3.6.4"
  }
 },
 "nbformat": 4,
 "nbformat_minor": 1
}

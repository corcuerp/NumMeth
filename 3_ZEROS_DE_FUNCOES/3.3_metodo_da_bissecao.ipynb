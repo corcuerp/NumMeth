{
 "cells": [
  {
   "cell_type": "markdown",
   "metadata": {},
   "source": [
    "# 3.3. Método da Bisseção\n",
    "\n",
    "Muitos problemas em ciências e engenharia envolvem a resolução de uma equação que pode ser colocada na forma \n",
    "\n",
    "$$f(x)=0$$\n",
    "\n",
    "Em alguns casos a solução exata $\\overline{x}$ pode ser encontrada por processos analíticos, quando isso não for possível, uma solução aproximada pode ser obtida por métodos numéricos.\n",
    "\n",
    "Encontrar um solução para equação $f(x)=0$  por métodos numéricos consiste em gerar uma sequência de soluções aproximadas, a partir de uma aproximação inicial $x_0$. Caso os valores obtidos pelo processo iterativo estejam se aproximando da solução exata $\\overline{x}$, dizemos que a sequência está convergindo para a solução. \n",
    "\n",
    "O {\\it Método da Bisseção} é o método numérico para resolução de equações do tipo $f(x)=0$, no qual, a partir de um intervalo inicial $[a,b]$ contendo uma única raiz, é gerada uma sequência de subintervalos, dividindo-se, a cada iteração, o intervalo que contém a raiz em dois subintervalos de mesma amplitude. A cada passo, é verificado qual dos dois subintervalos contém a raizutilizando o teorema de Bolzano (ou Teorema do Valor Intermediário), enunciado abaixo. \n",
    "\n",
    "### Teorema de Bolzano:\n",
    "\n",
    "Se $f(x)$ é contínua em $[a,b]$ e $f(a)\\cdot f(b)<0$, então existe pelo menos uma raíz $ \\overline{x} \\in [a,b]$ tal que $f(x)=0$.\n",
    "\n",
    "![localizacao.png](https://github.com/tiagoburiol/NUMETHODS/raw/master/3_ZEROS_DE_FUNCOES/images/bolzano.png)\n",
    "\n",
    "A sequência de subintervalos será calculada até que a amplitude do intervalo obtido menor que uma tolerância pré estabelecida. Assim, podemos descrever o processo no seguinte algoritmo:\n",
    "\n",
    "1. Determinar um intervalo inicial $[a,b]$ contendo uma única raíz de $f$;\n",
    "\n",
    "2. Calcular o ponto médio $x_m=\\frac{b+a}{2}$. \n",
    "\n",
    "3. Se $|b-a|>\\epsilon$ ou $E_{rel}<\\epsilon$ segue, senão, assumir $\\overline{x}\\approx x_m$ e parar;\n",
    "\n",
    "4. Se $f(x_m)=0$, então, a raiz $\\overline{x}$ é o próprio $x_m$;\n",
    "\n",
    "5. Se $f(a)\\cdot f(x_m)<0$ fazemos $b=x_m$, senão fazemos $a=x_m$  e voltamos ao passo 2;\n",
    "\n",
    "### Número de iterações\n",
    "Podemos estimar o número de iterações necessárias para encontrar a aproximação para a raiz $\\overline{x}$ com a precisão desejada. Considerando que a cada iteração o intervalo é dividido ao meio, então na n-ésima iteração tem-se um intervalo de amplitude $\\frac{b-a}{2^n}$, então, queremos que \n",
    "\n",
    "$$\\frac{b-a}{2^{n+1}}<\\epsilon$$\n",
    "\n",
    "ou \n",
    "\n",
    "$$ log\\left( \\frac{b-a}{2^{n+1}}\\right)<log(\\epsilon)$$\n",
    "\n",
    "que leva a\n",
    "\n",
    "$$ n>\\frac{log(b-a)-log(\\epsilon)}{log2}-1$$\n",
    "\n",
    "Assim, $n$ é o número mínimo de iterações que devem ser realizadas para se obter $\\overline{x}$ com precisão $\\epsilon$.\n"
   ]
  },
  {
   "cell_type": "markdown",
   "metadata": {},
   "source": [
    "### Exemplo 1\n",
    "Usando o método da bisseção, resolva a equação $x^2+ln(x)=0$, com $\\epsilon = 0.01$. \n",
    "\n",
    "*Solução:* Reescrevendo a equação como $x^2=-ln(x)$ e esboçando os gráficos de $f_1(x)=x^2$ e $f_2(x)=-ln(x)$ observamos que existe uma raiz no intervalo $[0.1,1]$.\n",
    "\n",
    "\n",
    "<img src=\"https://github.com/tiagoburiol/NUMETHODS/raw/master/3_ZEROS_DE_FUNCOES/images/3.3_exemplo_1loc.png\" width=\"400\">\n",
    "\n",
    "Então, na primeira iteração fazemos $x_m = \\frac{a+b}{2}=\\frac{1.0-0.1}{2}=0.55$. Como $f(a)=f(0.1)=-2.293$, $f(b)=f(1.0)=1$ e $f(x_m)=f(0.55)=-0.295$ temos que a raíz está no intervalo $[x_m,b]$. Além disso, $\\frac{|x_1-x_0|}{|x_0|}=0.2953$ é maior que $\\epsilon = 0.01$. Então seguimos o processo iterativo obtendo a sequência abaixo.\n",
    "\n",
    "<img src=\"https://github.com/tiagoburiol/NUMETHODS/raw/master/3_ZEROS_DE_FUNCOES/images/3.3_exemplo_1tab.png\" width=\"500\">\n"
   ]
  },
  {
   "cell_type": "code",
   "execution_count": 9,
   "metadata": {},
   "outputs": [
    {
     "name": "stdout",
     "output_type": "stream",
     "text": [
      "x = 0.5500 | Erro = 1.0000\n",
      "x = 0.7750 | Erro = 0.2903\n",
      "x = 0.6625 | Erro = 0.1698\n",
      "x = 0.6063 | Erro = 0.0928\n",
      "x = 0.6344 | Erro = 0.0443\n",
      "x = 0.6484 | Erro = 0.0217\n",
      "x = 0.6555 | Erro = 0.0107\n",
      "x = 0.6520 | Erro = 0.0054\n"
     ]
    }
   ],
   "source": [
    "import math\n",
    "a = 0.1; b = 1.0; err = 10.0; x_ant = 0.0\n",
    "\n",
    "f = lambda x: x**2 + math.log(x)\n",
    "\n",
    "while err > 0.01:\n",
    "    x = (a+b)/2.0\n",
    "    if f(x)*f(a) < 0:\n",
    "        b = x\n",
    "    else:\n",
    "        a = x\n",
    "    err = abs(x - x_ant)/abs(x)\n",
    "    x_ant = x\n",
    "    print (\"x = %.4f\"%x,\"| Erro = %.4f\"% err)"
   ]
  },
  {
   "cell_type": "markdown",
   "metadata": {
    "collapsed": true
   },
   "source": [
    "### Exemplo 2\n",
    "Calcular, pelo método da bisseção, corretamente até a terceira casa decimal, a raiz da equação  $ \\left( \\frac{x}{2} \\right)^2 -sen(x) = 0 $, localizada no intervalo ($a_0=1,5$ e $b_0=2$)."
   ]
  },
  {
   "cell_type": "code",
   "execution_count": 9,
   "metadata": {},
   "outputs": [
    {
     "name": "stdout",
     "output_type": "stream",
     "text": [
      "x = 1.7500 | Err = 1.7500\n",
      "x = 1.8750 | Err = 0.1250\n",
      "x = 1.9375 | Err = 0.0625\n",
      "x = 1.9062 | Err = 0.0312\n",
      "x = 1.9219 | Err = 0.0156\n",
      "x = 1.9297 | Err = 0.0078\n",
      "x = 1.9336 | Err = 0.0039\n",
      "x = 1.9355 | Err = 0.0020\n",
      "x = 1.9346 | Err = 0.0010\n",
      "x = 1.9341 | Err = 0.0005\n",
      "x = 1.9338 | Err = 0.0002\n",
      "x = 1.9337 | Err = 0.0001\n",
      "x = 1.9338 | Err = 0.0001\n"
     ]
    }
   ],
   "source": [
    "import math\n",
    "a = 1.5\n",
    "b = 2.0\n",
    "err = 10.0\n",
    "x_ant = 0.0\n",
    "\n",
    "def f(x):\n",
    "    y = (0.5*x)**2-math.sin(x)\n",
    "    return y\n",
    "\n",
    "while err>0.0001:\n",
    "    x = (a+b)/2.0\n",
    "    if f(x)*f(a) < 0:\n",
    "        b = x\n",
    "    elif f(x)*f(a) > 0:\n",
    "        a = x\n",
    "    else:\n",
    "        print (\"A raiz exata é x=\", x)\n",
    "        break \n",
    "    err = abs(x-x_ant)\n",
    "    x_ant = x\n",
    "    print (\"x = %.4f\"%x,\"| Err = %.4f\"% err)"
   ]
  },
  {
   "cell_type": "code",
   "execution_count": null,
   "metadata": {},
   "outputs": [],
   "source": []
  }
 ],
 "metadata": {
  "kernelspec": {
   "display_name": "Python 3",
   "language": "python",
   "name": "python3"
  },
  "language_info": {
   "codemirror_mode": {
    "name": "ipython",
    "version": 3
   },
   "file_extension": ".py",
   "mimetype": "text/x-python",
   "name": "python",
   "nbconvert_exporter": "python",
   "pygments_lexer": "ipython3",
   "version": "3.6.4"
  }
 },
 "nbformat": 4,
 "nbformat_minor": 1
}
